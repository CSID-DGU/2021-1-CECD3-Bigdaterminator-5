{
 "cells": [
  {
   "cell_type": "code",
   "execution_count": 47,
   "metadata": {},
   "outputs": [
    {
     "name": "stdout",
     "output_type": "stream",
     "text": [
      "(1, 3)\n",
      "\n"
     ]
    },
    {
     "data": {
      "text/html": [
       "<div>\n",
       "<style scoped>\n",
       "    .dataframe tbody tr th:only-of-type {\n",
       "        vertical-align: middle;\n",
       "    }\n",
       "\n",
       "    .dataframe tbody tr th {\n",
       "        vertical-align: top;\n",
       "    }\n",
       "\n",
       "    .dataframe thead th {\n",
       "        text-align: right;\n",
       "    }\n",
       "</style>\n",
       "<table border=\"1\" class=\"dataframe\">\n",
       "  <thead>\n",
       "    <tr style=\"text-align: right;\">\n",
       "      <th></th>\n",
       "      <th>제목</th>\n",
       "      <th>본문</th>\n",
       "      <th>댓글</th>\n",
       "    </tr>\n",
       "  </thead>\n",
       "  <tbody>\n",
       "    <tr>\n",
       "      <th>8</th>\n",
       "      <td>충격 응급수술 필요한 병사 코로나 핑계로 끝까지 휴가 안보내줘 지체 장애인 만든 군...</td>\n",
       "      <td>출처 요약 기갑여단 박격포 장갑차 조종수로 복무하던 글쓴이 고된 훈련과 군 복무로 ...</td>\n",
       "      <td>좆병신련들 진짜 살인 마렵다 왤캐 군대는 쓰레기들만 꼬이는 거임자기 복무랑 진급에 ...</td>\n",
       "    </tr>\n",
       "  </tbody>\n",
       "</table>\n",
       "</div>"
      ],
      "text/plain": [
       "                                                  제목  \\\n",
       "8  충격 응급수술 필요한 병사 코로나 핑계로 끝까지 휴가 안보내줘 지체 장애인 만든 군...   \n",
       "\n",
       "                                                  본문  \\\n",
       "8  출처 요약 기갑여단 박격포 장갑차 조종수로 복무하던 글쓴이 고된 훈련과 군 복무로 ...   \n",
       "\n",
       "                                                  댓글  \n",
       "8  좆병신련들 진짜 살인 마렵다 왤캐 군대는 쓰레기들만 꼬이는 거임자기 복무랑 진급에 ...  "
      ]
     },
     "execution_count": 47,
     "metadata": {},
     "output_type": "execute_result"
    }
   ],
   "source": [
    "import pandas as pd\n",
    "\n",
    "data = pd.read_csv('fm_엑셀확인용.csv')\n",
    "\n",
    "# csv 파일 컬럼 값에 Top 10 Keyword 문자열이 포함되어 있는지 확인\n",
    "\n",
    "data_including_keywords = data['제목'].str.contains(\"간부\", na=False)\n",
    "data_including_keywords = data['본문'].str.contains(\"간부\", na=False)\n",
    "data_including_keywords = data['댓글'].str.contains(\"간부\", na=False)\n",
    "\n",
    "subset_df = data[data_including_keywords]\n",
    "\n",
    "# 결과 출력\n",
    "print(subset_df.shape)\n",
    "print()\n",
    "\n",
    "subset_df\n",
    "\n",
    "# df = pd.DataFrame(subset_df) \n",
    "# df.to_csv('FM_키워드포함.csv', index = False, encoding=\"utf-8-sig\")"
   ]
  },
  {
   "cell_type": "code",
   "execution_count": 48,
   "metadata": {},
   "outputs": [
    {
     "name": "stdout",
     "output_type": "stream",
     "text": [
      "전처리 후 테스트용 샘플 개수 : 1\n"
     ]
    }
   ],
   "source": [
    "import json\n",
    "import csv\n",
    "import nltk\n",
    "import re\n",
    "import sys\n",
    "import pandas as pd\n",
    "import numpy as np\n",
    "from konlpy.tag import Komoran\n",
    "from konlpy.corpus import kolaw\n",
    "from konlpy.tag import Okt\n",
    "from nltk import Text\n",
    "from collections import Counter\n",
    "from collections import defaultdict\n",
    "from keras.preprocessing.text import Tokenizer\n",
    "import matplotlib.pyplot as plt\n",
    "\n",
    "data = pd.read_csv('FM_키워드포함.csv')\n",
    "\n",
    "#데이터 정제\n",
    "data['제목'] = data['제목'].str.replace(\"[^ㄱ-ㅎㅏ-ㅣ가-힣 ]\",\"\")\n",
    "data['본문'] = data['본문'].str.replace(\"[^ㄱ-ㅎㅏ-ㅣ가-힣 ]\",\"\")\n",
    "data['댓글'] = data['댓글'].str.replace(\"[^ㄱ-ㅎㅏ-ㅣ가-힣 ]\",\"\")\n",
    "data['제목'] = data['제목'].str.replace('^ +', \"\") # 공백은 empty 값으로 변경\n",
    "data['본문'] = data['본문'].str.replace('^ +', \"\") \n",
    "data['댓글'] = data['댓글'].str.replace('^ +', \"\") \n",
    "data['제목'].replace('', np.nan, inplace=True) # 공백은 Null 값으로 변경\n",
    "data['본문'].replace('', np.nan, inplace=True) \n",
    "data['댓글'].replace('', np.nan, inplace=True)\n",
    "data = data.dropna(how='any') # Null 값 제거\n",
    "print('전처리 후 테스트용 샘플 개수 :',len(data))\n",
    "\n",
    "data.values\n",
    "values = \"\".join(str(i) for i in data.values)\n",
    "\n",
    "#print(values)\n",
    "\n",
    "#데이터 토큰화\n",
    "fm_data = []\n",
    "okt = Okt()\n",
    "fm_morphs = okt.morphs(values, stem = True)\n",
    "fm_morphs = [fm_morphs for fm_morphs in fm_morphs if len(fm_morphs) >= 2]\n",
    "\n",
    "#불용어 처리\n",
    "bool_words = ['태그', '지원', '으로', '시키다', '브라우저', '새끼', '이랑', '사람', '생각', '정도', '얼굴', '섹스', '진짜', '하는', '그냥', '같은', '있는', '이런', '근데', '하고']\n",
    "for word in fm_morphs:\n",
    "    if word in bool_words:\n",
    "        while word in fm_morphs: \n",
    "            fm_morphs.remove(word)\n",
    "fm_data = fm_morphs\n",
    "#print(fm_morphs)\n",
    "\n",
    "#감성 사전 읽어오기\n",
    "table = dict()\n",
    "\n",
    "with open('polarity.csv', 'r', -1, encoding = 'cp949') as polarity:\n",
    "    next(polarity)\n",
    "    \n",
    "    for line in csv.reader(polarity):\n",
    "        key = str()\n",
    "        for word in line[0].split(';'):\n",
    "            key+=word.split('/')[0]\n",
    "        table[key] = {'Neg': line[3], 'Neut':line[4], 'Pos':line[6]}\n",
    "\n",
    "columns = ['부정', '중립', '긍정']\n",
    "df=pd.DataFrame(columns=columns)\n",
    "df\n",
    "\n",
    "#감성 분석 진행\n",
    "def setiment_analysis(start, end):\n",
    "    \n",
    "    negative_list = []\n",
    "    neutral_list = []\n",
    "    positive_list = []\n",
    "    \n",
    "    negative = 0\n",
    "    neutral = 0\n",
    "    positive = 0\n",
    "    \n",
    "    for word in fm_data:\n",
    "        if word in table:\n",
    "            negative += float(table[word]['Neg'])\n",
    "            neutral += float(table[word]['Neut'])\n",
    "            positive += float(table[word]['Pos'])\n",
    "            \n",
    "    negative_list.append(negative)\n",
    "    neutral_list.append(neutral)\n",
    "    positive_list.append(positive)\n",
    "    \n",
    "    df['부정'] = negative_list\n",
    "    df['중립'] = neutral_list\n",
    "    df['긍정'] = positive_list\n",
    "    \n",
    "    #시각화\n",
    "    ratio = [negative_list, neutral_list, positive_list]\n",
    "    labels = ['negative', 'neutral', 'positive']\n",
    "    plt.pie(ratio, labels=labels, autopct='%.2f%%')\n",
    "    plt.show()\n",
    "    "
   ]
  },
  {
   "cell_type": "code",
   "execution_count": 49,
   "metadata": {},
   "outputs": [
    {
     "name": "stderr",
     "output_type": "stream",
     "text": [
      "C:\\ProgramData\\Anaconda3\\lib\\site-packages\\ipykernel_launcher.py:96: MatplotlibDeprecationWarning: Non-1D inputs to pie() are currently squeeze()d, but this behavior is deprecated since 3.1 and will be removed in 3.3; pass a 1D array instead.\n"
     ]
    },
    {
     "data": {
      "image/png": "[encoded data removed]",
      "text/plain": [
       "<Figure size 432x288 with 1 Axes>"
      ]
     },
     "metadata": {},
     "output_type": "display_data"
    }
   ],
   "source": [
    "setiment_analysis(0,500)"
   ]
  },
  {
   "cell_type": "code",
   "execution_count": 50,
   "metadata": {},
   "outputs": [
    {
     "data": {
      "text/html": [
       "<div>\n",
       "<style scoped>\n",
       "    .dataframe tbody tr th:only-of-type {\n",
       "        vertical-align: middle;\n",
       "    }\n",
       "\n",
       "    .dataframe tbody tr th {\n",
       "        vertical-align: top;\n",
       "    }\n",
       "\n",
       "    .dataframe thead th {\n",
       "        text-align: right;\n",
       "    }\n",
       "</style>\n",
       "<table border=\"1\" class=\"dataframe\">\n",
       "  <thead>\n",
       "    <tr style=\"text-align: right;\">\n",
       "      <th></th>\n",
       "      <th>부정</th>\n",
       "      <th>중립</th>\n",
       "      <th>긍정</th>\n",
       "    </tr>\n",
       "  </thead>\n",
       "  <tbody>\n",
       "    <tr>\n",
       "      <th>0</th>\n",
       "      <td>244.099291</td>\n",
       "      <td>25.490231</td>\n",
       "      <td>121.650713</td>\n",
       "    </tr>\n",
       "  </tbody>\n",
       "</table>\n",
       "</div>"
      ],
      "text/plain": [
       "           부정         중립          긍정\n",
       "0  244.099291  25.490231  121.650713"
      ]
     },
     "execution_count": 50,
     "metadata": {},
     "output_type": "execute_result"
    }
   ],
   "source": [
    "df.to_csv('FM_sentiment_analysis.csv', index = False)\n",
    "ds = pd.read_csv('FM_sentiment_analysis.csv')\n",
    "ds"
   ]
  },
  {
   "cell_type": "code",
   "execution_count": null,
   "metadata": {},
   "outputs": [],
   "source": []
  }
 ],
 "metadata": {
  "kernelspec": {
   "display_name": "Python 3",
   "language": "python",
   "name": "python3"
  },
  "language_info": {
   "codemirror_mode": {
    "name": "ipython",
    "version": 3
   },
   "file_extension": ".py",
   "mimetype": "text/x-python",
   "name": "python",
   "nbconvert_exporter": "python",
   "pygments_lexer": "ipython3",
   "version": "3.7.7"
  }
 },
 "nbformat": 4,
 "nbformat_minor": 4
}
