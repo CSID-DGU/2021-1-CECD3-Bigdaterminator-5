{
 "cells": [
  {
   "cell_type": "code",
   "execution_count": null,
   "metadata": {},
   "outputs": [],
   "source": [
    "import json\n",
    "import csv\n",
    "import pandas as pd\n",
    "from konlpy.tag import Komoran\n",
    "from konlpy.corpus import kolaw\n",
    "from konlpy.tag import Okt\n",
    "import nltk\n",
    "from nltk import Text\n",
    "from collections import Counter\n",
    "\n",
    "data = pd.read_csv('fm.csv',encoding = 'cp949', engine = 'python')\n",
    "data.values\n",
    "values = \"\".join(str(i) for i in data.values)\n",
    "\n",
    "komoran = Komoran() \n",
    "\n",
    "total_morphs = komoran.morphs(values)\n",
    "\n",
    "print(\"전체 형태소 개수: \")\n",
    "print(len(total_morphs))\n",
    "\n",
    "nouns = komoran.nouns(values)\n",
    "print(\"전체 명사 개수: \")\n",
    "print(len(nouns))\n",
    "\n",
    "nouns = [noun for noun in nouns if len(noun) >= 2]\n",
    "\n",
    "bool_words = ['이랑', '사람', '생각', '정도', '얼굴', '섹스', '문제']\n",
    "\n",
    "for word in nouns:\n",
    "    if word in bool_words:\n",
    "        while word in nouns: \n",
    "            nouns.remove(word)\n",
    "\n",
    "word_cnt = Counter(nouns).most_common()\n",
    "total_df = pd.DataFrame(word_cnt, columns = ['단어', '빈도수'])\n",
    "total_df.head(10)"
   ]
  },
  {
   "cell_type": "code",
   "execution_count": null,
   "metadata": {},
   "outputs": [],
   "source": []
  },
  {
   "cell_type": "code",
   "execution_count": null,
   "metadata": {},
   "outputs": [],
   "source": []
  }
 ],
 "metadata": {
  "kernelspec": {
   "display_name": "Python 3",
   "language": "python",
   "name": "python3"
  },
  "language_info": {
   "codemirror_mode": {
    "name": "ipython",
    "version": 3
   },
   "file_extension": ".py",
   "mimetype": "text/x-python",
   "name": "python",
   "nbconvert_exporter": "python",
   "pygments_lexer": "ipython3",
   "version": "3.7.6"
  }
 },
 "nbformat": 4,
 "nbformat_minor": 4
}
