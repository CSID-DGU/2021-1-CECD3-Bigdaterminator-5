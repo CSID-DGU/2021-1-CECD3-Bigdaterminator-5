{
 "cells": [
  {
   "cell_type": "code",
   "execution_count": null,
   "metadata": {},
   "outputs": [],
   "source": [
    "!pip install kiwipiepy"
   ]
  },
  {
   "cell_type": "code",
   "execution_count": null,
   "metadata": {},
   "outputs": [],
   "source": [
    "from konlpy.tag import Komoran\n",
    "import json\n",
    "\n",
    "def make_token(input_file, output_file):\n",
    "    komoran = Komoran()\n",
    "    txt_file = open(output_file, \"w\", encoding = \"utf-8-sig\")\n",
    "    list = []\n",
    "    \n",
    "    with open(input_file, 'r', encoding = \"utf-8-sig\") as f:\n",
    "        text = f.readlines()\n",
    "        num = 0\n",
    "        \n",
    "        for i in range(0, len(text)):\n",
    "            sentence = text[i].strip()\n",
    "            morphs = komoran.morphs(sentence)\n",
    "            print(morphs)\n",
    "            list.append(morphs)\n",
    "            \n",
    "        print(num)\n",
    "        \n",
    "        json_string = json.dumps(list, ensure_ascii=False)\n",
    "        txt_file.write(json_string)\n",
    "        \n",
    "if __name__ == \"__main__\":\n",
    "    make_token(\"test.txt\", \"test_morphs.txt\")"
   ]
  },
  {
   "cell_type": "code",
   "execution_count": null,
   "metadata": {},
   "outputs": [],
   "source": [
    "from kiwipiepy import Kiwi, Option\n",
    "kiwi = Kiwi(num_workers=0, model_path=None, options=Option.LOAD_DEFAULT_DICTIONARY | Option.INTEGRATE_ALLOMORPH, load_default_dict=True, integrate_allomorph=True)"
   ]
  },
  {
   "cell_type": "code",
   "execution_count": null,
   "metadata": {},
   "outputs": [],
   "source": [
    "inputs = list(open('test.txt', encoding='utf-8'))\n",
    "kiwi.extract_words(inputs, min_cnt=2, max_word_len=10, min_score=0.15)"
   ]
  },
  {
   "cell_type": "code",
   "execution_count": null,
   "metadata": {},
   "outputs": [],
   "source": []
  }
 ],
 "metadata": {
  "kernelspec": {
   "display_name": "Python 3",
   "language": "python",
   "name": "python3"
  },
  "language_info": {
   "codemirror_mode": {
    "name": "ipython",
    "version": 3
   },
   "file_extension": ".py",
   "mimetype": "text/x-python",
   "name": "python",
   "nbconvert_exporter": "python",
   "pygments_lexer": "ipython3",
   "version": "3.7.7"
  }
 },
 "nbformat": 4,
 "nbformat_minor": 4
}
