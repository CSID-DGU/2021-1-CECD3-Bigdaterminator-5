{
 "cells": [
  {
   "cell_type": "code",
   "execution_count": 1,
   "id": "298677ea",
   "metadata": {},
   "outputs": [],
   "source": [
    "from bs4 import BeautifulSoup\n",
    "import time\n",
    "from selenium.webdriver import Chrome\n",
    "import openpyxl\n",
    "import pandas as pd\n",
    "import requests\n",
    "from urllib.request import urlopen\n",
    "from urllib.error import URLError, HTTPError\n",
    "import re\n",
    "#from pykospacing import spacing\n",
    "from konlpy.tag import Komoran\n",
    "#from nltk import Text"
   ]
  },
  {
   "cell_type": "code",
   "execution_count": 8,
   "id": "c17daa48",
   "metadata": {},
   "outputs": [
    {
     "ename": "AttributeError",
     "evalue": "'NoneType' object has no attribute 'text'",
     "output_type": "error",
     "traceback": [
      "\u001b[0;31m---------------------------------------------------------------------------\u001b[0m",
      "\u001b[0;31mAttributeError\u001b[0m                            Traceback (most recent call last)",
      "\u001b[0;32m<ipython-input-8-0b210756867a>\u001b[0m in \u001b[0;36m<module>\u001b[0;34m\u001b[0m\n\u001b[1;32m     18\u001b[0m     \u001b[0;32mfor\u001b[0m \u001b[0mtr\u001b[0m \u001b[0;32min\u001b[0m \u001b[0mresult\u001b[0m\u001b[0;34m:\u001b[0m\u001b[0;34m\u001b[0m\u001b[0;34m\u001b[0m\u001b[0m\n\u001b[1;32m     19\u001b[0m         \u001b[0;31m#i = BeautifulSoup(str(i), 'html.parser')\u001b[0m\u001b[0;34m\u001b[0m\u001b[0;34m\u001b[0m\u001b[0;34m\u001b[0m\u001b[0m\n\u001b[0;32m---> 20\u001b[0;31m         \u001b[0mrr_title\u001b[0m \u001b[0;34m=\u001b[0m \u001b[0mtr\u001b[0m\u001b[0;34m.\u001b[0m\u001b[0mfind\u001b[0m\u001b[0;34m(\u001b[0m\u001b[0;34m\"a\"\u001b[0m\u001b[0;34m,\u001b[0m \u001b[0mclass_\u001b[0m\u001b[0;34m=\u001b[0m\u001b[0;34m\"deco\"\u001b[0m\u001b[0;34m)\u001b[0m\u001b[0;34m.\u001b[0m\u001b[0mtext\u001b[0m\u001b[0;34m\u001b[0m\u001b[0;34m\u001b[0m\u001b[0m\n\u001b[0m\u001b[1;32m     21\u001b[0m         \u001b[0mrr_title\u001b[0m \u001b[0;34m=\u001b[0m \u001b[0mre\u001b[0m\u001b[0;34m.\u001b[0m\u001b[0msub\u001b[0m\u001b[0;34m(\u001b[0m\u001b[0;34m'[ㄱ-ㅎㅏ-ㅣa-zA-Z0-9]'\u001b[0m\u001b[0;34m,\u001b[0m \u001b[0;34m''\u001b[0m\u001b[0;34m,\u001b[0m \u001b[0mrr_title\u001b[0m\u001b[0;34m)\u001b[0m\u001b[0;34m\u001b[0m\u001b[0;34m\u001b[0m\u001b[0m\n\u001b[1;32m     22\u001b[0m         \u001b[0mrr_title\u001b[0m \u001b[0;34m=\u001b[0m \u001b[0mre\u001b[0m\u001b[0;34m.\u001b[0m\u001b[0msub\u001b[0m\u001b[0;34m(\u001b[0m\u001b[0;34m'[\\xa0|0xed]'\u001b[0m\u001b[0;34m,\u001b[0m \u001b[0;34m''\u001b[0m\u001b[0;34m,\u001b[0m \u001b[0mrr_title\u001b[0m\u001b[0;34m)\u001b[0m\u001b[0;34m\u001b[0m\u001b[0;34m\u001b[0m\u001b[0m\n",
      "\u001b[0;31mAttributeError\u001b[0m: 'NoneType' object has no attribute 'text'"
     ]
    }
   ],
   "source": [
    "browser = Chrome()\n",
    "\n",
    "title = []\n",
    "links = []\n",
    "\n",
    "for i in range(1,2):\n",
    "    browser.get(\"https://bbs.ruliweb.com/community/board/300148?view_best=1&page=\" + str(i))\n",
    "    soup = BeautifulSoup(browser.page_source, 'html.parser')\n",
    "    result = soup.find('div', {'class': 'board_main theme_default'}).findAll('tr', class_='table_body')\n",
    "    time.sleep(3)\n",
    "    \n",
    "    for tr in result:\n",
    "        f_link = tr.findAll('a', class_='deco')\n",
    "        for a in f_link:\n",
    "            conlink = a.get('href')\n",
    "            links.append(conlink)\n",
    "\n",
    "    for i in result:\n",
    "        i = BeautifulSoup(str(i), 'html.parser')\n",
    "        rr_title = tr.find(\"a\", class_=\"deco\").text\n",
    "        rr_title = re.sub('[ㄱ-ㅎㅏ-ㅣa-zA-Z0-9]', '', rr_title)\n",
    "        rr_title = re.sub('[\\xa0|0xed]', '', rr_title)\n",
    "        rr_title = re.sub('[\\U0001f61f|\\U0001f606]', '', rr_title)\n",
    "        rr_title = re.sub('[-=+_★♥♡,#/\\?:╋^$.@*\\\"※~&%ㆍ!』\\\\‘|\\(\\)\\[\\]\\<\\>`\\'…》—;]','',rr_title)\n",
    "        #rr_title = spacing(fm_title)\n",
    "        title.append(rr_title)\n",
    "        \n",
    "print({'제목': title, 'url': links}, sep='\\n')\n"
   ]
  },
  {
   "cell_type": "code",
   "execution_count": 19,
   "id": "ff5f6268",
   "metadata": {},
   "outputs": [
    {
     "name": "stdout",
     "output_type": "stream",
     "text": [
      "{'본문': ''}\n"
     ]
    }
   ],
   "source": [
    "texts = []\n",
    "#본문\n",
    "for i in links:\n",
    "    try:\n",
    "        res = requests.get(i)\n",
    "        res.raise_for_status()\n",
    "        res.endcoding = None\n",
    "        html2 = res.text\n",
    "    \n",
    "        soup = BeautifulSoup(html2, 'html.parser')\n",
    "        contentArea = soup.find(\"div\", {\"class\" : \"board_main_view\"})\n",
    "        p = contentArea.find(\"div\", {\"class\" : \"view_content\"})\n",
    "        parags = contentArea.findAll(\"article\")\n",
    "        time.sleep(3)\n",
    "        \n",
    "        content = \"\"\n",
    "\n",
    "        for parag in parags:\n",
    "            content += parag.text\n",
    "        content = re.sub('[ㄱ-ㅎㅏ-ㅣa-zA-Z0-9]', '', content)\n",
    "        content = re.sub('[&nbsp;|\\n|\\t|\\r]', '', content)\n",
    "        content = re.sub('[\\xa0|0xed]', '', content)\n",
    "        content = re.sub('[\\U0001f61f|\\U0001f606]', '', content)\n",
    "        content = re.sub('[-=+_★♥♡,#/\\?:╋^$.@*\\\"※~&%ㆍ!』\\\\‘|\\(\\)\\[\\]\\<\\>`\\'…》—;]', '', content)\n",
    "        #content = spacing(content)\n",
    "\n",
    "        texts.append(content)\n",
    "   \n",
    "    except HTTPError as e:\n",
    "        texts.append('')\n",
    "    except URLError as e:\n",
    "        texts.append('')\n",
    "    except AttributeError as e:\n",
    "        texts.append('')\n",
    "        \n",
    "print({'본문': texts}, sep='\\n')\n"
   ]
  },
  {
   "cell_type": "code",
   "execution_count": 21,
   "id": "b03dc297",
   "metadata": {},
   "outputs": [],
   "source": [
    "comments = []\n",
    "#댓글\n",
    "for i in links:\n",
    "    try:\n",
    "        res = requests.get(i)\n",
    "        res.raise_for_status()\n",
    "        res.endcoding = None\n",
    "        html2 = res.text\n",
    "\n",
    "        soup = BeautifulSoup(html2, 'html.parser')\n",
    "        contentArea = soup.find(\"div\", {\"class\" : \"comment_container\"})\n",
    "        parags = contentArea.findAll(\"span\", {\"class\" : \"text\"})\n",
    "        time.sleep(3)\n",
    "        \n",
    "        content = \"\"\n",
    "\n",
    "        for parag in parags:\n",
    "            content += parag.text\n",
    "        content = re.sub('[ㄱ-ㅎㅏ-ㅣa-zA-Z0-9]', '', content)\n",
    "        content = re.sub('[&nbsp;|\\n|\\t|\\r]', '', content)\n",
    "        content = re.sub('[\\xa0|0xed]', '', content)\n",
    "        content = re.sub('[\\U0001f61f|\\U0001f606]', '', content)\n",
    "        content = re.sub('[-=+_★♥♡,#/\\?:╋^$.@*\\\"※~&%ㆍ!』\\\\‘|\\(\\)\\[\\]\\<\\>`\\'…》—;]', '', content)\n",
    "        #content = spacing(content)\n",
    "\n",
    "        comments.append(content)\n",
    "        \n",
    "    except HTTPError as e:\n",
    "        comments.append('')\n",
    "    except URLError as e:\n",
    "        comments.append('')\n",
    "    except AttributeError as e:\n",
    "        comments.append('')"
   ]
  },
  {
   "cell_type": "code",
   "execution_count": 24,
   "id": "fc66a943",
   "metadata": {},
   "outputs": [],
   "source": [
    "rr_dict = {\n",
    "    '제목' : title,\n",
    "    '본문' : texts,\n",
    "    '댓글' : comments\n",
    "}\n",
    "\n",
    "df = pd.DataFrame(rr_dict) \n",
    "df.to_csv('루리웹_엑셀확인용.csv', index=False, encoding=\"utf-8-sig\")\n",
    "#df.to_csv('루리웹.csv', index=False, encoding=\"euc-kr\")"
   ]
  },
  {
   "cell_type": "code",
   "execution_count": null,
   "id": "bd915ef9",
   "metadata": {},
   "outputs": [],
   "source": [
    " \"\"\"#형태소 분석\n",
    " komoran = Komoran() \n",
    "\n",
    " title_morphs = []\n",
    " txt_morphs = []\n",
    " comment_morphs = []\n",
    "    \n",
    " for i in title:\n",
    "     title_morphs.append(komoran.morphs(i))\n",
    "    \n",
    " for i in texts:\n",
    "     txt_morphs.append(komoran.morphs(i))\n",
    "    \n",
    " for i in comments:\n",
    "     comment_morphs.append(komoran.morphs(i))  \n",
    "\n",
    " morphs_dict = {\n",
    "     '제목 형태소' : title_morphs,\n",
    "     '본문 형태소' : txt_morphs,\n",
    "     '댓글 형태소' : comment_morphs\n",
    " }\n",
    "\n",
    " df2 = pd.DataFrame(morphs_dict)\n",
    " df2.to_csv('fm_Morphs.csv', index=False, encoding=\"utf-8-sig\")\"\"\""
   ]
  }
 ],
 "metadata": {
  "kernelspec": {
   "display_name": "Python 3",
   "language": "python",
   "name": "python3"
  },
  "language_info": {
   "codemirror_mode": {
    "name": "ipython",
    "version": 3
   },
   "file_extension": ".py",
   "mimetype": "text/x-python",
   "name": "python",
   "nbconvert_exporter": "python",
   "pygments_lexer": "ipython3",
   "version": "3.7.6"
  }
 },
 "nbformat": 4,
 "nbformat_minor": 5
}
