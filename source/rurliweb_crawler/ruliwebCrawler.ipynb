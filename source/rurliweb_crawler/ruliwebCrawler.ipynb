{
 "cells": [
  {
   "cell_type": "code",
   "execution_count": 10,
   "id": "298677ea",
   "metadata": {},
   "outputs": [],
   "source": [
    "from bs4 import BeautifulSoup\n",
    "import time\n",
    "from selenium.webdriver import Chrome\n",
    "import openpyxl\n",
    "import pandas as pd\n",
    "import requests\n",
    "from urllib.request import urlopen\n",
    "from urllib.error import URLError, HTTPError\n",
    "import re\n",
    "#from pykospacing import spacing\n",
    "from konlpy.tag import Komoran\n",
    "#from nltk import Text"
   ]
  },
  {
   "cell_type": "code",
   "execution_count": 12,
   "id": "c17daa48",
   "metadata": {},
   "outputs": [
    {
     "name": "stdout",
     "output_type": "stream",
     "text": [
      "{'제목': ['모노리서치 김경수  차기 경남지사 지지율 위', '이낙연 의원님 인스타  커여움 ', '트위터 디시의 멍청이들 낚기 대성공', '신동근 우리 민주당이 언제부터 부자들을 위한 정당이었지', '윾승민 아직도 조국 찬양하는 민주당 한심하다', '국민의힘 이영손정민 수사부진 검경수사권 때문국회 상임위때 짚고 넘어', '또 그 그림체그 손모양머리가', '홍준표가 올렸다가 삭제한 페북글', '르포 준석이가 당대표 되나요 노원 상계동  말 들어보니', '홍준표 월 일에 백신 접종 하기로 예약', '“이젠 만들 수 있다” 현무\\u2009\\u2009는 中 압박’ 화룡점정', '인천 경찰 근황', '이낙연의 충격적인 사진 공개한다', '손정민이 억울해서 영혼이되어 나타났다던 유투버커피숍 로고로 밝혀지자 ', '대구 백신 접종이 심각하네', '어제자 그알 손정민 사건 요약', '난 한강사건 초기부터 지금까지 느끼는건 딱 하나야', '그알 이제 정부까기 시전할듯', '한강 사건을 보면서 느낀 두 가지', '내가 알던 지잡기자  한  조기자 썰', '강제 퇴거 당하는 세입자의 눈물', '윤석열 친이 노선 타면서 디시에서 개빨림', '어제자 그알 보고 느낀 점', '속보 코로나 신규 확진 명 일 만에 명대 아래로', '검색량 윤석열 배·이낙연 배까지도실체드러낸 이준석 돌풍', '어제 그알중에 개인적으로 이해 안되는 장면이', '대장이 차단된 거', '북한 해커가 멕시코서 억원 털어 한국 송금', '어제자 그것이 알고싶다 시청률', '미얀마 군부와 사업을 한 정권 대통령은 해명하라 대텅령아 해명', '그알이 남긴 역사로 남을 짤', '중앙 尹 칼 맞고도  尹 찍을것여기 이준석 돌풍 이유', '사실 제일 궁금한게 그 의대생 친구들임', '한강 코난들이 ↗됐다고 들었습니다', '김남국 황', '한강사건은 진짜 검경수사권 조정 되었으니 다행이지', '한강사건베글에 한강사건 그알 인터뷰 나온거 보는데', '난 어제 그알보면서 친구 아버님 인터뷰가 맘이 아프드라', '그알이 비겁한게 언레기는 안 다루더라', '이준석 민주당이 윤석열 처가로 공격할 때 대응법 있다', '조국의 시간 차트 올킬이네 ', '한강 코난들 됬음 ', '군은 돈 땡겨서 이민가야 쓰겄다', '한강사건 친구 허위사실유포 자료 수집중', '그알 그만해 주세요', '한국만 예외인 고학력자의 진보화', '그알 틀딱이란 단어에 발끈한 고딩', '모범택시 마지막회 가장 심각한 문제는 경기도 같은 게 아냐', '누가 보면 기본소득 주장을', '그알에서 뭐랬길래 인정하는 사람들이 생김', '한강사건 역대급으로 많이 전문가 목격자들 섭외했다는 그알 인터뷰들', '한강 사건이 이렇게까지 커진 근본적인 이유', '그알 정인이 사건 기억해', '삼성다니는 아버지 의대다니는 아들의 가정이 부러워 과몰입이라', '암만봐도 한강에 과몰입한건 딱 그 부모 정도 나이임', '좀 암울한 얘기인데', '한강 사건이 말해주는 대형렉카와 좋소렉카의 차이', '한강 사건으로 알아보는 많은 가해자들이 가지고 있을 마인드', '놀면 뭐하니 무한도전 무한상사 무도 놀뭐 미친듯이 웃었넼', '오늘자 그알 한강 시위자들의 선넘은 발언', '내가 유게에 한강사건 반박 올렷는데', '한강사건 요약', '그알 한강 감상평', '오늘자 그알에 나온 유튜브 채널 곳', '한강실종사건 코난들의 주장이 맞다면 군 아버지는', '그알 생방 달리던 모두를 황당하게 한 정민 군 아버지의 말', '배상훈은 현장경험이 짧고 표창원은 프로파일러가 아님', '정세균 “고약한 日저놈들도쿄올림픽 보이콧해야”', '이번 한강 사건 반박에는 이 짤이 최고다 진짜로', '그알 공식카페 에서 그알불매하쟤', '한강 사건 관련해서 유튭뽑는 야들 과거영상보면', '그알 한강 사건 친구  아버지 인터뷰', '그알보고 생각난 요즘 전반적인 사회분위기 문제', '이번 헬마 영상 댓글 보고 우려스럽네', '한강 대학생 사이버렉카 맹신의 진원지', '그알 시게 홈피 근황', '그알손정민 사건에 이 분노한다더니', '현재 그알 한강 사건 논조', '그니까 그알은 일단 손현씨 피꺼솟각이라는거지', '조국 전 장관 회고록에 초선족 반응', '박진성은 워낙 들리는 얘기가 많아서 예전부터', '시민 가 수신료 원 인상 찬성 공론조사 뜯어보', '이스라엘에서 가장 중요하게 여기는 항구 도시', '찢 음성파일 녹취록 올라온거 풀버젼 들어봤거든'], 'url': ['https://bbs.ruliweb.com/community/board/300148/read/34912912?view_best=1&page=1', 'https://bbs.ruliweb.com/community/board/300148/read/34912908?view_best=1&page=1', 'https://bbs.ruliweb.com/community/board/300148/read/34912906?view_best=1&page=1', 'https://bbs.ruliweb.com/community/board/300148/read/34912898?view_best=1&page=1', 'https://bbs.ruliweb.com/community/board/300148/read/34912894?view_best=1&page=1', 'https://bbs.ruliweb.com/community/board/300148/read/34912881?view_best=1&page=1', 'https://bbs.ruliweb.com/community/board/300148/read/34912875?view_best=1&page=1', 'https://bbs.ruliweb.com/community/board/300148/read/34912873?view_best=1&page=1', 'https://bbs.ruliweb.com/community/board/300148/read/34912865?view_best=1&page=1', 'https://bbs.ruliweb.com/community/board/300148/read/34912859?view_best=1&page=1', 'https://bbs.ruliweb.com/community/board/300148/read/34912851?view_best=1&page=1', 'https://bbs.ruliweb.com/community/board/300148/read/34912848?view_best=1&page=1', 'https://bbs.ruliweb.com/community/board/300148/read/34912844?view_best=1&page=1', 'https://bbs.ruliweb.com/community/board/300148/read/34912843?view_best=1&page=1', 'https://bbs.ruliweb.com/community/board/300148/read/34912840?view_best=1&page=1', 'https://bbs.ruliweb.com/community/board/300148/read/34912832?view_best=1&page=1', 'https://bbs.ruliweb.com/community/board/300148/read/34912823?view_best=1&page=1', 'https://bbs.ruliweb.com/community/board/300148/read/34912821?view_best=1&page=1', 'https://bbs.ruliweb.com/community/board/300148/read/34912815?view_best=1&page=1', 'https://bbs.ruliweb.com/community/board/300148/read/34912809?view_best=1&page=1', 'https://bbs.ruliweb.com/community/board/300148/read/34912806?view_best=1&page=1', 'https://bbs.ruliweb.com/community/board/300148/read/34912803?view_best=1&page=1', 'https://bbs.ruliweb.com/community/board/300148/read/34912801?view_best=1&page=1', 'https://bbs.ruliweb.com/community/board/300148/read/34912797?view_best=1&page=1', 'https://bbs.ruliweb.com/community/board/300148/read/34912796?view_best=1&page=1', 'https://bbs.ruliweb.com/community/board/300148/read/34912794?view_best=1&page=1', 'https://bbs.ruliweb.com/community/board/300148/read/34912789?view_best=1&page=1', 'https://bbs.ruliweb.com/community/board/300148/read/34912785?view_best=1&page=1', 'https://bbs.ruliweb.com/community/board/300148/read/34912769?view_best=1&page=2', 'https://bbs.ruliweb.com/community/board/300148/read/34912748?view_best=1&page=2', 'https://bbs.ruliweb.com/community/board/300148/read/34912745?view_best=1&page=2', 'https://bbs.ruliweb.com/community/board/300148/read/34912741?view_best=1&page=2', 'https://bbs.ruliweb.com/community/board/300148/read/34912740?view_best=1&page=2', 'https://bbs.ruliweb.com/community/board/300148/read/34912736?view_best=1&page=2', 'https://bbs.ruliweb.com/community/board/300148/read/34912733?view_best=1&page=2', 'https://bbs.ruliweb.com/community/board/300148/read/34912731?view_best=1&page=2', 'https://bbs.ruliweb.com/community/board/300148/read/34912728?view_best=1&page=2', 'https://bbs.ruliweb.com/community/board/300148/read/34912726?view_best=1&page=2', 'https://bbs.ruliweb.com/community/board/300148/read/34912725?view_best=1&page=2', 'https://bbs.ruliweb.com/community/board/300148/read/34912721?view_best=1&page=2', 'https://bbs.ruliweb.com/community/board/300148/read/34912710?view_best=1&page=2', 'https://bbs.ruliweb.com/community/board/300148/read/34912703?view_best=1&page=2', 'https://bbs.ruliweb.com/community/board/300148/read/34912702?view_best=1&page=2', 'https://bbs.ruliweb.com/community/board/300148/read/34912698?view_best=1&page=2', 'https://bbs.ruliweb.com/community/board/300148/read/34912651?view_best=1&page=2', 'https://bbs.ruliweb.com/community/board/300148/read/34912638?view_best=1&page=2', 'https://bbs.ruliweb.com/community/board/300148/read/34912630?view_best=1&page=2', 'https://bbs.ruliweb.com/community/board/300148/read/34912625?view_best=1&page=2', 'https://bbs.ruliweb.com/community/board/300148/read/34912616?view_best=1&page=2', 'https://bbs.ruliweb.com/community/board/300148/read/34912613?view_best=1&page=2', 'https://bbs.ruliweb.com/community/board/300148/read/34912596?view_best=1&page=2', 'https://bbs.ruliweb.com/community/board/300148/read/34912583?view_best=1&page=2', 'https://bbs.ruliweb.com/community/board/300148/read/34912572?view_best=1&page=2', 'https://bbs.ruliweb.com/community/board/300148/read/34912557?view_best=1&page=2', 'https://bbs.ruliweb.com/community/board/300148/read/34912551?view_best=1&page=2', 'https://bbs.ruliweb.com/community/board/300148/read/34912526?view_best=1&page=2', 'https://bbs.ruliweb.com/community/board/300148/read/34912524?view_best=1&page=3', 'https://bbs.ruliweb.com/community/board/300148/read/34912516?view_best=1&page=3', 'https://bbs.ruliweb.com/community/board/300148/read/34912505?view_best=1&page=3', 'https://bbs.ruliweb.com/community/board/300148/read/34912501?view_best=1&page=3', 'https://bbs.ruliweb.com/community/board/300148/read/34912499?view_best=1&page=3', 'https://bbs.ruliweb.com/community/board/300148/read/34912491?view_best=1&page=3', 'https://bbs.ruliweb.com/community/board/300148/read/34912482?view_best=1&page=3', 'https://bbs.ruliweb.com/community/board/300148/read/34912480?view_best=1&page=3', 'https://bbs.ruliweb.com/community/board/300148/read/34912476?view_best=1&page=3', 'https://bbs.ruliweb.com/community/board/300148/read/34912471?view_best=1&page=3', 'https://bbs.ruliweb.com/community/board/300148/read/34912468?view_best=1&page=3', 'https://bbs.ruliweb.com/community/board/300148/read/34912462?view_best=1&page=3', 'https://bbs.ruliweb.com/community/board/300148/read/34912440?view_best=1&page=3', 'https://bbs.ruliweb.com/community/board/300148/read/34912437?view_best=1&page=3', 'https://bbs.ruliweb.com/community/board/300148/read/34912419?view_best=1&page=3', 'https://bbs.ruliweb.com/community/board/300148/read/34912415?view_best=1&page=3', 'https://bbs.ruliweb.com/community/board/300148/read/34912409?view_best=1&page=3', 'https://bbs.ruliweb.com/community/board/300148/read/34912404?view_best=1&page=3', 'https://bbs.ruliweb.com/community/board/300148/read/34912384?view_best=1&page=3', 'https://bbs.ruliweb.com/community/board/300148/read/34912362?view_best=1&page=3', 'https://bbs.ruliweb.com/community/board/300148/read/34912355?view_best=1&page=3', 'https://bbs.ruliweb.com/community/board/300148/read/34912303?view_best=1&page=3', 'https://bbs.ruliweb.com/community/board/300148/read/34912284?view_best=1&page=3', 'https://bbs.ruliweb.com/community/board/300148/read/34912282?view_best=1&page=3', 'https://bbs.ruliweb.com/community/board/300148/read/34912277?view_best=1&page=3', 'https://bbs.ruliweb.com/community/board/300148/read/34912272?view_best=1&page=3', 'https://bbs.ruliweb.com/community/board/300148/read/34912253?view_best=1&page=3', 'https://bbs.ruliweb.com/community/board/300148/read/34912242?view_best=1&page=3']}\n"
     ]
    }
   ],
   "source": [
    "browser = Chrome()\n",
    "\n",
    "title = []\n",
    "links = []\n",
    "\n",
    "for i in range(1,4):\n",
    "    browser.get(\"https://bbs.ruliweb.com/community/board/300148?view_best=1&page=\" + str(i))\n",
    "    soup = BeautifulSoup(browser.page_source, 'html.parser')\n",
    "    result = soup.find('div', {'class': 'board_main theme_default'}).findAll('tr', class_=\"table_body\")\n",
    "    time.sleep(3)\n",
    "    \n",
    "    for tr in result:\n",
    "        f_link = tr.findAll('a', class_='deco')\n",
    "        for a in f_link:\n",
    "            conlink = a.get('href')\n",
    "            links.append(conlink)\n",
    "\n",
    "    for i in result:\n",
    "        i = BeautifulSoup(str(i), 'html.parser')\n",
    "        rr_title = i.find(\"a\", class_=\"deco\").text\n",
    "        rr_title = re.sub('[ㄱ-ㅎㅏ-ㅣa-zA-Z0-9]', '', rr_title)\n",
    "        rr_title = re.sub('[\\xa0|0xed]', '', rr_title)\n",
    "        rr_title = re.sub('[\\U0001f61f|\\U0001f606]', '', rr_title)\n",
    "        rr_title = re.sub('[-=+_★♥♡,#/\\?:╋^$.@*\\\"※~&%ㆍ!』\\\\‘|\\(\\)\\[\\]\\<\\>`\\'…》—;]','',rr_title)\n",
    "        #rr_title = spacing(fm_title)\n",
    "        title.append(rr_title)\n",
    "        \n",
    "        \n",
    "del title[0:6]\n",
    "del title[28:34]\n",
    "del title[56:62]\n",
    "del links[0:6]\n",
    "del links[28:34]\n",
    "del links[56:62]\n",
    "\n",
    "print({'제목': title, 'url': links}, sep='\\n')\n"
   ]
  },
  {
   "cell_type": "code",
   "execution_count": 13,
   "id": "ff5f6268",
   "metadata": {},
   "outputs": [
    {
     "name": "stdout",
     "output_type": "stream",
     "text": [
      "{'본문': ['재판만 잘 되면 재선 충분히 가능', '마지막 사진  넘 커여우심 ', '', '', '네 다음 진짜로 청탁주려다 걸린 찐따', '', '확인하고 왔는데 조작아님 공식임 ', '왜 삭제했지', '초선도 아닌 선 이준석각종 여론조사서중진들 제쳐이 후보 고향 노원 상계동 청년들 기대감 ↑대 목소리 많이 내준다그것만으로도 고마워 정치 경험 부족민주당만 좋을 일얘가 뭐라고 르포기사까지', '', '중국 대륙 전역과 일본 열도 전역을 사정권으로 넣는 탄도미사일과 극초음속 비행체와 극초음속 순항미사일을 즉각개발해야 된다중공과 러시아 북괴는 아예     등을 다가지고 있고 일본놈들도 엡실론로켓이라고 으로 전환가능한 민간용 대형 단 고체연료 우주발사체를 가지고 있는 마당에 주변국들 눈치볼필요없다그리고 북괴 중공 러시아 일본이 하면서 보복을하면 맞대응 하는 동시에 지들은 다가지고 있는 주제에 뭐라는거냐하고씹으면 그만이다또한 저건 미국이 뒤봐준다는 소리니 미국한테도 도움을 요청하면 그만이고', '범죄자가 범죄자를 잡아야 하니이 얼마나 코미디 같은 세상인가', '충격 사진 포즈가 밀랍인형이 아닌 사진 공개이게 정면이래', '저기요 방송에 나온건 왼쪽 종이봉투 입니다', '마산 부모님은 금요일에 백신 접종 하셨는데대구 장인어른은 접종을 못하셨네백신 한 병을 개봉하면 최소 일곱 명은 예약해야 되는데두명밖에 예약을 안해서 접종이 미뤄졌데대구 접종률이 안좋다 어쩐다 하더니 실감이 됨근데 거기는 잔여 백신 접종도 안하나안할꺼면 걍 다른 지방에 주면 좋겠다', '', '대체왜', '글로벌 백신 허브의 진실제목 이렇게 할 듯', '힘드네 어쩌네 그런거 다 엄살처먹고 살만하니까 방구석에서 배 긁으며 지랄 엠병짓 하는거 맞다 기레기 렉카 코난들 모두 말이다이 시국의 안정은 정부와 의료진들이 다 했네 또 한편으로 한국이 힘든 이유는 이런 인식들이 모여 의식을 형성해서 만들어낸거지무슨 말이냐면 가장 중요하고 개선을 촉구해야할 일은 모른척하고 무관심하며 그냥 자기들 분풀이용으로 쓸때나 분노하고넘어갈 뿐이란거헬조선은 결국 우리가 만들어낸 결과물이다', '지잡기자라고 하는 건 레알 지잡기자라서 그럼한명은 강원도 쪽 지방지 기자였는데 어쩌면 나한테 이모부가 될수도 있던 사람이었음나름 말빨은 좋았고 인물은 그냥 평범한 수준이었는데 문제는 음주운전이 상습이었음그런데 지역에서는 차에 취재라고 써 붙여있고 기자증을 달고 다니다보니 경찰들도 그냥 넘어가주고 하던 시절이라음주운전이 상습이 된거였음 결국 음주교통사고를 냈고 그 뒤로 못봄또 한명은 모 지역 한기자 출신이었는데 실제로는 선거판에 드나드는 선거낭인이었음모시던 장관님 빽으로 꽂혀 들어간건지 기자하다가 만난 건지 몰겠지만그 사람이 회사 법카로 술집드나들고 해서 짜증나던 사람이었음 결국에 성병 걸려서 사무실 냉장고에 약넣어두고참 씨바매번 퇴근하려면 술마시러 가자 노래방가자매날 하던 소리가 내가 후배들한테 취재하라고 하면 수틀리면 누구든 기사로 괴롭혀주겠다 였음만덕산 라인이었는데 회사 내부에서 다툼도 있고 하다가 암튼 선거철되서 무슨 언론 특보 한다고 회사서 나갔음또 한명은 조일조 기자출신이었는데 당시 장자연 사건이 이슈얐을때였는데 그 인간이 한 말이 이랬음연예계에서 지들 뜰려고 몸 주는 애들있다저거 수사 제대로 안될거다그러다가 갑자기내 딸이 지금 고등학생인데 공부를 잘한다장자연 이야기하다가 갑자기 자기 딸 자랑하는 거보고 이사람 뭐야 싶더라한줄요약요즘이던 예전이던 기자수준은 동질성을 유지하고 있다고 본다', '', '디시  일베가 윤석열만이 우리나라유일의 희망이라면 존나 빨아줌박그네 빨아주는건 틀딱 유튜브밖에 없음디시  일베는 완벽히 친이 애들이다', '코로나가  염병이긴 염병이구나코로나로 온 동네 노인정 다 폐쇄 되니까 노친네들 유튜브 붙잡고 이상한 뻘소리만 골라보고 앉았음그게 이번 한강 사건에서 여실히 드러남', '드디어 명대로내려갔군요', '이준석 검색량·보도량 모두 대선주자급인지도가 자산', '흠', '일주일이었을걸독일망명이하고 대첩벌이다가 저격으로 둘 다 차단크리라는 건 망명이도 돌아왔을 거라는 앞으로 망명이는 담당일진인 대장이 잘 만져주실 거임 가슴이 옹졸해진다 진삼', '이른 아침에 ↗선일보발 기사가 떠서 봤는데또 소설 쓰고 있네 라고 생각했더니조금전 기사 내려감 이쉑히들은 이제 소설도 제대로 못쓰네 ', '년 고유정편급 임팩트', '최순살대통령 또 너야', '', '의 이 말을 전한 측근은 윤 전 총장이 야권의 대표 주자가 된다면 는 분명히 지지할 것이라며 자신을감옥에 보낸 사람이라도 괘념치 않을 것이라고 했다 년 의 첫 수감 때와 년 재수감 때 두 번 모두논현동 자택을 찾았다는 전직 의원도 “다른 건 아무 것도 생각 말고 정권교체만 생각해야 한다”는 당시 의 말을기억해냈다 쉽게 말하면 정권교체를 위해서라면 윤석열이든 누구든이란 의미다정권교체돼야 사면받으니 어찌보면 당연한건가 공정 정의어쩌구 지랄하던데토론때이명박근혜 사면에 어떤 입장을 보일지 기대되네 ', '이게 전국민 능지테스트인거는 확실하고같은 의대생이라 신상을 아니 뭐 여러 사이트에서 진범 웃음 신상 뿌리고 극딜넣고 하던데이제 뭔 스탠스로 나올지 저정도 능지로 의사면허 땄다가는 인간지네 만들듯', '이제 죗값 받으셔야지 ', '이런 미친 새가', '안그랬으면  씨 집안이랑 청와대 행정관 엮고검충이들  씨 집 압수수색 가고 기레기들 집앞에 뻐치기 하고  청와대 턴다고청와대 앞에서 개 지롤 하고또 기레기들 받아쓰기 도배질 하고조국전정관 외압설 나오고  공소장에 대통령이름 수십번 적고 어휴 생각만 해도 끔찍하다', '맨밑에 씨 가족내가 보기에는 씨 아버님 같이 생김 이랑실명나온 손정민 아버지 랑 인터뷰 내용이 천지 차이네밑에 씨 가족 인터뷰는 자식잃은 아빠마음 에 공감해주는 인터뷰 인데위에 손정민 아빠는 무슨 눈빛이랑 표정부터 뭔가 거들먹 거리는 상환받을껍니다딱 그런느낌의 인터뷰라 소름 돋는다 진짜저건 자식을 키운게 아니라 아바타 만들고 업적작 한 느낌인데애를 리니지 키우는 느낌으로 키운 거 같다무섭다', '', '언레기 책임은 안 다루고 전부 유튜버로 몰아가는 느낌 유튭레카질 이 패악질이고 사태를 이지경으로 만든것은 사실인데  그렇게 가도록 길 터준게 언레기들이지언레기 들이 지들이 막 뿌려대면 이슈 만들수 있다고 자신하고 있어서언레기들이  앞에서 뿌리고  뒤에서 극우 유튭 일베 그리고 카톡에서 가짜뉴스 돌리는 업자들 이 활동하고이게 다 구조와 설계가 있는 것인데  그알은  그중 제일 중요한언레기의 문제는 외면했다', '일단 윤석열이 우리 당에 와야 해 그럼 비책이 담긴 비단주머니를 개 줄게그걸로 충분히 받아치고 역효과까지 일으킬 수 있어삼국지 유비 재혼건 따라하는 듯한데그거 사실연의의 창작이라던데 그리고 그 비책을 왜 본인의 선거에선 전혀 못 써먹었을까나', '하 이런데도 손절해야 한다던 그놈의 여론 대변자들 오히려 남은 년 안에 명예회복을 해야대선때 국민들이 왜 검찰개혁이 필요한지를 깨닫는건데그런 의미에서 지금 같을 때 민주당이 더 호응을 해줘야지', '로펌에서 고소하기로 함 ', '진실이고 뭐고간에 아무튼 꼬리표는 계속 남아있을거임타블로도 여전히 아무튼 방송에서 구라쳤으니까 의심은 할만했단 소리 나오는 마당임본인이 에픽하이 빨아댈 당시에 타진요 터져서 잘 암', '', '', ' 저학력  저소득층을 지지기반으로 가지던 좌파정당이근래에 들어서 고학력  저소득층 기반으로 지지기반이 빠르게 이동사회문화적 이슈가 부상했기 때문 또한 과거에는 남성에서 좌파 정당의 지지율이 높았지만현재는 여성에서 더 지지를 받음  이건 한국도 마찬가지 청년층이 윗세대보다 일관되게 진보적인 서구 민주주의 국가와 다르게한국에서는 근래에 들어서 청년층이 더 보수적인 투표 경향사회문화적으로도 경제적으로도 마찬가지또한 고학력자로의 지지 기반 이동도 관측되지 않음 일본도 한국과 비슷하던데왜 한국과 일본만 동떨어져 있는지 연구해 볼 필요가 있음', '지보고 그런거도 아닌데 괜히찔려서 ', '좇같은 경기도 지역 포인트 도 문제지만 그건 오히려 사소해진짜 문제는 현재의 공권력만으로 정의를 이룰 수 없다는 인식을 전달한다는 점이야햄머와 공구리와 도라무 같은 수단으로 효과적인 응징과 복수같은 방안이 동원되지 않으면 사회 정의 구현 안된다는이미지가 생길 수 있다고마지막 전화에선 교묘하게 화성연쇄살인범 관련 실제 인물의 복수를 원한다는 인터뷰까지 넣었는데 왜 그랬을까이걸 받아들이는 순간 이재명 색기가 쓰는 편법과 탈법과 불법적인 수단과 공권력의 자의적 이용이 필요한 부분이있겠다는 인식이 스물스물 생겨난다는 점이야누가 그런 머저리 천치같은 생각을 할까 싶지내가 보기엔 한강 사건의 렉카에 이끌린 지진아들은 모두 그 프레임에 쉽게 동조될거라고 본다더구나 안방에 전달되는 드라마를 통해서그게 좇같은 경기도 과도 맞물리면 어떤 현상이 생길까멕시코의 갱단이 지배하는 사회가 곧 남의 나라 문제가 아닌 인간세상의 지옥도가 펼쳐질거야이재명이 놈은 우리 사회의 시민들을 모두 지 수준의 짐승으로 만들고 싶은게 틀림없다혼자 천박하다는게 외로웠을지도그 괴물은 능히 그러고도 남는다지금 경기도에서 보여주듯이', '이낙연이 한 줄 알겠네이낙연 기본소득 증세 일부러 부정적인 단어 묶어서 제목 쓰는거 봐라이재명의 기본소득 재원 마련 증세 논쟁으로이런식으로 써야 정상이지 이새퀴들아', '남유게인지 여기인지 모르겠는데 반응 보니깐실족사가 맞는거 같다면서 그래도 피해자 측엔 하나도 안 미안하다고 네이버 카페에 글 올린거 퍼온게 있더만피해자가 죽였을거라고 아주 강한 믿음을 갖고 있지 않고선 저런 파렴치한 소리는 못 할텐데그럼에도 실족사가 맞다고 인정할만한게 방송에서 어떤게 나옴', '', '', '충격적인 그 사건을 알리고 조명을 받았던 그알이그 이후에 노골적으로 정부를 까는 편을 방영했었지그래서 이번 한강 사건 에피소드가 내용을 떠나서 좀 불편하더라왜 갑자기 정상적으로 행동하지 란 불안감이 먼저 들었음이 새끼들 또 뭔가 꿍꿍이를 꾸미는 게 아닌가 싶어서 말이야이러면 좀 정치병자 같으려나', '결국 자기 말년이 추레하단 소리 아닌가 얼마나 인생에 내세울게 없으면 남의 집안 스펙에 과몰입하서 자기 자식죽은거 처럼 저럴까 어찌 생각하면 성공지상주의 성장지상주의 산업화 세대의 말년이 저렇다고 생각하니씁쓸하네', '젊은층도 있겠지만 박종철 열사 찾고 어쩌고 하는거 보면 딱 그거 아니냐 보수 대학생대 ', '분기 이후에 스스디 가격이 인상될 수 있다는 이야기가 있어현재 철 구리 알루미늄 같은 게 전부 올라가는 추세이고 이게 별개 문제가 아니라서아마 내년에도 어느정도 영향을 받게 되지 않을까 싶기는 하더라고코로나 덕에 조업일수 줄어듬  이동에 제한이 생기니 나 콘솔 모바일 기기 수요 폭증 안그래도 코인하는 놈들때문에 비싼 부품가격 상승  원자재 가격 상승으로 또 영향받음중국몽하는 코인 도박 머저리들하고 중국 콜라보 때문에 못해 먹겠네게임하는데 문제가 생기는 건 사회문제니 사회탭', '좋소렉카  어떻게든 끌고 갈려고 함대형 렉카  안뭄', '', '못났던 공채 동기가잘났다가 감나무 떨어져서 맛이간 공채 동기를 승진 역전 후에팀장으로 신나게 부려먹다가본인은 퇴사후 에 스타트업 본부장으로 스카웃 되어서면접 하루 종일 뛰고 출출해서 라면집 갔다가라면 집에서 우연히 만났는데 그 공채 동기도 그냥저냥이고 그래서동기이자 팀원을 구제하려다가 딥빡한 모습이다 ', '박종철 열사언급연쇄뿅뿅살인마이춘재 언급', '이짤로 팩폭 걸어버리니까 숨은 디첩 벌레들 다 튀어나와서 반박 중 진짜 팩폭 걸면 부들부들 하며 튀어나오는건 벌레들 특성인거 맞음 ', ' 언론 믿지마 일베를믿어', '어휴 맞말이다', '밀쳐지는 손을 봤다는 분수술용 메스를 휘둘렀다는 분천안함 기부를 본인은 했는데 그알피디는안했단분', '경찰 매수검찰 매수기자 매수변호사 매수언론 매수 매수편의점 알바 매수낚시꾼 매수그것이 알고싶다 매수그알 범죄심리학자 매수국과수 매수 매수택시기사 매수김상중 매수유일하게 매수못한 사람 유튜버 ', '아들을트로피로 본게 맞네', '여기서 내가 말하는 프로파일러라 함은이수정같은 사람도 포함하는넓은 의미의 전반적인 범죄심리분석가가 아닌실제 경찰쪽에서 과정을 밟고 정식으로인정받은 사람을 말하는 것임실제로 프로파일러라는 단어 말고다른 공식적인 용어가 있는데 기억이 안남범죄심리분석관이던가 그럴거야표창원은 범죄심리전공도 아니고영국 유학 가서 공부한 것도 전반적인 수사 관련이지프로파일링은 아님실제 강력계 경험도 있지만 길지는 않음배상훈은 내가 말하는 공식 프로파일러가 맞음호 프로파일러라고 소개하는게 틀린 말은 아닌게프로파일러 양성과정 기는 맞음그런데 건강문제로 기에서 빠지고기인가 기에서 마침그런데 배상훈의 문제점은표창원처럼 경찰출신도 아니고석사인가 박사학위가 범죄와는 관련없는 사회심리학이고실제 경찰쪽에서 프로파일러로 일한 경력도 상당히 짧아그래서 자기음모론에 빠지거나현장에 맞지않는 뻘소리 할때가 많음참고로 권일용이 바로 호 프로파일러임경찰 현장경력도 상당히 길고울나라 프로파일러 과정 자체를 창조한 사람방송에 프로파일러라는 직함 달고 나오는 사람들중에이분이 진짜중에 진짜라고 보면 된자', '의 버르장머리가 생각나는 워딩이네그래도 북돼지네 간악한 쪽바리 라던가 버르장머리에는 좀 못미치는 워딩인거 같음', '이거만큼 팩트인게 없음정작 평택 노동자 사고사 한건 묻어버린 기레기들', '습스 그만봅시다 남양유업처럼 불매합시다 이래기', '대부분 이따구임', '그래도 고소는 꼭 하시길', '', '물론 댓글여론이 국민의 여론까지는 아니지만 페미를 조질 수만 있다면 왕자같은 새끼들이 중심에 서도 상관없다는 놈들이댓을 많이 다는게 보이고왕자같은 놈이 중심이 되는걸 막아야 한다는 댓글이 있어도 왕자가 열심히 활동하는 동안 넌 뭐했는데 십선비새꺄 같은반응이 나오는걸 보면 한숨이 나온다', '그분이 부추김', '분노의 트래픽 총공 들어갔네', '왠 시발 다 늙은것들만 분노하냐시발 결국은 문재인 정권이랑 엮을려던 거 맞네', '정확하게 입수된 증거들과 증언들 그리고 여러 전문가들 다 내보내서 친구가 슬슬 무혐의같다는 느낌으로이야기하고있음이래도 안믿겠지 방구석 프파들은', '뭐 대충 둘이 술 미친듯이 퍼먹고 일어난 사건이라는거', '', '안타깝긴 하다 생각했지만 딱히 막 기대가 없는 사람이긴 했음근데 그렇게 존나 억울해하는데 뒤에서는 저러고있었다는 게 유머긴 하다 진짜 좌측으로 기울어있는 애들은 지가했던 짓은 다 까먹고 억울하다고 질질 짤 수 있는 재능을 가진 사람들이하는거구나 ', '숙의정도판단 문항 수신료 인상 주장 뒷받침하는 내용으로 구성명 불러다가 그냥 쇼 한거네 문제는 이 명 한번 까봤으면 좋겠네 케븅신 관계자들이 존나 많을거같다', '이스라엘의 최중요 항구 도시 중에하나인 에일라트는 이스라엘에서 유명한 휴양 도시이자 전략적 가치가 매우 높은 항구 도시이기도 함인구 만여명 밖에 되지 않고 풀이거의 자라지 않는 황무지와 같은 이 도시가 이스라엘에 왜 최중요 항구 도시가 되었느냐 그럴만한 지리적인 이유가있음이 도시의 위치를 보면 알겠지만홍해를 통해서 아시아로 직접 갈 수 있는 항구는 남쪽 해역에 있는 이 항구가 유일하기 때문임 사실 이스라엘에는더 많은 항구도시가서쪽 해역의 지중해에 위치해 있지만은 그 항구도시의 배들이 홍해 쪽으로 나아가려면 이집트의 수에즈 운하를 거칠 수 밖에 없거든그래서 이 도시는 전략적 가치가매우 중요한 도시인지라 이스라엘에서도 꽤나 신경을 쓰고있는 항구 도시임 이 항구 도시의 존재 떄문에 이스라엘이지중해와 이 도시를 잇는 운하까지도 진지하게 검토하고 구상하고 있기도 하고 뭐천문학적인 비용 떄문에 현실적으로 어려운 일이지만제차 중동 전쟁이 벌어진 이유 중에 하나도 이집트가 이 항구로 이어지는 좁은해역인 아카바만을 봉쇄하면서 시작되기도 했었으니 말 다한 거지', '이재선씨의 어록중에서이 천하의 패륜아야욕 잘하시네 욕대장 등극 축하한다거짓말쟁이야 너 이명박하고 똑같지변호사는 말을 잘해야해고소쟁이 협박쟁이인간쓰레기야 너가 날 형 대우했냐기억나는게 이거인데찢가놈은 음성 퍼를 검열해야 할 정도로아가리가 너무 더럽더라 후이 지랄 떨어놓고전관예우 사법연수 동기인 대법관 특혜 다 받아서무죄판결 나오니까너무 신나하면서 형님 하더라고']}\n"
     ]
    }
   ],
   "source": [
    "texts = []\n",
    "#본문\n",
    "for i in links:\n",
    "    try:\n",
    "        res = requests.get(i)\n",
    "        res.raise_for_status()\n",
    "        res.endcoding = None\n",
    "        html2 = res.text\n",
    "    \n",
    "        soup = BeautifulSoup(html2, 'html.parser')\n",
    "        contentArea = soup.find(\"div\", {\"class\" : \"board_main_view\"})\n",
    "        p = contentArea.find(\"div\", {\"class\" : \"view_content\"})\n",
    "        parags = contentArea.findAll(\"article\")\n",
    "        time.sleep(3)\n",
    "        \n",
    "        content = \"\"\n",
    "\n",
    "        for parag in parags:\n",
    "            content += parag.text\n",
    "        content = re.sub('[ㄱ-ㅎㅏ-ㅣa-zA-Z0-9]', '', content)\n",
    "        content = re.sub('[&nbsp;|\\n|\\t|\\r]', '', content)\n",
    "        content = re.sub('[\\xa0|0xed]', '', content)\n",
    "        content = re.sub('[\\U0001f61f|\\U0001f606]', '', content)\n",
    "        content = re.sub('[-=+_★♥♡,#/\\?:╋^$.@*\\\"※~&%ㆍ!』\\\\‘|\\(\\)\\[\\]\\<\\>`\\'…》—;]', '', content)\n",
    "        #content = spacing(content)\n",
    "\n",
    "        texts.append(content)\n",
    "   \n",
    "    except HTTPError as e:\n",
    "        texts.append('')\n",
    "    except URLError as e:\n",
    "        texts.append('')\n",
    "    except AttributeError as e:\n",
    "        texts.append('')\n",
    "        \n",
    "print({'본문': texts}, sep='\\n')\n"
   ]
  },
  {
   "cell_type": "code",
   "execution_count": 14,
   "id": "b03dc297",
   "metadata": {},
   "outputs": [],
   "source": [
    "comments = []\n",
    "#댓글\n",
    "for i in links:\n",
    "    try:\n",
    "        res = requests.get(i)\n",
    "        res.raise_for_status()\n",
    "        res.endcoding = None\n",
    "        html2 = res.text\n",
    "\n",
    "        soup = BeautifulSoup(html2, 'html.parser')\n",
    "        contentArea = soup.find(\"div\", {\"class\" : \"comment_container\"})\n",
    "        parags = contentArea.findAll(\"span\", {\"class\" : \"text\"})\n",
    "        time.sleep(3)\n",
    "        \n",
    "        content = \"\"\n",
    "\n",
    "        for parag in parags:\n",
    "            content += parag.text\n",
    "        content = re.sub('[ㄱ-ㅎㅏ-ㅣa-zA-Z0-9]', '', content)\n",
    "        content = re.sub('[&nbsp;|\\n|\\t|\\r]', '', content)\n",
    "        content = re.sub('[\\xa0|0xed]', '', content)\n",
    "        content = re.sub('[\\U0001f61f|\\U0001f606]', '', content)\n",
    "        content = re.sub('[-=+_★♥♡,#/\\?:╋^$.@*\\\"※~&%ㆍ!』\\\\‘|\\(\\)\\[\\]\\<\\>`\\'…》—;]', '', content)\n",
    "        #content = spacing(content)\n",
    "\n",
    "        comments.append(content)\n",
    "        \n",
    "    except HTTPError as e:\n",
    "        comments.append('')\n",
    "    except URLError as e:\n",
    "        comments.append('')\n",
    "    except AttributeError as e:\n",
    "        comments.append('')"
   ]
  },
  {
   "cell_type": "code",
   "execution_count": 15,
   "id": "fc66a943",
   "metadata": {},
   "outputs": [],
   "source": [
    "rr_dict = {\n",
    "    '제목' : title,\n",
    "    '본문' : texts,\n",
    "    '댓글' : comments\n",
    "}\n",
    "\n",
    "df = pd.DataFrame(rr_dict) \n",
    "df.to_csv('루리웹_엑셀확인용.csv', index=False, encoding=\"utf-8-sig\")\n",
    "#df.to_csv('루리웹.csv', index=False, encoding=\"euc-kr\")"
   ]
  }
 ],
 "metadata": {
  "kernelspec": {
   "display_name": "Python 3",
   "language": "python",
   "name": "python3"
  },
  "language_info": {
   "codemirror_mode": {
    "name": "ipython",
    "version": 3
   },
   "file_extension": ".py",
   "mimetype": "text/x-python",
   "name": "python",
   "nbconvert_exporter": "python",
   "pygments_lexer": "ipython3",
   "version": "3.7.6"
  }
 },
 "nbformat": 4,
 "nbformat_minor": 5
}
