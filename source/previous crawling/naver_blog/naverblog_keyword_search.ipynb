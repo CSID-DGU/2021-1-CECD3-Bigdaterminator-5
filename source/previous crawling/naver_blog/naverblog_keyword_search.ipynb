{
 "cells": [
  {
   "cell_type": "code",
   "execution_count": 1,
   "metadata": {},
   "outputs": [
    {
     "name": "stdout",
     "output_type": "stream",
     "text": [
      "('64bit', 'WindowsPE')\n"
     ]
    }
   ],
   "source": [
    "import platform\n",
    "print(platform.architecture())"
   ]
  },
  {
   "cell_type": "code",
   "execution_count": 2,
   "metadata": {},
   "outputs": [
    {
     "name": "stdout",
     "output_type": "stream",
     "text": [
      "Python 3.7.6\n"
     ]
    }
   ],
   "source": [
    "!python --version"
   ]
  },
  {
   "cell_type": "code",
   "execution_count": 3,
   "metadata": {},
   "outputs": [
    {
     "data": {
      "text/plain": [
       "'C:\\\\김소연\\\\동국대학교_김소연\\\\4학년 1학기\\\\종합설계1\\\\네이버 블로그 크롤링'"
      ]
     },
     "execution_count": 3,
     "metadata": {},
     "output_type": "execute_result"
    }
   ],
   "source": [
    "pwd"
   ]
  },
  {
   "cell_type": "code",
   "execution_count": 4,
   "metadata": {},
   "outputs": [],
   "source": [
    "#듈과 라이브러리 로딩\n",
    "import requests\n",
    "import sys\n",
    "import os\n",
    "import pandas as pd\n",
    "import numpy as np\n",
    "\n",
    "from bs4 import BeautifulSoup\n",
    "from itertools import count\n",
    "from collections import OrderedDict\n",
    "from selenium import webdriver\n",
    "import time\n",
    "import tqdm\n",
    "from tqdm.notebook import tqdm"
   ]
  },
  {
   "cell_type": "code",
   "execution_count": 5,
   "metadata": {},
   "outputs": [
    {
     "name": "stdout",
     "output_type": "stream",
     "text": [
      "1.크롤링할 키워드는 무엇입니까?: 코로나\n",
      "2.조회를 시작할 날짜를 입력하세요(예:20200101) :20210301\n",
      "3.조회를 종료할 날짜를 입력하세요(예:20210401): 20210420\n"
     ]
    }
   ],
   "source": [
    "query_txt = input('1.크롤링할 키워드는 무엇입니까?: ')\n",
    "\n",
    "start_date = input('2.조회를 시작할 날짜를 입력하세요(예:20200101) :')\n",
    "end_date = input('3.조회를 종료할 날짜를 입력하세요(예:20210401): ')"
   ]
  },
  {
   "cell_type": "code",
   "execution_count": 10,
   "metadata": {},
   "outputs": [
    {
     "name": "stdout",
     "output_type": "stream",
     "text": [
      "입력된 키워드 :코로나\n",
      "검색 기간 :20210301-20210420\n"
     ]
    }
   ],
   "source": [
    "print(\"입력된 키워드 :\" + query_txt)\n",
    "print(\"검색 기간 :\" + start_date + \"-\" + end_date)"
   ]
  },
  {
   "cell_type": "code",
   "execution_count": 11,
   "metadata": {},
   "outputs": [],
   "source": [
    "#크롬 웹브라우저 실행\n",
    "path = \"chromedriver.exe\"\n",
    "\n",
    "driver = webdriver.Chrome(path)\n",
    "# 사이트 네이버\n",
    "driver.get('http://www.naver.com')\n",
    "time.sleep(2)\n",
    "\n",
    "# 블로그 카테고리 선택\n",
    "driver.find_element_by_link_text(\"블로그\").click( )\n",
    "\n",
    "# 블로그 검색창에 키워드 검색\n",
    "element = driver.find_element_by_name(\"sectionBlogQuery\")\n",
    "element.send_keys(query_txt)  # query_txt는 위에서 입력받은 키워드\n",
    "driver.find_element_by_xpath(\"\"\"//*[@id=\"header\"]/div[1]/div/div[2]/form/fieldset/a[1]/i\"\"\").click()\n",
    "\n",
    "# 기간 버튼 클릭\n",
    "driver.find_element_by_xpath(\"\"\"//*[@id=\"content\"]/section/div[1]/div[2]/div/div/a\"\"\").click( )\n",
    "\n",
    "# 시작 기간 입력\n",
    "s_date = driver.find_element_by_xpath(\"\"\"//*[@id=\"search_start_date\"]\"\"\")     \n",
    "driver.find_element_by_xpath(\"\"\"//*[@id=\"search_start_date\"]\"\"\").click()\n",
    "time.sleep(1)\n",
    "\n",
    "for c in start_date:\n",
    "    s_date.send_keys(c)\n",
    "    time.sleep(0.5)\n",
    "    \n",
    "driver.find_element_by_xpath(\"\"\"//*[@id=\"content\"]/section/div[1]/div[2]/div/div/div/a[4]\"\"\").click()\n",
    "\n",
    "# 종료 기간 입력하기\n",
    "e_date = driver.find_element_by_xpath(\"\"\"//*[@id=\"search_end_date\"]\"\"\")     \n",
    "driver.find_element_by_xpath(\"\"\"//*[@id=\"search_end_date\"]\"\"\").click()\n",
    "time.sleep(1)\n",
    "\n",
    "for c in end_date:\n",
    "    e_date.send_keys(c)\n",
    "    time.sleep(0.1)\n",
    "\n",
    "driver.find_element_by_xpath(\"\"\"//*[@id=\"content\"]/section/div[1]/div[2]/div/div/div/a[4]\"\"\").click()\n",
    "\n",
    "# 적용 클릭  \n",
    "driver.find_element_by_xpath(\"\"\"//*[@id=\"periodSearch\"]\"\"\").click()\n",
    "time.sleep(3)\n",
    "\n",
    "driver.quit()"
   ]
  },
  {
   "cell_type": "code",
   "execution_count": null,
   "metadata": {},
   "outputs": [],
   "source": []
  }
 ],
 "metadata": {
  "kernelspec": {
   "display_name": "Python 3",
   "language": "python",
   "name": "python3"
  },
  "language_info": {
   "codemirror_mode": {
    "name": "ipython",
    "version": 3
   },
   "file_extension": ".py",
   "mimetype": "text/x-python",
   "name": "python",
   "nbconvert_exporter": "python",
   "pygments_lexer": "ipython3",
   "version": "3.7.6"
  }
 },
 "nbformat": 4,
 "nbformat_minor": 4
}
