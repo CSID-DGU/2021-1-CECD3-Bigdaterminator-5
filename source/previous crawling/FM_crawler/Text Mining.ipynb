{
 "cells": [
  {
   "cell_type": "code",
   "execution_count": 1,
   "metadata": {},
   "outputs": [
    {
     "data": {
      "text/html": [
       "<div>\n",
       "<style scoped>\n",
       "    .dataframe tbody tr th:only-of-type {\n",
       "        vertical-align: middle;\n",
       "    }\n",
       "\n",
       "    .dataframe tbody tr th {\n",
       "        vertical-align: top;\n",
       "    }\n",
       "\n",
       "    .dataframe thead th {\n",
       "        text-align: right;\n",
       "    }\n",
       "</style>\n",
       "<table border=\"1\" class=\"dataframe\">\n",
       "  <thead>\n",
       "    <tr style=\"text-align: right;\">\n",
       "      <th></th>\n",
       "      <th>제목</th>\n",
       "      <th>본문</th>\n",
       "      <th>댓글</th>\n",
       "    </tr>\n",
       "  </thead>\n",
       "  <tbody>\n",
       "    <tr>\n",
       "      <th>0</th>\n",
       "      <td>비트코인 하락장으로 한 강간 디씨인</td>\n",
       "      <td>안 샀다고 한 닼</td>\n",
       "      <td>이제 자살이 아닌 타살이 될 것 오늘 펨코 비트코인 갤에서 연탄 자살 소동 일어나서...</td>\n",
       "    </tr>\n",
       "    <tr>\n",
       "      <th>1</th>\n",
       "      <td>킥킥이 사건 피해자 한울팍입니다 차가 해가 나날이 심해지네요 최군 발언 영상 포함</td>\n",
       "      <td>너무 스트레스 받아서 글이 더 어지러운 듯합니다 세줄 요약 난 신경 쓰기 싫은 데 ...</td>\n",
       "      <td>최군 왜 저럼 난 솔까 보다 킥킥이 저 사람이 더 악질 같은데 최소 는 대한민국 법...</td>\n",
       "    </tr>\n",
       "    <tr>\n",
       "      <th>2</th>\n",
       "      <td>요즘 사회가 진짜 존 나 각박해지긴 했다</td>\n",
       "      <td>예전엔 뭐 집안 어려운 여학생들 생리대 지원 이런 거 보면 아무 생각 안 들었는데 ...</td>\n",
       "      <td>그게 유리 바닥 부순다는 거몽키거프 남자들의 희생으로 겉으로만 화목해 보였던 거라고...</td>\n",
       "    </tr>\n",
       "    <tr>\n",
       "      <th>3</th>\n",
       "      <td>목마른 킹코브라에게 물을 줬더니 보인 놀라운 반응</td>\n",
       "      <td>NaN</td>\n",
       "      <td>막짤 저거 아니잖아 그냥 멀리 풀어줌 작성자 너무 하네이 분 좀 논란 있을 듯 여기...</td>\n",
       "    </tr>\n",
       "    <tr>\n",
       "      <th>4</th>\n",
       "      <td>이준석 오늘자 발언</td>\n",
       "      <td>태그를 지원하지 않는 브라우저입니다 비유가 너무 좋다 진짜 토론 잘하는 듯</td>\n",
       "      <td>이런 당연한 얘기를 다른 놈들은 하기가 힘든 건지 아니면 대가 리가 이상한 데로만 ...</td>\n",
       "    </tr>\n",
       "  </tbody>\n",
       "</table>\n",
       "</div>"
      ],
      "text/plain": [
       "                                              제목  \\\n",
       "0                            비트코인 하락장으로 한 강간 디씨인   \n",
       "1  킥킥이 사건 피해자 한울팍입니다 차가 해가 나날이 심해지네요 최군 발언 영상 포함   \n",
       "2                         요즘 사회가 진짜 존 나 각박해지긴 했다   \n",
       "3                    목마른 킹코브라에게 물을 줬더니 보인 놀라운 반응   \n",
       "4                                     이준석 오늘자 발언   \n",
       "\n",
       "                                                  본문  \\\n",
       "0                                          안 샀다고 한 닼   \n",
       "1  너무 스트레스 받아서 글이 더 어지러운 듯합니다 세줄 요약 난 신경 쓰기 싫은 데 ...   \n",
       "2  예전엔 뭐 집안 어려운 여학생들 생리대 지원 이런 거 보면 아무 생각 안 들었는데 ...   \n",
       "3                                                NaN   \n",
       "4          태그를 지원하지 않는 브라우저입니다 비유가 너무 좋다 진짜 토론 잘하는 듯   \n",
       "\n",
       "                                                  댓글  \n",
       "0  이제 자살이 아닌 타살이 될 것 오늘 펨코 비트코인 갤에서 연탄 자살 소동 일어나서...  \n",
       "1  최군 왜 저럼 난 솔까 보다 킥킥이 저 사람이 더 악질 같은데 최소 는 대한민국 법...  \n",
       "2  그게 유리 바닥 부순다는 거몽키거프 남자들의 희생으로 겉으로만 화목해 보였던 거라고...  \n",
       "3  막짤 저거 아니잖아 그냥 멀리 풀어줌 작성자 너무 하네이 분 좀 논란 있을 듯 여기...  \n",
       "4  이런 당연한 얘기를 다른 놈들은 하기가 힘든 건지 아니면 대가 리가 이상한 데로만 ...  "
      ]
     },
     "execution_count": 1,
     "metadata": {},
     "output_type": "execute_result"
    }
   ],
   "source": [
    "# 참고: https://wikidocs.net/40710\n",
    "import pandas as pd\n",
    "data = pd.read_csv(\"fm_엑셀확인용.csv\", error_bad_lines=False)\n",
    "text = data[['제목', '본문', '댓글']]\n",
    "text.head()"
   ]
  },
  {
   "cell_type": "code",
   "execution_count": 2,
   "metadata": {},
   "outputs": [
    {
     "data": {
      "text/plain": [
       "(20, 1000)"
      ]
     },
     "execution_count": 2,
     "metadata": {},
     "output_type": "execute_result"
    }
   ],
   "source": [
    "#TF-IDF 행렬 생성\n",
    "# TfidfVectorizer는 토큰화가 되어있지 않은 텍스트 데이터를 입력으로 사용\n",
    "from sklearn.feature_extraction.text import TfidfVectorizer\n",
    "\n",
    "vectorizer = TfidfVectorizer(stop_words='english', \n",
    "max_features= 1000) # 상위 1,000개의 단어를 보존 \n",
    "X = vectorizer.fit_transform(text['제목'])\n",
    "X = vectorizer.fit_transform(text['본문'].values.astype('U'))\n",
    "X = vectorizer.fit_transform(text['댓글'])\n",
    "X.shape # TF-IDF 행렬의 크기 확인"
   ]
  },
  {
   "cell_type": "code",
   "execution_count": 3,
   "metadata": {},
   "outputs": [],
   "source": [
    "# Topic Modeling: LDA 수행\n",
    "from sklearn.decomposition import LatentDirichletAllocation\n",
    "lda_model=LatentDirichletAllocation(n_components=10,learning_method='online',random_state=777,max_iter=1)"
   ]
  },
  {
   "cell_type": "code",
   "execution_count": 4,
   "metadata": {},
   "outputs": [],
   "source": [
    "lda_top=lda_model.fit_transform(X)"
   ]
  },
  {
   "cell_type": "code",
   "execution_count": 5,
   "metadata": {},
   "outputs": [
    {
     "name": "stdout",
     "output_type": "stream",
     "text": [
      "[[0.79187796 0.76431081 0.90514979 ... 0.86039285 1.00037174 0.77915032]\n",
      " [0.68684755 0.80512995 0.7997033  ... 0.85834367 0.81415124 0.85011236]\n",
      " [0.78713649 1.02659003 0.80602361 ... 0.8100315  0.95699192 0.80078996]\n",
      " ...\n",
      " [0.93470531 0.82969104 0.82971003 ... 0.8880314  0.86147617 0.766606  ]\n",
      " [0.8298032  0.7799097  0.93013625 ... 0.88461828 1.01335476 0.78841542]\n",
      " [0.77100208 0.886344   0.86740813 ... 0.80313516 0.90979018 0.77886395]]\n",
      "(10, 1000)\n"
     ]
    }
   ],
   "source": [
    "print(lda_model.components_)\n",
    "print(lda_model.components_.shape)"
   ]
  },
  {
   "cell_type": "code",
   "execution_count": 6,
   "metadata": {},
   "outputs": [
    {
     "name": "stdout",
     "output_type": "stream",
     "text": [
      "Topic 1: [('이유가', 1.23), ('수익', 1.14), ('바로', 1.13), ('전화로', 1.11), ('잠시', 1.07)]\n",
      "Topic 2: [('문의', 1.13), ('때문에', 1.12), ('수가', 1.11), ('않음', 1.08), ('물론', 1.08)]\n",
      "Topic 3: [('좋겠다', 1.11), ('스스로도', 1.06), ('당연한', 1.06), ('비키니', 1.05), ('뭐고', 1.05)]\n",
      "Topic 4: [('메인', 1.11), ('멈춰', 1.08), ('않음', 1.05), ('페미들', 1.04), ('단체', 1.04)]\n",
      "Topic 5: [('말로', 1.13), ('하지', 1.09), ('간부들', 1.06), ('없는데', 1.06), ('사실', 1.05)]\n",
      "Topic 6: [('추신수', 1.2), ('많은', 1.08), ('맹유나', 1.08), ('그래도', 1.08), ('생각해보면', 1.07)]\n",
      "Topic 7: [('솔직히', 1.16), ('그리고', 1.09), ('주자', 1.07), ('반포', 1.06), ('조만간', 1.05)]\n",
      "Topic 8: [('직보리', 1.14), ('반댓말이', 1.11), ('제목만', 1.11), ('진짜', 1.11), ('저런', 1.1)]\n",
      "Topic 9: [('여성', 1.13), ('밟고', 1.12), ('평생', 1.08), ('나오는', 1.06), ('새끼들아', 1.06)]\n",
      "Topic 10: [('오히려', 1.16), ('하지', 1.11), ('엔딩', 1.09), ('나라는', 1.08), ('하면서', 1.07)]\n"
     ]
    }
   ],
   "source": [
    "terms = vectorizer.get_feature_names() # 단어 집합. 1,000개의 단어가 저장됨.\n",
    "\n",
    "def get_topics(components, feature_names, n=5):\n",
    "    for idx, topic in enumerate(components):\n",
    "        print(\"Topic %d:\" % (idx+1), [(feature_names[i], topic[i].round(2)) for i in topic.argsort()[:-n - 1:-1]])\n",
    "get_topics(lda_model.components_,terms)"
   ]
  },
  {
   "cell_type": "code",
   "execution_count": null,
   "metadata": {},
   "outputs": [],
   "source": [
    "# 토큰화\n",
    "# import nltk\n",
    "# nltk.download('punkt')\n",
    "# text['제목'] = text.apply(lambda row: nltk.word_tokenize(row['제목']), axis=1)\n",
    "# text['본문'] = text.apply(lambda row: nltk.word_tokenize(str(row['본문']), axis=1)\n",
    "# text['댓글'] = text.apply(lambda row: nltk.word_tokenize(row['댓글']), axis=1)\n",
    "# text.head()"
   ]
  },
  {
   "cell_type": "code",
   "execution_count": null,
   "metadata": {},
   "outputs": [],
   "source": [
    "# 토큰화 데이터 저장\n",
    "# fm_dict_tokenized = {\n",
    "#     '제목' : text['제목'],\n",
    "#     '본문' : text['본문'],\n",
    "#     '댓글' : text['댓글']\n",
    "# }\n",
    "\n",
    "# df = pd.DataFrame(fm_dict_tokenized) \n",
    "# df.to_csv('fm_토큰화.csv', index = False, encoding=\"utf-8-sig\")"
   ]
  },
  {
   "cell_type": "code",
   "execution_count": null,
   "metadata": {},
   "outputs": [],
   "source": [
    "# 한 글자 단어 삭제\n",
    "# text['제목'] = text['제목'].apply(lambda x: [word for word in x if len(word) > 1])\n",
    "# text['본문'] = text['본문'].apply(lambda x: [word for word in x if len(word) > 1])\n",
    "# text['댓글'] = text['댓글'].apply(lambda x: [word for word in x if len(word) > 1])\n",
    "# text.head()"
   ]
  },
  {
   "cell_type": "code",
   "execution_count": null,
   "metadata": {},
   "outputs": [],
   "source": []
  },
  {
   "cell_type": "code",
   "execution_count": null,
   "metadata": {},
   "outputs": [],
   "source": []
  }
 ],
 "metadata": {
  "kernelspec": {
   "display_name": "Python 3",
   "language": "python",
   "name": "python3"
  },
  "language_info": {
   "codemirror_mode": {
    "name": "ipython",
    "version": 3
   },
   "file_extension": ".py",
   "mimetype": "text/x-python",
   "name": "python",
   "nbconvert_exporter": "python",
   "pygments_lexer": "ipython3",
   "version": "3.7.7"
  }
 },
 "nbformat": 4,
 "nbformat_minor": 4
}
