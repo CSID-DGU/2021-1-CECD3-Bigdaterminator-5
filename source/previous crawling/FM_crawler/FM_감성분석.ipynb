{
 "cells": [
  {
   "cell_type": "code",
   "execution_count": 1,
   "metadata": {},
   "outputs": [],
   "source": [
    "import requests\n",
    "import time\n",
    "import os\n",
    "import sys\n",
    "import re\n",
    "import io\n",
    "import json\n",
    "import csv\n",
    "import openpyxl\n",
    "import pandas as pd\n",
    "import numpy as np\n",
    "import kss\n",
    "import ast\n",
    "from pykospacing import spacing\n",
    "from konlpy.tag import Komoran"
   ]
  },
  {
   "cell_type": "code",
   "execution_count": 2,
   "metadata": {},
   "outputs": [
    {
     "data": {
      "text/html": [
       "<div>\n",
       "<style scoped>\n",
       "    .dataframe tbody tr th:only-of-type {\n",
       "        vertical-align: middle;\n",
       "    }\n",
       "\n",
       "    .dataframe tbody tr th {\n",
       "        vertical-align: top;\n",
       "    }\n",
       "\n",
       "    .dataframe thead th {\n",
       "        text-align: right;\n",
       "    }\n",
       "</style>\n",
       "<table border=\"1\" class=\"dataframe\">\n",
       "  <thead>\n",
       "    <tr style=\"text-align: right;\">\n",
       "      <th></th>\n",
       "      <th>index</th>\n",
       "      <th>제목</th>\n",
       "      <th>본문</th>\n",
       "      <th>댓글</th>\n",
       "    </tr>\n",
       "  </thead>\n",
       "  <tbody>\n",
       "    <tr>\n",
       "      <th>0</th>\n",
       "      <td>5</td>\n",
       "      <td>오늘자 콜센터 상담사의 외 침</td>\n",
       "      <td>한남들 후원 취소하는 거 타격 도 없으니까 홈페이지로 취소 문의 넣어 달래</td>\n",
       "      <td>저런 거 보면 그냥 장작 넣을려고 위장 같음 드가 자쟤는 초록우산 측에서 백퍼 고소...</td>\n",
       "    </tr>\n",
       "    <tr>\n",
       "      <th>1</th>\n",
       "      <td>7</td>\n",
       "      <td>이 기적인 한남들 기부해봐야 얼마나 한다고</td>\n",
       "      <td>요즘 핫한 초록우산 페미 지원 뉴스베댓 한남들에게 일 침 남자 놈들 기부 해봐야 얼...</td>\n",
       "      <td>솔직히 말해서 여초애들이 후원을 하겠냐고 족보세트 하나라 더 시켜 먹으려고 할 건데...</td>\n",
       "    </tr>\n",
       "    <tr>\n",
       "      <th>2</th>\n",
       "      <td>9</td>\n",
       "      <td>초록우산 문의 답변 받음</td>\n",
       "      <td>내가 초록우산 한 년 넘게 후원하고 있는데 어제 초록우산 관련 글 보고 바로 문의 ...</td>\n",
       "      <td>그 디씨에 올라온 상담사 글이 일 수도 있겠네 한 남꺼져 이거구만 후원자가 하는 질...</td>\n",
       "    </tr>\n",
       "  </tbody>\n",
       "</table>\n",
       "</div>"
      ],
      "text/plain": [
       "   index                       제목  \\\n",
       "0      5         오늘자 콜센터 상담사의 외 침   \n",
       "1      7  이 기적인 한남들 기부해봐야 얼마나 한다고   \n",
       "2      9            초록우산 문의 답변 받음   \n",
       "\n",
       "                                                  본문  \\\n",
       "0          한남들 후원 취소하는 거 타격 도 없으니까 홈페이지로 취소 문의 넣어 달래   \n",
       "1  요즘 핫한 초록우산 페미 지원 뉴스베댓 한남들에게 일 침 남자 놈들 기부 해봐야 얼...   \n",
       "2  내가 초록우산 한 년 넘게 후원하고 있는데 어제 초록우산 관련 글 보고 바로 문의 ...   \n",
       "\n",
       "                                                  댓글  \n",
       "0  저런 거 보면 그냥 장작 넣을려고 위장 같음 드가 자쟤는 초록우산 측에서 백퍼 고소...  \n",
       "1  솔직히 말해서 여초애들이 후원을 하겠냐고 족보세트 하나라 더 시켜 먹으려고 할 건데...  \n",
       "2  그 디씨에 올라온 상담사 글이 일 수도 있겠네 한 남꺼져 이거구만 후원자가 하는 질...  "
      ]
     },
     "execution_count": 2,
     "metadata": {},
     "output_type": "execute_result"
    }
   ],
   "source": [
    "#각 키워드에 해당하는 내용 정리\n",
    "#예시: ['간부', '군대', '기부', '나라', '백신', '병원', '수술', '아웃', '추신수', '후원']\n",
    "from IPython.core.display import display, HTML\n",
    "from konlpy.tag import Okt\n",
    "\n",
    "#키워드에 해당하는 제목, 본문, 댓글 출력, 추후 iteration 돌며 10가지 모두 할 것\n",
    "key = '후원'\n",
    "\n",
    "final = pd.DataFrame(columns = ['contents'])\n",
    "\n",
    "f = pd.read_csv('fm_엑셀확인용.csv')\n",
    "\n",
    "is_key = f['본문'].str.contains(key, na=False) | f['제목'].str.contains(key, na=False) | f['댓글'].str.contains(key, na=False)\n",
    "\n",
    "f_key = f[is_key]\n",
    "f_key = f_key.reset_index()\n",
    "f_key"
   ]
  },
  {
   "cell_type": "code",
   "execution_count": 3,
   "metadata": {},
   "outputs": [
    {
     "data": {
      "text/html": [
       "<div>\n",
       "<style scoped>\n",
       "    .dataframe tbody tr th:only-of-type {\n",
       "        vertical-align: middle;\n",
       "    }\n",
       "\n",
       "    .dataframe tbody tr th {\n",
       "        vertical-align: top;\n",
       "    }\n",
       "\n",
       "    .dataframe thead th {\n",
       "        text-align: right;\n",
       "    }\n",
       "</style>\n",
       "<table border=\"1\" class=\"dataframe\">\n",
       "  <thead>\n",
       "    <tr style=\"text-align: right;\">\n",
       "      <th></th>\n",
       "      <th>content</th>\n",
       "      <th>positive</th>\n",
       "      <th>negative</th>\n",
       "      <th>neutral</th>\n",
       "    </tr>\n",
       "  </thead>\n",
       "  <tbody>\n",
       "    <tr>\n",
       "      <th>0</th>\n",
       "      <td>오늘자 콜센터 상담사의 외침한 남들 후원 취소하는 거 타격도 없으니까 홈페이지로 취...</td>\n",
       "      <td>NaN</td>\n",
       "      <td>NaN</td>\n",
       "      <td>NaN</td>\n",
       "    </tr>\n",
       "  </tbody>\n",
       "</table>\n",
       "</div>"
      ],
      "text/plain": [
       "                                             content positive negative neutral\n",
       "0  오늘자 콜센터 상담사의 외침한 남들 후원 취소하는 거 타격도 없으니까 홈페이지로 취...      NaN      NaN     NaN"
      ]
     },
     "execution_count": 3,
     "metadata": {},
     "output_type": "execute_result"
    }
   ],
   "source": [
    "final_key = pd.DataFrame(columns = ['tokenized'])\n",
    "komoran = Komoran()\n",
    "\n",
    "for i in range(len(f_key)):\n",
    "    try:\n",
    "        st = f_key.loc[i, '제목']\n",
    "        final_key.loc[i, 'tokenized'] = st\n",
    "        ct = f_key.loc[i, '본문']\n",
    "        final_key.loc[i, 'tokenized'] += ct\n",
    "        \n",
    "        cm = f_key.loc[i, '댓글']\n",
    "        #str Concatenation 문제 발생시 주석처리한 부분처럼 str() 처리하면 해결 가능\n",
    "        final_key.loc[i, 'tokenized'] += cm\n",
    "        #final_key.loc[i, 'tokenized'] += str(cm)\n",
    "        \n",
    "    except KeyError:\n",
    "        print(\"error\")\n",
    "\n",
    "keyword_content = pd.DataFrame(columns = ['content','positive', 'negative', 'neutral'])\n",
    "\n",
    "\n",
    "for i in range(len(final_key)):\n",
    "    try:\n",
    "        fc = final_key.loc[i, 'tokenized'].replace(\" \", \"\")\n",
    "        fc = spacing(fc)\n",
    "        #fc = str(komoran.morphs(fc))\n",
    "        \n",
    "        if i == 0:\n",
    "            keyword_content.loc[0,'content'] = fc\n",
    "        else:\n",
    "            keyword_content.loc[0,'content'] += fc\n",
    "        \n",
    "    except KeyError:\n",
    "        print(\"error\")\n",
    "\n",
    "keyword_content"
   ]
  },
  {
   "cell_type": "code",
   "execution_count": 4,
   "metadata": {},
   "outputs": [],
   "source": [
    "# 감성사전에서 감성분석\n",
    "f = open('SentiWord_Dict.txt', 'r', -1, 'utf-8')\n",
    "lines = f.readlines()\n",
    "\n",
    "score_dict = []\n",
    "\n",
    "for line in lines:\n",
    "    line_splited = line.split()\n",
    "    score = int(line_splited[-1])\n",
    "    word = ''\n",
    "    for frac in line_splited[:-1]:\n",
    "        word = word + ' ' + frac\n",
    "    \n",
    "    word = word[1:]\n",
    "    score_dict.append([word, score])"
   ]
  },
  {
   "cell_type": "code",
   "execution_count": 5,
   "metadata": {},
   "outputs": [],
   "source": [
    "#keys = []\n",
    "\n",
    "keyword_content['positive'] = 0\n",
    "keyword_content['negative'] = 0\n",
    "keyword_content['neutral'] = 0\n",
    "\n",
    "komoran = Komoran()\n",
    "keys = spacing(keyword_content.loc[0, 'content'])\n",
    "#keys = str(komoran.nouns(keys))\n",
    "\n",
    "keyword_content.loc[0, 'content'] = spacing(keyword_content.loc[0, 'content'])\n",
    "keyword_content.loc[0, 'content'] = str(komoran.nouns(keyword_content.loc[0, 'content']))\n",
    "\n",
    "\n",
    "stopwords = ['태그', '지원', '으로', '시키다', '브라우저', '새끼', '이랑', '사람', '생각', '정도', '얼굴',\n",
    "             '섹스', '진짜', '하는', '그냥', '같은', '있는', '이런', '근데', '하고']\n",
    "\n",
    "\n",
    "pos_list = ast.literal_eval(keyword_content.loc[0, 'content'])\n",
    "    \n",
    "final = []\n",
    "    \n",
    "for j in range(len(pos_list)):\n",
    "    if pos_list[j] not in stopwords:\n",
    "        final.append(pos_list[j])\n",
    "    \n",
    "keyword_content.loc[0, 'content'] = str(final)\n",
    "#keys = str(final)"
   ]
  },
  {
   "cell_type": "code",
   "execution_count": 6,
   "metadata": {},
   "outputs": [],
   "source": [
    "keyword_content.insert(0, \"Keyword\", key)"
   ]
  },
  {
   "cell_type": "code",
   "execution_count": 7,
   "metadata": {},
   "outputs": [],
   "source": [
    "#tokens.append(keyword_content.loc[0, 'content'])\n",
    "#tokens.extend(keys)\n",
    "\n",
    "tokens = ast.literal_eval(keyword_content.loc[0, 'content'])\n",
    "\n",
    "try:\n",
    "    for token in tokens:\n",
    "        for dict_word in score_dict:\n",
    "            if dict_word[0] == token:\n",
    "                if dict_word[1] > 0:\n",
    "                    keyword_content.loc[0, 'positive'] += dict_word[1]\n",
    "                elif dict_word[1] < 0:\n",
    "                    keyword_content.loc[0, 'negative'] += dict_word[1]\n",
    "                else:\n",
    "                    keyword_content.loc[0, 'neutral'] += 1 #중립어는 개수 세기    \n",
    "except KeyError:\n",
    "    print(\"error\")"
   ]
  },
  {
   "cell_type": "code",
   "execution_count": 8,
   "metadata": {},
   "outputs": [
    {
     "data": {
      "text/html": [
       "<div>\n",
       "<style scoped>\n",
       "    .dataframe tbody tr th:only-of-type {\n",
       "        vertical-align: middle;\n",
       "    }\n",
       "\n",
       "    .dataframe tbody tr th {\n",
       "        vertical-align: top;\n",
       "    }\n",
       "\n",
       "    .dataframe thead th {\n",
       "        text-align: right;\n",
       "    }\n",
       "</style>\n",
       "<table border=\"1\" class=\"dataframe\">\n",
       "  <thead>\n",
       "    <tr style=\"text-align: right;\">\n",
       "      <th></th>\n",
       "      <th>Keyword</th>\n",
       "      <th>negative</th>\n",
       "      <th>neutral</th>\n",
       "      <th>positive</th>\n",
       "    </tr>\n",
       "  </thead>\n",
       "  <tbody>\n",
       "    <tr>\n",
       "      <th>0</th>\n",
       "      <td>후원</td>\n",
       "      <td>-21</td>\n",
       "      <td>7</td>\n",
       "      <td>18</td>\n",
       "    </tr>\n",
       "  </tbody>\n",
       "</table>\n",
       "</div>"
      ],
      "text/plain": [
       "  Keyword  negative  neutral  positive\n",
       "0      후원       -21        7        18"
      ]
     },
     "execution_count": 8,
     "metadata": {},
     "output_type": "execute_result"
    }
   ],
   "source": [
    "keyword_content[keyword_content.columns.difference(['content'])]"
   ]
  },
  {
   "cell_type": "code",
   "execution_count": 9,
   "metadata": {},
   "outputs": [
    {
     "data": {
      "image/png": "[encoded data removed]",
      "text/plain": [
       "<Figure size 432x288 with 1 Axes>"
      ]
     },
     "metadata": {},
     "output_type": "display_data"
    }
   ],
   "source": [
    "#% 시각화\n",
    "import matplotlib.pyplot as plt\n",
    "import matplotlib\n",
    "from matplotlib import font_manager, rc\n",
    "import platform\n",
    "\n",
    "#한글 깨짐 처리\n",
    "if platform.system() == 'Windows':\n",
    "# 윈도우인 경우\n",
    "    font_name = font_manager.FontProperties(fname=\"c:/Windows/Fonts/malgun.ttf\").get_name()\n",
    "    rc('font', family=font_name)\n",
    "else:    \n",
    "# Mac 인 경우\n",
    "    rc('font', family='AppleGothic')\n",
    "    \n",
    "matplotlib.rcParams['axes.unicode_minus'] = False\n",
    "pos = keyword_content.loc[0, 'positive']\n",
    "neg = str(keyword_content.loc[0, 'negative']).replace(\"-\", \"\")\n",
    "neu = keyword_content.loc[0, 'neutral']\n",
    "\n",
    "size = [pos, neg, neu]\n",
    "\n",
    "label = ['Positive','Negative','Neutral']\n",
    "\n",
    "plt.axis('equal')\n",
    "plt.pie(x=size, labels=label, autopct='%.2f%%')\n",
    "\n",
    "plt.title(\"키워드 : \" + key)\n",
    "plt.legend(loc=\"upper right\")\n",
    "plt.show()\n"
   ]
  },
  {
   "cell_type": "code",
   "execution_count": null,
   "metadata": {},
   "outputs": [],
   "source": []
  },
  {
   "cell_type": "code",
   "execution_count": null,
   "metadata": {},
   "outputs": [],
   "source": []
  }
 ],
 "metadata": {
  "kernelspec": {
   "display_name": "Python 3",
   "language": "python",
   "name": "python3"
  },
  "language_info": {
   "codemirror_mode": {
    "name": "ipython",
    "version": 3
   },
   "file_extension": ".py",
   "mimetype": "text/x-python",
   "name": "python",
   "nbconvert_exporter": "python",
   "pygments_lexer": "ipython3",
   "version": "3.7.7"
  }
 },
 "nbformat": 4,
 "nbformat_minor": 4
}
