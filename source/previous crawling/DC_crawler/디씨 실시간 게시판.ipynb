{
 "cells": [
  {
   "cell_type": "code",
   "execution_count": 7,
   "metadata": {},
   "outputs": [],
   "source": [
    "import requests\n",
    "import re\n",
    "from bs4 import BeautifulSoup\n",
    "import pandas as pd\n",
    "from urllib.request import urlopen\n",
    "from urllib.error import URLError, HTTPError"
   ]
  },
  {
   "cell_type": "code",
   "execution_count": 8,
   "metadata": {},
   "outputs": [
    {
     "name": "stdout",
     "output_type": "stream",
     "text": [
      "[]\n"
     ]
    }
   ],
   "source": [
    "BASE_URL = \"https://gall.dcinside.com/board/lists\"\n",
    "BODY_BASE_URL = \"https://gall.dcinside.com\"\n",
    "\n",
    "list_index = ['제목', '본문']\n",
    "t_list = []\n",
    "b_list = []\n",
    "address_list = []\n",
    "\n",
    "for pageNum in range(1,2):\n",
    "    try:\n",
    "        params = {'id': 'dcbest', 'page' : f'{pageNum}'}\n",
    "        headers = {'User-Agent' : \"Mozilla/5.0\"}\n",
    "        response = requests.get(BASE_URL, params = params, headers = headers)\n",
    "        soup = BeautifulSoup(response.content, 'html.parser')\n",
    "        contents = soup.find('tbody').find_all('tr')\n",
    "        \n",
    "        #제목\n",
    "        for i in contents:\n",
    "            line = []\n",
    "            try:     \n",
    "                title_tag = i.find('a', href=True)\n",
    "                title = title_tag.text\n",
    "                \n",
    "                address =  title_tag['href']\n",
    "                address_list.append(address)\n",
    "                \n",
    "                #Remove special Characters\n",
    "                cleaned_title = re.sub('[\\{\\}\\[\\]\\/?.,;:|\\)*~`!^\\-_+<>@\\#$%&\\\\\\=\\(\\'\\\"]','', title)\n",
    "                cleaned_title = re.sub('●|★|♡','', cleaned_title)\n",
    "                cleaned_title = re.sub('\\xa0','', cleaned_title)\n",
    "                #Remove initial consonants\n",
    "                cleaned_title = re.sub('[ㄱ-ㅎㅏ-ㅣ]','', cleaned_title)\n",
    "                cleaned_title = re.sub('[a-zA-Z0-9]','', cleaned_title)\n",
    "\n",
    "                line.append(cleaned_title)\n",
    "                time.sleep(5)\n",
    "                \n",
    "            except:\n",
    "                continue    \n",
    "            t_list.append(line)\n",
    "        \n",
    "    except:\n",
    "        continue\n",
    "        \n",
    "print(t_list)"
   ]
  },
  {
   "cell_type": "code",
   "execution_count": 9,
   "metadata": {},
   "outputs": [
    {
     "ename": "TypeError",
     "evalue": "'str' object is not callable",
     "output_type": "error",
     "traceback": [
      "\u001b[1;31m---------------------------------------------------------------------------\u001b[0m",
      "\u001b[1;31mTypeError\u001b[0m                                 Traceback (most recent call last)",
      "\u001b[1;32m<ipython-input-9-5f01b466b264>\u001b[0m in \u001b[0;36m<module>\u001b[1;34m\u001b[0m\n\u001b[0;32m     12\u001b[0m \u001b[1;33m\u001b[0m\u001b[0m\n\u001b[0;32m     13\u001b[0m         \u001b[1;32mfor\u001b[0m \u001b[0mcontent\u001b[0m \u001b[1;32min\u001b[0m \u001b[0mb_contents\u001b[0m\u001b[1;33m:\u001b[0m\u001b[1;33m\u001b[0m\u001b[1;33m\u001b[0m\u001b[0m\n\u001b[1;32m---> 14\u001b[1;33m             \u001b[0mb_line\u001b[0m \u001b[1;33m+=\u001b[0m \u001b[0mcontent\u001b[0m\u001b[1;33m.\u001b[0m\u001b[0mtext\u001b[0m\u001b[1;33m(\u001b[0m\u001b[1;33m)\u001b[0m\u001b[1;33m\u001b[0m\u001b[1;33m\u001b[0m\u001b[0m\n\u001b[0m\u001b[0;32m     15\u001b[0m \u001b[1;31m#             #Remove special Characters\u001b[0m\u001b[1;33m\u001b[0m\u001b[1;33m\u001b[0m\u001b[1;33m\u001b[0m\u001b[0m\n\u001b[0;32m     16\u001b[0m \u001b[1;31m#             b_line = re.sub('[\\{\\}\\[\\]\\/?.,;:|\\)*~`!^\\-_+<>@\\#$%&\\\\\\=\\(\\'\\\"]','', b_line)\u001b[0m\u001b[1;33m\u001b[0m\u001b[1;33m\u001b[0m\u001b[1;33m\u001b[0m\u001b[0m\n",
      "\u001b[1;31mTypeError\u001b[0m: 'str' object is not callable"
     ]
    }
   ],
   "source": [
    "for i in address_list:\n",
    "   \n",
    "    b_line = []\n",
    "        \n",
    "    # 본문\n",
    "    try:\n",
    "        headers = {'User-Agent' : \"Mozilla/5.0\"}\n",
    "        url = BODY_BASE_URL + str(i)\n",
    "        b_response = requests.get(url, headers = headers)\n",
    "        b_soup = BeautifulSoup(b_response.content,'html.parser')\n",
    "        b_contents = b_soup.find('div', {'class' : 'writing_view_box'}).find_all('div')   \n",
    "\n",
    "        for content in b_contents:\n",
    "            b_line += content.text()\n",
    "#             #Remove special Characters\n",
    "#             b_line = re.sub('[\\{\\}\\[\\]\\/?.,;:|\\)*~`!^\\-_+<>@\\#$%&\\\\\\=\\(\\'\\\"]','', b_line)\n",
    "#             b_line = re.sub('[●|★|♡]','', b_line)\n",
    "#             b_line = re.sub('[\\xa0|\\n|\\t|\\r]','', b_line)\n",
    "#             #Remove initial consonants\n",
    "#             b_line = re.sub('[ㄱ-ㅎㅏ-ㅣ]','', b_line)\n",
    "#             b_line = re.sub('[a-zA-Z0-9]','', b_line)\n",
    "            \n",
    "    except HTTPError as e:\n",
    "        b_line.append('')\n",
    "    except URLError as e:\n",
    "        b_line.append('')\n",
    "    except AttributeError as e:\n",
    "        b_line.append('')\n",
    "\n",
    "    b_list.append(b_line)\n",
    "\n",
    "response.close()\n",
    "    \n",
    "print(b_list)"
   ]
  },
  {
   "cell_type": "code",
   "execution_count": null,
   "metadata": {},
   "outputs": [],
   "source": [
    "df = pd.DataFrame(list, columns = list_index)\n",
    "df.to_csv('C:/Users/Administrator/DC_Crawling_best.csv', encoding = 'utf-8-sig')\n",
    "df.head()"
   ]
  }
 ],
 "metadata": {
  "kernelspec": {
   "display_name": "Python 3",
   "language": "python",
   "name": "python3"
  },
  "language_info": {
   "codemirror_mode": {
    "name": "ipython",
    "version": 3
   },
   "file_extension": ".py",
   "mimetype": "text/x-python",
   "name": "python",
   "nbconvert_exporter": "python",
   "pygments_lexer": "ipython3",
   "version": "3.7.6"
  }
 },
 "nbformat": 4,
 "nbformat_minor": 4
}
