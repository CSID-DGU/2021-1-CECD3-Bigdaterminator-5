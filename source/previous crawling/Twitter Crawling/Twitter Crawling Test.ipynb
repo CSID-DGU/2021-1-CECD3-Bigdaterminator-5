{
 "cells": [
  {
   "cell_type": "code",
   "execution_count": null,
   "metadata": {},
   "outputs": [],
   "source": [
    "!pip install twint"
   ]
  },
  {
   "cell_type": "code",
   "execution_count": null,
   "metadata": {},
   "outputs": [],
   "source": [
    "!pip install --user --upgrade -e git+https://github.com/twintproject/twint.git@origin/master#egg=twint"
   ]
  },
  {
   "cell_type": "code",
   "execution_count": null,
   "metadata": {},
   "outputs": [],
   "source": [
    "!pip install nest_asyncio"
   ]
  },
  {
   "cell_type": "code",
   "execution_count": null,
   "metadata": {},
   "outputs": [],
   "source": [
    "import twint\n",
    "import nest_asyncio\n",
    "nest_asyncio.apply()\n",
    "import pandas as pd\n",
    "from os import mkdir, path\n",
    "import datetime\n",
    "from datetime import timezone\n",
    "import re\n",
    "\n",
    "def twint_clean(word, num=False, eng=False):\n",
    "    #remove special characters\n",
    "    clean_data = re.sub('[^0-9a-zA-Zㄱ-ㅎ가-힣]','',word) \n",
    "    #remove hashtags\n",
    "    clean_data = re.sub('[#]+[0-9a-zA-Z_]+','',  clean_data)\n",
    "    #remove tweet mentions\n",
    "    clean_data = re.sub('@[\\w_]+','', clean_data)\n",
    "    #remove URL\n",
    "    clean_data = re.sub(r\"http[s]?://(?:[a-zA-Z]|[0-9]|[$-_@.&+]|[!*\\(\\),]|(?:%[0-9a-fA-F][0-9a-fA-F]))+\", ' ', word)\n",
    "    clean_data = re.sub(r\"[-a-zA-Z0-9@:%._\\+~#=]{1,256}\\.[a-zA-Z0-9()]{2,6}\\b([-a-zA-Z0-9()@:%_\\+.~#?&//=]*)\", ' ', word)\n",
    "    #remove retweets\n",
    "    clean_data = re.sub('RT @[\\w_]+: ', '', clean_data)\n",
    "    #remove newline\n",
    "    clean_data = clean_data.replace('\\n',' ')\n",
    "    clean_data = re.sub('[&]+[a-z]+', ' ', clean_data)\n",
    "    \n",
    "    if num is True:\n",
    "        clean_data = re.sub(r'\\d+','', clean_data)\n",
    "        \n",
    "    if eng is True:\n",
    "        clean_data = re.sub('[a-zA-Z]','', clean_data)\n",
    "        \n",
    "    return clean_data\n",
    "\n",
    "def twint_setting(directory, s_keyword, since, until, output_name, limit):\n",
    "    \n",
    "    c = twint.Config()\n",
    "    \n",
    "    c.Limit = limit\n",
    "    c.Search = s_keyword\n",
    "    c.Since = since\n",
    "    c.Until = until\n",
    "    c.Store_csv = True\n",
    "    c.Output = output_name\n",
    "    c.Hide_output = True\n",
    "    c.Debug = True\n",
    "    c.Rename = f'{directory}/save_endpoint/save_endpoint_{since}.txt'\n",
    "    c.Popular_tweets = True\n",
    "    \n",
    "    try:\n",
    "        twint.run.Search(c)\n",
    "    except (KeyboardInterrupt, SystemExit):\n",
    "        raise\n",
    "    except:\n",
    "        print(f\"Problem with {since}.\")\n",
    "              \n",
    "def twint_crawl(s_keyword, since, until, limit=2):\n",
    "    \n",
    "    directory = twint_clean(s_keyword)\n",
    "              \n",
    "    try:\n",
    "        mkdir(directory)\n",
    "        mkdir(f'{directory}/save_endpoint')\n",
    "        print(\"Directory\", directory, \"created\")\n",
    "    except FileExistsError:\n",
    "        print(\"Directory\", directory, \"already exists\")\n",
    "              \n",
    "    daterange = pd.date_range(since, until)\n",
    "              \n",
    "    for start_date in daterange:\n",
    "        \n",
    "        since = start_date.strftime(\"%Y-%m-%d\")\n",
    "        until = (start_date + datetime.timedelta(days=1)).strftime(\"%Y-%m-%d\")\n",
    "        \n",
    "        output_name = \"\".join(since.split(\"-\"))+\".csv\"\n",
    "        output_name = path.join(directory, output_name)\n",
    "        \n",
    "        print(f'Getting {since}')\n",
    "        twint_setting(directory, s_keyword, since, until, output_name, limit)\n",
    "        \n",
    "Keyword = \"코로나\"\n",
    "twint_crawl(Keyword, '2021-04-15', '2021-04-17', limit = 25)\n"
   ]
  },
  {
   "cell_type": "code",
   "execution_count": null,
   "metadata": {},
   "outputs": [],
   "source": [
    "from pathlib import Path\n",
    "from tqdm.auto import tqdm\n",
    "import os\n",
    "\n",
    "DATA_DIR = Path(f\"./{twint_clean(Keyword)}\")\n",
    "csv_file = [pos_csv for pos_csv in os.listdir(DATA_DIR) if pos_csv.endswith('.csv')]\n",
    "\n",
    "df_list =[]\n",
    "for f_name in tqdm(csv_file):\n",
    "    temp_df = pd.read_csv(DATA_DIR / f_name)\n",
    "    df_list.append(temp_df)\n",
    "\n",
    "df = pd.concat(df_list, sort = False)\n",
    "df[[\"date\", \"time\", \"username\", \"tweet\", \"retweets_count\"]].tail()"
   ]
  },
  {
   "cell_type": "code",
   "execution_count": null,
   "metadata": {},
   "outputs": [],
   "source": [
    "import site; site.getsitepackages()"
   ]
  },
  {
   "cell_type": "code",
   "execution_count": null,
   "metadata": {},
   "outputs": [],
   "source": [
    "from konlpy.tag import Mecab\n",
    "\n",
    "mecab = Mecab(dicpath = 'C:\\mecab\\mecab-ko-dic')\n",
    "\n",
    "def preprecessing_mecab(readData):\n",
    "    \n",
    "    sentence = twint_clean(readData)\n",
    "    \n",
    "    morphs = mecab.pos(sentence)\n",
    "    \n",
    "    JOSA = [\"JKS\", \"JKC\", \"JKG\", \"JKO\", \"JKB\", \"JKV\", \"JKQ\", \"JX\", \"JC\"]\n",
    "    SIGN = [\"SF\", \"SE\", \"SSO\", \"SSC\", \"SC\", \"SY\"]\n",
    "    TERMINATION = [\"EP\", \"EF\", \"EC\", \"ETN\", \"ETM\"]\n",
    "    SUPPORT_VERB = [\"VX\"]\n",
    "    NUMBER = [\"SN\"]\n",
    "    \n",
    "    morphs[:] = (morph for morph in morphs if morph[1] not in JOSA+SIGN+TERMINATION+SUPPORT_VERB)\n",
    "    \n",
    "    morphs[:] = (morph for morph in morphs if not (len(morph[0])==1))\n",
    "    \n",
    "    morphs[:] = (morph for morph in morphs if morph[1] not in NUMBER)\n",
    "    \n",
    "    result = []\n",
    "    for morph in morphs:\n",
    "        result.append(morph[0])\n",
    "    \n",
    "    return result\n",
    "\n",
    "\n",
    "SAMPLE_TEXT =\"<이건 또 무슨?? [단독]질병청, 코로나19 백신 맞고 사망해도 줄 돈 없다 文정부, 사망보상금 4억3000만원 약속했지만 보상금 지급할 질병청 예산 4억5000만원뿐 https://m.news.nate.com/view/20210422n02770?sect=sisa&list=rank&cate=interest>\"\n",
    "\n",
    "preprecessing_mecab(SAMPLE_TEXT)"
   ]
  },
  {
   "cell_type": "code",
   "execution_count": null,
   "metadata": {},
   "outputs": [],
   "source": []
  },
  {
   "cell_type": "code",
   "execution_count": null,
   "metadata": {},
   "outputs": [],
   "source": []
  }
 ],
 "metadata": {
  "kernelspec": {
   "display_name": "Python 3",
   "language": "python",
   "name": "python3"
  },
  "language_info": {
   "codemirror_mode": {
    "name": "ipython",
    "version": 3
   },
   "file_extension": ".py",
   "mimetype": "text/x-python",
   "name": "python",
   "nbconvert_exporter": "python",
   "pygments_lexer": "ipython3",
   "version": "3.7.7"
  }
 },
 "nbformat": 4,
 "nbformat_minor": 4
}
