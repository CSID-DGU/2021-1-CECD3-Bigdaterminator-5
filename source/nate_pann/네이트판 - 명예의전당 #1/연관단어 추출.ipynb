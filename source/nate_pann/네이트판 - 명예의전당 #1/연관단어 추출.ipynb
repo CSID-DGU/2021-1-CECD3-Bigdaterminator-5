{
 "cells": [
  {
   "cell_type": "code",
   "execution_count": 7,
   "metadata": {},
   "outputs": [],
   "source": [
    "from gensim.models import FastText\n",
    "from tqdm import tqdm\n",
    "import pandas as pd\n",
    "import numpy as np\n",
    "import matplotlib.pyplot as plt\n",
    "import fasttext"
   ]
  },
  {
   "cell_type": "code",
   "execution_count": 9,
   "metadata": {},
   "outputs": [
    {
     "name": "stderr",
     "output_type": "stream",
     "text": [
      "100%|█████████████████████████████████████████████████████████████████████████████| 801/801 [00:00<00:00, 85408.72it/s]"
     ]
    },
    {
     "name": "stdout",
     "output_type": "stream",
     "text": [
      "corpus 생성\n",
      "학습 중\n"
     ]
    },
    {
     "name": "stderr",
     "output_type": "stream",
     "text": [
      "\n"
     ]
    },
    {
     "name": "stdout",
     "output_type": "stream",
     "text": [
      "완료\n"
     ]
    }
   ],
   "source": [
    "corpus_fname = 'natepann.txt'\n",
    "model_fname = 'fasttext'\n",
    "\n",
    "\n",
    "print('corpus 생성')\n",
    "corpus = [sent.strip().split(\" \")for sent in tqdm(open(corpus_fname, 'r', encoding='utf-8').readlines())]\n",
    "\n",
    "print(\"학습 중\")\n",
    "model = FastText(corpus, vector_size=100, window=5, min_count=5, workers=4, sg=1)\n",
    "model.save(model_fname)\n",
    "print('완료')"
   ]
  },
  {
   "cell_type": "code",
   "execution_count": 10,
   "metadata": {},
   "outputs": [
    {
     "name": "stdout",
     "output_type": "stream",
     "text": [
      "(1671, 100)\n"
     ]
    }
   ],
   "source": [
    "loaded_model = FastText.load(\"fasttext\")\n",
    "print(model.wv.vectors.shape)"
   ]
  },
  {
   "cell_type": "code",
   "execution_count": 4,
   "metadata": {},
   "outputs": [
    {
     "name": "stdout",
     "output_type": "stream",
     "text": [
      "[('모니카', 0.9994255304336548), ('립제이', 0.9993626475334167), ('로잘린', 0.999346137046814), ('라치카', 0.9992579817771912), ('웨이비', 0.999199390411377), ('시미즈', 0.9991756677627563), ('허니제이', 0.9991698265075684), ('마스카라', 0.999142587184906), ('올라온', 0.999104917049408), ('김민주', 0.999099850654602)]\n"
     ]
    }
   ],
   "source": [
    "print(loaded_model.wv.most_similar(\"스우파\", topn=10))"
   ]
  },
  {
   "cell_type": "code",
   "execution_count": 5,
   "metadata": {},
   "outputs": [
    {
     "name": "stdout",
     "output_type": "stream",
     "text": [
      "[('오랜만에', 0.9997783899307251), ('안되는', 0.9997600317001343), ('모르겠지만', 0.9997597336769104), ('모르겠다', 0.999754786491394), ('안되냐고', 0.9997509717941284), ('와이프는', 0.9997484683990479), ('아니더라도', 0.9997484683990479), ('상황을', 0.9997460842132568), ('결혼할때', 0.9997426271438599), ('있지만', 0.9997420907020569)]\n"
     ]
    }
   ],
   "source": [
    "print(loaded_model.wv.most_similar(\"재난지원금\", topn=10))"
   ]
  },
  {
   "cell_type": "markdown",
   "metadata": {},
   "source": [
    "# 각 연관 단어가 포함된 텍스트 덩어리의 극성값 "
   ]
  },
  {
   "cell_type": "markdown",
   "metadata": {},
   "source": [
    "연관 단어를 10-15개 추출하고, 새로운용어 + 연관단어 두가지가 모두 포함된 문장들만 추출하여 그 문장들의 감성분석을 진행하여 극성값을 추출한다. "
   ]
  },
  {
   "cell_type": "code",
   "execution_count": 6,
   "metadata": {},
   "outputs": [],
   "source": [
    "import re\n",
    "import io\n",
    "import json\n",
    "import csv\n",
    "import openpyxl\n",
    "import pandas as pd\n",
    "import numpy as np\n",
    "import kss\n",
    "import ast\n",
    "from konlpy.tag import Komoran\n",
    "from IPython.core.display import display, HTML\n",
    "from konlpy.tag import Okt"
   ]
  },
  {
   "cell_type": "code",
   "execution_count": 23,
   "metadata": {},
   "outputs": [
    {
     "name": "stdout",
     "output_type": "stream",
     "text": [
      "['모니카', '립제이', '로잘린', '라치카', '웨이비', '시미즈', '허니제이', '마스카라', '올라온', '김민주']\n"
     ]
    }
   ],
   "source": [
    "Similar = []\n",
    "similar_word_list = list(loaded_model.wv.most_similar(\"스우파\", topn=10)) \n",
    "\n",
    "for i in range(len(similar_word_list)):\n",
    "    temp_str = similar_word_list[i][0].__str__()\n",
    "    Similar.append(temp_str)\n",
    "    \n",
    "print(Similar)"
   ]
  },
  {
   "cell_type": "code",
   "execution_count": 110,
   "metadata": {},
   "outputs": [],
   "source": [
    "fkey = '스우파'\n",
    "key = '모니카'"
   ]
  },
  {
   "cell_type": "code",
   "execution_count": 113,
   "metadata": {},
   "outputs": [
    {
     "name": "stdout",
     "output_type": "stream",
     "text": [
      "연관 단어 :스우파\n"
     ]
    },
    {
     "data": {
      "text/html": [
       "<div>\n",
       "<style scoped>\n",
       "    .dataframe tbody tr th:only-of-type {\n",
       "        vertical-align: middle;\n",
       "    }\n",
       "\n",
       "    .dataframe tbody tr th {\n",
       "        vertical-align: top;\n",
       "    }\n",
       "\n",
       "    .dataframe thead th {\n",
       "        text-align: right;\n",
       "    }\n",
       "</style>\n",
       "<table border=\"1\" class=\"dataframe\">\n",
       "  <thead>\n",
       "    <tr style=\"text-align: right;\">\n",
       "      <th></th>\n",
       "      <th>Keyword</th>\n",
       "      <th>negative</th>\n",
       "      <th>neutral</th>\n",
       "      <th>positive</th>\n",
       "    </tr>\n",
       "  </thead>\n",
       "  <tbody>\n",
       "    <tr>\n",
       "      <th>0</th>\n",
       "      <td>모니카</td>\n",
       "      <td>-21</td>\n",
       "      <td>0</td>\n",
       "      <td>12</td>\n",
       "    </tr>\n",
       "  </tbody>\n",
       "</table>\n",
       "</div>"
      ],
      "text/plain": [
       "  Keyword  negative  neutral  positive\n",
       "0     모니카       -21        0        12"
      ]
     },
     "execution_count": 113,
     "metadata": {},
     "output_type": "execute_result"
    }
   ],
   "source": [
    "final = pd.DataFrame(columns = ['contents'])\n",
    "\n",
    "f = pd.read_csv('natepann.csv')\n",
    "\n",
    "is_key = (f['본문'].str.contains(fkey, na=False) | f['제목'].str.contains(fkey, na=False)) & (f['본문'].str.contains(key, na=False) | f['제목'].str.contains(key, na=False))\n",
    "\n",
    "f_key = f[is_key]\n",
    "f_key = f_key.reset_index()\n",
    "f_key\n",
    "\n",
    "final_key = pd.DataFrame(columns = ['tokenized'])\n",
    "\n",
    "komoran = Komoran()\n",
    "\n",
    "for i in range(len(f_key)):\n",
    "    try:\n",
    "        st = f_key.loc[i, '제목']\n",
    "        final_key.loc[i, 'tokenized'] = str(st)\n",
    "        ct = f_key.loc[i, '본문']\n",
    "        final_key.loc[i, 'tokenized'] += str(ct)\n",
    "        \n",
    "    except KeyError:\n",
    "        print(\"error\")\n",
    "\n",
    "keyword_content = pd.DataFrame(columns = ['content','positive', 'negative', 'neutral'])\n",
    "\n",
    "\n",
    "for i in range(len(final_key)):\n",
    "    try:\n",
    "        fc = final_key.loc[i, 'tokenized']\n",
    "        \n",
    "        if i == 0:\n",
    "            keyword_content.loc[0,'content'] = fc\n",
    "        else:\n",
    "            keyword_content.loc[0,'content'] += fc\n",
    "        \n",
    "    except KeyError:\n",
    "        print(\"error\")\n",
    "\n",
    "keyword_content\n",
    "\n",
    "# 감성사전에서 감성분석\n",
    "f = open('SentiWord_Dict.txt', 'r', -1, 'utf-8')\n",
    "lines = f.readlines()\n",
    "\n",
    "score_dict = []\n",
    "\n",
    "for line in lines:\n",
    "    line_splited = line.split()\n",
    "    score = int(line_splited[-1])\n",
    "    word = ''\n",
    "    for frac in line_splited[:-1]:\n",
    "        word = word + ' ' + frac\n",
    "    \n",
    "    word = word[1:]\n",
    "    score_dict.append([word, score])\n",
    "    \n",
    "keyword_content['positive'] = 0\n",
    "keyword_content['negative'] = 0\n",
    "keyword_content['neutral'] = 0\n",
    "\n",
    "if keyword_content.empty:\n",
    "    print(\"사전과 비교할 조건에 맞는 내용 없음\")\n",
    "\n",
    "else:\n",
    "    keyword_content.loc[0, 'content'] = str(komoran.nouns(keyword_content.loc[0, 'content']))\n",
    "\n",
    "\n",
    "    stopwords = ['하다', '없다', '있다', '되다', '아니다', '같다', '이다', '않다', '그렇다', \n",
    "                 '이렇다', '싶다', '다', '것', '그', '이', '거', '니다']\n",
    "\n",
    "\n",
    "    pos_list = ast.literal_eval(keyword_content.loc[0, 'content'])\n",
    "\n",
    "    final = []\n",
    "\n",
    "    for j in range(len(pos_list)):\n",
    "        if pos_list[j] not in stopwords:\n",
    "            final.append(pos_list[j])\n",
    "\n",
    "    keyword_content.loc[0, 'content'] = str(final)\n",
    "\n",
    "    # 감성사전에서 감성분석\n",
    "    f = open('SentiWord_Dict.txt', 'r', -1, 'utf-8')\n",
    "    lines = f.readlines()\n",
    "\n",
    "    score_dict = []\n",
    "\n",
    "    for line in lines:\n",
    "        line_splited = line.split()\n",
    "        score = int(line_splited[-1])\n",
    "        word = ''\n",
    "        for frac in line_splited[:-1]:\n",
    "            word = word + ' ' + frac\n",
    "\n",
    "            word = word[1:]\n",
    "            score_dict.append([word, score])\n",
    "\n",
    "    keyword_content.insert(0, \"Keyword\", key)\n",
    "\n",
    "    tokens = ast.literal_eval(keyword_content.loc[0, 'content'])\n",
    "\n",
    "    try:\n",
    "        for token in tokens:\n",
    "            for dict_word in score_dict:\n",
    "                if dict_word[0] == token:\n",
    "                    if dict_word[1] > 0:\n",
    "                        keyword_content.loc[0, 'positive'] += dict_word[1]\n",
    "                    elif dict_word[1] < 0:\n",
    "                        keyword_content.loc[0, 'negative'] += dict_word[1]\n",
    "                    else:\n",
    "                        keyword_content.loc[0, 'negative'] += 1 #중립어는 개수 세기    \n",
    "    except KeyError:\n",
    "        print(\"error\")\n",
    "\n",
    "print(\"연관 단어 :\" + fkey)\n",
    "keyword_content[keyword_content.columns.difference(['content'])]"
   ]
  },
  {
   "cell_type": "code",
   "execution_count": 124,
   "metadata": {},
   "outputs": [
    {
     "data": {
      "image/png": "[encoded data removed]",
      "text/plain": [
       "<Figure size 432x288 with 1 Axes>"
      ]
     },
     "metadata": {},
     "output_type": "display_data"
    },
    {
     "name": "stdout",
     "output_type": "stream",
     "text": [
      "예시 문장 : 신정우 모니카 세상 무서운 캐릭인 줄 알았는데 트윗 완전 귀여움저번주부터 트위터 깔고 소통하면서 완전 신나심\n"
     ]
    }
   ],
   "source": [
    "import matplotlib.pyplot as plt\n",
    "import matplotlib\n",
    "from matplotlib import font_manager, rc\n",
    "import platform\n",
    "\n",
    "#iteration 만들기 이전 => 수동 합계\n",
    "\n",
    "#한글 꺠짐 처리\n",
    "if platform.system() == 'Windows':\n",
    "# 윈도우인 경우\n",
    "    font_name = font_manager.FontProperties(fname=\"c:/Windows/Fonts/malgun.ttf\").get_name()\n",
    "    rc('font', family=font_name)\n",
    "else:    \n",
    "# Mac 인 경우\n",
    "    rc('font', family='AppleGothic')\n",
    "    \n",
    "matplotlib.rcParams['axes.unicode_minus'] = False\n",
    "pos = str(12 + 12 + 6 + 6+ 2 + 13 + 13)\n",
    "neg = str(-21 -23 -16 -17 -14 -17 -29).replace(\"-\", \"\")\n",
    "\n",
    "size = [pos, neg]\n",
    "\n",
    "label = ['Positive','Negative']\n",
    "\n",
    "plt.axis('equal')\n",
    "plt.pie(x=size, labels=label, autopct='%.2f%%')\n",
    "\n",
    "plt.title(\"연관 명사 : \" + fkey)\n",
    "plt.legend(loc=\"upper right\")\n",
    "plt.show()\n",
    "\n",
    "print(\"예시 문장 : \" + f_key.loc[0, '본문'])"
   ]
  },
  {
   "cell_type": "markdown",
   "metadata": {},
   "source": [
    "# 각 연관 단어 1:1 사전 비교 극성값"
   ]
  },
  {
   "cell_type": "markdown",
   "metadata": {},
   "source": [
    "각 단어별 사전과 비교시 아예 검색이 되지 않는 경우가 너무 많음, 형태적으로 사전에 등록되지 않은 내용이 많아서 1:1 매핑이 어려움."
   ]
  },
  {
   "cell_type": "code",
   "execution_count": 37,
   "metadata": {},
   "outputs": [
    {
     "name": "stdout",
     "output_type": "stream",
     "text": [
      "['모니카', '립제이', '로잘린', '라치카', '웨이비', '시미즈', '허니제이', '마스카라', '올라온', '김민주', '광고', '첫번째', '환승연애', '팬들이', '안유진', '떠난', '끝나고', '이채연', '시간에', '재계약을', '리헤이', '하루종일', '데리고', '가게를', '걸서위', '반응이', '아이들이', '한국에', '사서', '역시', '하려고', '당일', '사랑해', '인스타', '최유정', '방금', '나은은', '없다는', '보아', '몰라서', '말고도', '이유를', '엠마', '한번뿐인', '바빠서', '방법이', '보이는', '하도', '있도록', '중간중간', '잘린', '따라', '갖고', '베트남', '예쁜', '만원을', '프라우드먼', '아직까지', '받아', '화이팅', '지원을', '서울대', '아이는', '음식을', '사이', '보니까', '사진도', '나머지', '마름', '블로그', '당연히', '초반', '해야할지', '평범한', '추천', '없던', '좋겠다', '만드는', '병원에서', '가까이', '코로나가', '년간', '기다리고', '봐서', '이라', '좋지', '애기', '해주고', '베트남에', '판에', '그나마', '안됨', '년동안', '시댁에서', '마크', '마시고', '한국으로', '대부분', '하루', '백신을']\n"
     ]
    }
   ],
   "source": [
    "Similar = []\n",
    "similar_word_list = list(loaded_model.wv.most_similar(\"스우파\", topn=100)) \n",
    "\n",
    "for i in range(len(similar_word_list)):\n",
    "    temp_str = similar_word_list[i][0].__str__()\n",
    "    Similar.append(temp_str)\n",
    "    \n",
    "print(Similar)"
   ]
  },
  {
   "cell_type": "code",
   "execution_count": 38,
   "metadata": {},
   "outputs": [],
   "source": [
    "word_senti = pd.DataFrame(columns = ['positive', 'negative', 'neutral'])"
   ]
  },
  {
   "cell_type": "code",
   "execution_count": 39,
   "metadata": {},
   "outputs": [],
   "source": [
    "w= '바빠서'\n",
    "word_senti.insert(0, \"Word\", w)"
   ]
  },
  {
   "cell_type": "code",
   "execution_count": 40,
   "metadata": {},
   "outputs": [],
   "source": [
    "word_senti.loc[0, 'positive'] = 0\n",
    "word_senti.loc[0, 'negative'] = 0\n",
    "word_senti.loc[0, 'neutral'] = 0\n",
    "\n",
    "try:\n",
    "    for dict_word in score_dict:\n",
    "        if dict_word[0] == w:\n",
    "            if dict_word[1] > 0:\n",
    "                word_senti.loc[0, 'positive'] += dict_word[1]\n",
    "            elif dict_word[1] < 0:\n",
    "                word_senti.loc[0, 'negative'] += dict_word[1]\n",
    "            else:\n",
    "                word_senti.loc[0, 'neutral'] += 1 #중립어는 개수 세기    \n",
    "except KeyError:\n",
    "    print(\"error\")"
   ]
  },
  {
   "cell_type": "code",
   "execution_count": 41,
   "metadata": {},
   "outputs": [
    {
     "data": {
      "text/html": [
       "<div>\n",
       "<style scoped>\n",
       "    .dataframe tbody tr th:only-of-type {\n",
       "        vertical-align: middle;\n",
       "    }\n",
       "\n",
       "    .dataframe tbody tr th {\n",
       "        vertical-align: top;\n",
       "    }\n",
       "\n",
       "    .dataframe thead th {\n",
       "        text-align: right;\n",
       "    }\n",
       "</style>\n",
       "<table border=\"1\" class=\"dataframe\">\n",
       "  <thead>\n",
       "    <tr style=\"text-align: right;\">\n",
       "      <th></th>\n",
       "      <th>negative</th>\n",
       "      <th>neutral</th>\n",
       "      <th>positive</th>\n",
       "    </tr>\n",
       "  </thead>\n",
       "  <tbody>\n",
       "    <tr>\n",
       "      <th>0</th>\n",
       "      <td>0</td>\n",
       "      <td>0</td>\n",
       "      <td>0</td>\n",
       "    </tr>\n",
       "  </tbody>\n",
       "</table>\n",
       "</div>"
      ],
      "text/plain": [
       "  negative neutral positive\n",
       "0        0       0        0"
      ]
     },
     "execution_count": 41,
     "metadata": {},
     "output_type": "execute_result"
    }
   ],
   "source": [
    "word_senti[word_senti.columns.difference(['Word'])]"
   ]
  },
  {
   "cell_type": "code",
   "execution_count": null,
   "metadata": {},
   "outputs": [],
   "source": []
  },
  {
   "cell_type": "code",
   "execution_count": null,
   "metadata": {},
   "outputs": [],
   "source": []
  }
 ],
 "metadata": {
  "kernelspec": {
   "display_name": "Python 3",
   "language": "python",
   "name": "python3"
  },
  "language_info": {
   "codemirror_mode": {
    "name": "ipython",
    "version": 3
   },
   "file_extension": ".py",
   "mimetype": "text/x-python",
   "name": "python",
   "nbconvert_exporter": "python",
   "pygments_lexer": "ipython3",
   "version": "3.7.6"
  }
 },
 "nbformat": 4,
 "nbformat_minor": 4
}
