{
 "cells": [
  {
   "cell_type": "code",
   "execution_count": 1,
   "metadata": {
    "scrolled": true
   },
   "outputs": [],
   "source": [
    "import os\n",
    "import sys\n",
    "import pandas as pd\n",
    "import numpy as np\n",
    "import requests\n",
    "import re\n",
    "import io\n",
    "from datetime import datetime\n",
    "from bs4 import BeautifulSoup\n",
    "from selenium.webdriver import Chrome\n",
    "from selenium.webdriver.common.keys import Keys\n",
    "from konlpy.tag import Okt \n",
    "import time\n",
    "import json\n",
    "import csv"
   ]
  },
  {
   "cell_type": "code",
   "execution_count": 16,
   "metadata": {},
   "outputs": [],
   "source": [
    "#톡톡-대한민국이슈 실시간 베스트글 실시간 (당일 기준 게시물 최대 10개가 추려지는 게시판)\n",
    "def nate_Crawler():\n",
    "    \n",
    "    browser = Chrome()\n",
    "    browser.maximize_window()\n",
    "    base_url = 'https://pann.nate.com'\n",
    "    browser.get(base_url)\n",
    "    browser.find_elements_by_xpath('//*[@id=\"header\"]/div[2]/div/ul/li[2]/a')[0].click()\n",
    "    browser.find_elements_by_xpath('//*[@id=\"categoryArea\"]/li[13]/a')[0].click()\n",
    "    \n",
    "    titles = []\n",
    "    links = []\n",
    "    link = []\n",
    "\n",
    "    res = requests.get(browser.current_url)\n",
    "    res.raise_for_status()\n",
    "    res.encoding = None\n",
    "    html = res.text\n",
    "\n",
    "    soup = BeautifulSoup(html,'html.parser')\n",
    "    full_list = soup.find('ul', {'class': 'post_list'}).findAll('li')\n",
    "\n",
    "    for li in full_list: \n",
    "        link = li.findAll('a')\n",
    "        for a in link:\n",
    "            if \"channel\" in a['href']:\n",
    "                continue\n",
    "            else:\n",
    "                real_link = 'https://pann.nate.com' + a.get('href')  \n",
    "                real_title = a.get('title')\n",
    "\n",
    "        links.append(real_link)\n",
    "        titles.append(real_title)\n",
    "\n",
    "\n",
    "    txt = []\n",
    "    for i in links:\n",
    "        res = requests.get(i)\n",
    "        res.raise_for_status()\n",
    "        res.encoding = None\n",
    "        html2 = res.text\n",
    "\n",
    "        soup = BeautifulSoup(html2, 'html.parser')\n",
    "        contentArea = soup.find(\"div\", {\"class\" : \"viewarea\"})\n",
    "        parags = contentArea.findAll(\"div\", {\"id\" : \"contentArea\"})\n",
    "\n",
    "        content = \"\"\n",
    "\n",
    "        for parag in parags:\n",
    "            content += parag.text.replace('&nbsp;| |\\t|\\r|\\n|', '')\n",
    "        content = content.replace('\\n',\"\")\n",
    "        content = content.replace('\\t',\"\")\n",
    "        content = content.replace('\\xa0',\"\")\n",
    "        content = content.replace('\\u200b',\"\")\n",
    "        content = content.replace('\\ufeff',\"\")\n",
    "        content = content.replace('[',\"\")\n",
    "        content = content.replace(']',\"\")\n",
    "        content = content.replace('..|...|....',\"\")\n",
    "        content = content.replace('ㅋㅋㅋㅋ|ㅋㅋㅋㅋㅋㅋㅋ|ㅋㅋㅋㅋㅋㅋㅋㅋ|ㅎㅎㅎㅎ|ㄷㄷ',\"\")\n",
    "        txt.append(content)\n",
    "\n",
    "    okt=Okt()\n",
    "    morphs = []\n",
    "    for i in txt:\n",
    "            morphs.append(okt.morphs(i))\n",
    "            \n",
    "    \n",
    "    nate_dict = {\n",
    "        '제목' : titles,\n",
    "        '본문' : txt\n",
    "    }\n",
    "\n",
    "    df = pd.DataFrame(nate_dict) \n",
    "    df.to_csv('natepann.csv', index=False, encoding=\"utf-8-sig\")\n",
    "    \n",
    "    morphs_dict = {\n",
    "        'gud'\n",
    "    }\n",
    "    df2 = pd.DataFrame(morphs, header = None)\n",
    "    df2.to_csv('natepann_Morphs.csv', index=False, encoding=\"utf-8-sig\")\n",
    "    \n",
    "    browser.close()"
   ]
  },
  {
   "cell_type": "code",
   "execution_count": 17,
   "metadata": {},
   "outputs": [
    {
     "ename": "TypeError",
     "evalue": "__init__() got an unexpected keyword argument 'header'",
     "output_type": "error",
     "traceback": [
      "\u001b[1;31m---------------------------------------------------------------------------\u001b[0m",
      "\u001b[1;31mTypeError\u001b[0m                                 Traceback (most recent call last)",
      "\u001b[1;32m<ipython-input-17-c0b7c32c6b14>\u001b[0m in \u001b[0;36m<module>\u001b[1;34m\u001b[0m\n\u001b[1;32m----> 1\u001b[1;33m \u001b[0mnate_Crawler\u001b[0m\u001b[1;33m(\u001b[0m\u001b[1;33m)\u001b[0m\u001b[1;33m\u001b[0m\u001b[1;33m\u001b[0m\u001b[0m\n\u001b[0m",
      "\u001b[1;32m<ipython-input-16-82731e5cee3d>\u001b[0m in \u001b[0;36mnate_Crawler\u001b[1;34m()\u001b[0m\n\u001b[0;32m     74\u001b[0m     \u001b[0mdf\u001b[0m\u001b[1;33m.\u001b[0m\u001b[0mto_csv\u001b[0m\u001b[1;33m(\u001b[0m\u001b[1;34m'natepann.csv'\u001b[0m\u001b[1;33m,\u001b[0m \u001b[0mindex\u001b[0m\u001b[1;33m=\u001b[0m\u001b[1;32mFalse\u001b[0m\u001b[1;33m,\u001b[0m \u001b[0mencoding\u001b[0m\u001b[1;33m=\u001b[0m\u001b[1;34m\"utf-8-sig\"\u001b[0m\u001b[1;33m)\u001b[0m\u001b[1;33m\u001b[0m\u001b[1;33m\u001b[0m\u001b[0m\n\u001b[0;32m     75\u001b[0m \u001b[1;33m\u001b[0m\u001b[0m\n\u001b[1;32m---> 76\u001b[1;33m     \u001b[0mdf2\u001b[0m \u001b[1;33m=\u001b[0m \u001b[0mpd\u001b[0m\u001b[1;33m.\u001b[0m\u001b[0mDataFrame\u001b[0m\u001b[1;33m(\u001b[0m\u001b[0mmorphs\u001b[0m\u001b[1;33m,\u001b[0m \u001b[0mheader\u001b[0m \u001b[1;33m=\u001b[0m \u001b[1;32mNone\u001b[0m\u001b[1;33m)\u001b[0m\u001b[1;33m\u001b[0m\u001b[1;33m\u001b[0m\u001b[0m\n\u001b[0m\u001b[0;32m     77\u001b[0m     \u001b[0mdf2\u001b[0m\u001b[1;33m.\u001b[0m\u001b[0mto_csv\u001b[0m\u001b[1;33m(\u001b[0m\u001b[1;34m'natepann_Morphs.csv'\u001b[0m\u001b[1;33m,\u001b[0m \u001b[0mindex\u001b[0m\u001b[1;33m=\u001b[0m\u001b[1;32mFalse\u001b[0m\u001b[1;33m,\u001b[0m \u001b[0mencoding\u001b[0m\u001b[1;33m=\u001b[0m\u001b[1;34m\"utf-8-sig\"\u001b[0m\u001b[1;33m)\u001b[0m\u001b[1;33m\u001b[0m\u001b[1;33m\u001b[0m\u001b[0m\n\u001b[0;32m     78\u001b[0m \u001b[1;33m\u001b[0m\u001b[0m\n",
      "\u001b[1;31mTypeError\u001b[0m: __init__() got an unexpected keyword argument 'header'"
     ]
    }
   ],
   "source": [
    "nate_Crawler()"
   ]
  },
  {
   "cell_type": "code",
   "execution_count": null,
   "metadata": {},
   "outputs": [],
   "source": []
  }
 ],
 "metadata": {
  "kernelspec": {
   "display_name": "Python 3",
   "language": "python",
   "name": "python3"
  },
  "language_info": {
   "codemirror_mode": {
    "name": "ipython",
    "version": 3
   },
   "file_extension": ".py",
   "mimetype": "text/x-python",
   "name": "python",
   "nbconvert_exporter": "python",
   "pygments_lexer": "ipython3",
   "version": "3.7.6"
  }
 },
 "nbformat": 4,
 "nbformat_minor": 4
}
