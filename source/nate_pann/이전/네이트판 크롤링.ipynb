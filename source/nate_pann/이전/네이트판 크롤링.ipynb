{
 "cells": [
  {
   "cell_type": "code",
   "execution_count": 7,
   "metadata": {
    "scrolled": true
   },
   "outputs": [],
   "source": [
    "import os\n",
    "import sys\n",
    "import pandas as pd\n",
    "import numpy as np\n",
    "import requests\n",
    "import re\n",
    "import io\n",
    "from datetime import datetime\n",
    "from bs4 import BeautifulSoup\n",
    "from selenium.webdriver import Chrome\n",
    "from selenium.webdriver.common.keys import Keys\n",
    "from konlpy.tag import Okt \n",
    "import time\n",
    "import json\n",
    "import csv"
   ]
  },
  {
   "cell_type": "code",
   "execution_count": 8,
   "metadata": {},
   "outputs": [],
   "source": [
    "browser = Chrome()\n",
    "browser.maximize_window()\n",
    "base_url = 'https://pann.nate.com'\n",
    "browser.get(base_url)"
   ]
  },
  {
   "cell_type": "code",
   "execution_count": 9,
   "metadata": {},
   "outputs": [],
   "source": [
    "#톡커들의 선택 명예의 전당 - 일상톡 랭킹 - 실시간 (당일 실시간 베스트 게시물)\n",
    "browser.find_elements_by_xpath('//*[@id=\"container\"]/div[5]/div[2]/div[2]/div[1]/a')[0].click()\n",
    "browser.find_elements_by_xpath('//*[@id=\"tselect\"]/a')[0].click()\n",
    "browser.find_elements_by_xpath('//*[@id=\"container\"]/div[3]/div[1]/div[2]/div[2]/ul/li[2]/a')[0].click()"
   ]
  },
  {
   "cell_type": "code",
   "execution_count": 4,
   "metadata": {},
   "outputs": [
    {
     "name": "stdout",
     "output_type": "stream",
     "text": [
      "{'제목': ['다른 여자랑 계속 출퇴근 같이하겠다는 남편', \"'영남대 강간을 덮으려 한다' 센터입장과 사실확인\", '눈수술로 사망사고낸 가해자 여자였으면', '한국이 별일 다 터져도 안망하는이유', '이렇게 당당한 태도. 내일 고소합니다.', '한강 의대생 동기 폭탄 발언 “니가 죽인거야”', '보태준거 없이 바라는 시댁 어떻게 방어하죠', '아이를 과하게 띄워 주며 애지중지 하던 부모', '술만마시면 우리집에오는시어머니', '신당동에서 구찌 신발 맡겼다가 훼손이 되었습니다. 2', '근데 솔직히 트와이스가 대단하긴함', '꼭 형님하고 비슷하게 해가야하나요?', '오늘킹덤', '교환 학생으로 한국에서 강의 듣던 일본녀.', '[만화] 우리나라 현실', '페미니스트=정신병 확실한 이유', '남편 전여친의 모친상 가라고 해야할까요?', '강아지가 서운함을 느끼는 순간..', '마른 여자의 식단', '전남친 결혼한다고 카톡왔어', '일반인과 우울증 환자의 차이', '진짜 한강의대생사건 개에에에소름부분', '(방탈죄송)(긴글 주의)신혼인데 저희 부모님때문에 답...', '치킨무에 대한 일본반응', '한강 의대생 살인사건인거 확실해요??', '일전에 시어머니가 백명이라고 고민올렸던 사람입니다...', '자기 애견추가비용 안내는 친구 대처방법', '놀이터 미끄럼틀에서 어떤아이가 유리병 덩져서 파편...', '김밥 먹고 임플란트 하게 됐어요', '다음 생에는 다이아수저집 개로 태어나', '안친한 남사친이 밥먹자 하면', '그립긴한데', '스타1 프로게이머였던 이영호가 공익으로 간 이유', '외도 의심해 아내 sns 열어본 남편...', '(추가)결혼하자는게 문제인가요?', '요즘 사주는 요즘 기준으로 봐야 한다', '어리고 예쁜 아내와 살고있는걱  후기', '한강 의대생 그냥 친구가 범인이길 바라는거 같음', '백지에 함부로 싸인하면 안되는 이유', '민트초코 발명', '사회생활 잘하고싶은데.... 이리저리 휘둘려서 너무 ...', '다시 만나면 진짜 잘할자신있는데..', '아들부심 심한 친구 어쩌죠?', '통닭집 포장봉투 논란', '아빠가 밥을 안먹어요', '결혼안한 중년 어떤시선으로 보이시나요?', '남편의 외도, 가출, 상간녀의 뻔뻔함. 도와주세요', '매트리스 찌른내 어떻게 없애요', '남편월급', '바쁜척하고 관심없는척하고', '생모를 찾겠다는게 나쁜년인가요?', '깜박이 안켜서 벌금내는 법 대체 언제 생겼나요?', '우리가 헤어진 이유는', '조용한 남자는 호감표현 어케해?', '5월 26일부터 전세계 맥도널드 점포 유니폼 교체', '월수익 800백만원 찍는 배달맨 1인칭 ㄷㄷㄷ', '저격글로 사람 피말리는 시어머니', '시누이 결혼식 한복', '미국 주의회 화상회의 대참사', '결혼하자는게 문제인가요?', '남친핸드폰에 문자', '보고싶어', '눈은', '일반명사가 되어버린 브랜드들', '논란의 돈 갚기', '갑자기 안쳐다보는 이유', '너는 왜 나를 아쉬워하지 않을까', '연애경험 회수에 대한 남녀 차이.', '피아노가 이미 있는데 또 사래요', '관리받아야하는데 고민...그리고 꾸밈비 얼마나 받나요', '시아버지가 차번호 물어 부부싸움', '두 동서와 두 며느리', '헤어지고 한달지나서 전화온 이유', '작년 외도녀 관련댓글로 고소당햇다네여', '새벽 3시에 술집에서 혼자 소주마시는 여자 옆에가서', '남편이랑 조카랑 친하면 숙모입장에서 불편할까요?', '동생에게 전재산까지 넘길 수 있는 누나', '머니게임 7화 요약', '솔직히 임산부가 힘든게 뭐가 있어요?', '지금', '형님, 동서 간에도 질투가 심한가요?', '카트라이더하는 40대 아줌마!', '시댁 모임을 좋아하시는 분들과 아닌 분들 중 어느쪽...', '머니게임 성별대결 남자 패', '언론 백신, 아버지 어머니 걱정에 속 탑니다', '근데 이번 킹덤 평가말이야', \"MBC <실화탐사대>에서 포항에서 발생한 '여중생 조건...\", '남편이 1박 여행을 안보내줘요', '남자가 월 세후 583만원 벌면 괜찮은건가요..?', '마음이 완전 뒤돌아서서', '결혼식장에 친구없는 남자 여자보면 기가 차더라 ㅋㅋㅋ', '이게 나이 차이인가?', '페미가 비정상인 이유', '아마 너도', '[킹덤]나도 킹덤 개인 취향 픽좀...', '자식 이름 헷갈려하는 부모 있나요', '남자들은 못가지면 후려치는거 잇어??', '내가너랑하고싶은거..', '전업주부들 화장하세요', '지방에서 올라와 서울서 개원한 의사는'], 'url': ['https://pann.nate.com/talk/359710315', 'https://pann.nate.com/talk/359710060', 'https://pann.nate.com/talk/359710455', 'https://pann.nate.com/talk/359715225', 'https://pann.nate.com/talk/359718798', 'https://pann.nate.com/talk/359719048', 'https://pann.nate.com/talk/359713868', 'https://pann.nate.com/talk/359715316', 'https://pann.nate.com/talk/359726633', 'https://pann.nate.com/talk/359708738', 'https://pann.nate.com/talk/359717740', 'https://pann.nate.com/talk/359727002', 'https://pann.nate.com/talk/359717863', 'https://pann.nate.com/talk/359715275', 'https://pann.nate.com/talk/359716621', 'https://pann.nate.com/talk/359710252', 'https://pann.nate.com/talk/359722070', 'https://pann.nate.com/talk/359715401', 'https://pann.nate.com/talk/359710196', 'https://pann.nate.com/talk/359718924', 'https://pann.nate.com/talk/359715242', 'https://pann.nate.com/talk/359708198', 'https://pann.nate.com/talk/359708466', 'https://pann.nate.com/talk/359715384', 'https://pann.nate.com/talk/359714432', 'https://pann.nate.com/talk/359728031', 'https://pann.nate.com/talk/359723780', 'https://pann.nate.com/talk/359722470', 'https://pann.nate.com/talk/359721530', 'https://pann.nate.com/talk/359708780', 'https://pann.nate.com/talk/359721007', 'https://pann.nate.com/talk/359708842', 'https://pann.nate.com/talk/359715333', 'https://pann.nate.com/talk/359727208', 'https://pann.nate.com/talk/359729627', 'https://pann.nate.com/talk/359727104', 'https://pann.nate.com/talk/359726606', 'https://pann.nate.com/talk/359716717', 'https://pann.nate.com/talk/359715209', 'https://pann.nate.com/talk/359727106', 'https://pann.nate.com/talk/359727014', 'https://pann.nate.com/talk/359713765', 'https://pann.nate.com/talk/359726810', 'https://pann.nate.com/talk/359715292', 'https://pann.nate.com/talk/359719879', 'https://pann.nate.com/talk/359718047', 'https://pann.nate.com/talk/359727356', 'https://pann.nate.com/talk/359726802', 'https://pann.nate.com/talk/359726657', 'https://pann.nate.com/talk/359717048', 'https://pann.nate.com/talk/359729987', 'https://pann.nate.com/talk/359725496', 'https://pann.nate.com/talk/359712842', 'https://pann.nate.com/talk/359713617', 'https://pann.nate.com/talk/359728879', 'https://pann.nate.com/talk/359727165', 'https://pann.nate.com/talk/359729292', 'https://pann.nate.com/talk/359710094', 'https://pann.nate.com/talk/359727110', 'https://pann.nate.com/talk/359713412', 'https://pann.nate.com/talk/359714753', 'https://pann.nate.com/talk/359721021', 'https://pann.nate.com/talk/359721338', 'https://pann.nate.com/talk/359728876', 'https://pann.nate.com/talk/359715355', 'https://pann.nate.com/talk/359709902', 'https://pann.nate.com/talk/359717969', 'https://pann.nate.com/talk/359727224', 'https://pann.nate.com/talk/359718272', 'https://pann.nate.com/talk/359717492', 'https://pann.nate.com/talk/359729999', 'https://pann.nate.com/talk/359729965', 'https://pann.nate.com/talk/359710506', 'https://pann.nate.com/talk/359708590', 'https://pann.nate.com/talk/359723876', 'https://pann.nate.com/talk/359718763', 'https://pann.nate.com/talk/359728869', 'https://pann.nate.com/talk/359718084', 'https://pann.nate.com/talk/359730057', 'https://pann.nate.com/talk/359713180', 'https://pann.nate.com/talk/359730261', 'https://pann.nate.com/talk/359725499', 'https://pann.nate.com/talk/359721807', 'https://pann.nate.com/talk/359713723', 'https://pann.nate.com/talk/359711598', 'https://pann.nate.com/talk/359715690', 'https://pann.nate.com/talk/359708848', 'https://pann.nate.com/talk/359718391', 'https://pann.nate.com/talk/359730255', 'https://pann.nate.com/talk/359712015', 'https://pann.nate.com/talk/359723805', 'https://pann.nate.com/talk/359709373', 'https://pann.nate.com/talk/359721158', 'https://pann.nate.com/talk/359712107', 'https://pann.nate.com/talk/359718710', 'https://pann.nate.com/talk/359729735', 'https://pann.nate.com/talk/359715535', 'https://pann.nate.com/talk/359708266', 'https://pann.nate.com/talk/359729432', 'https://pann.nate.com/talk/359711329']}\n"
     ]
    }
   ],
   "source": [
    "res = requests.get(browser.current_url)\n",
    "res.raise_for_status()\n",
    "res.encoding = None\n",
    "html = res.text\n",
    "\n",
    "soup = BeautifulSoup(html,'html.parser')\n",
    "\n",
    "titles = []\n",
    "links = []\n",
    "\n",
    "first_list = soup.find('div', {'class': 'cntList'}).findAll('li')\n",
    "\n",
    "for li in first_list: \n",
    "    f_link = li.findAll('a')\n",
    "    for a in f_link:\n",
    "        real_link = 'https://pann.nate.com' + a.get('href')  \n",
    "    links.append(real_link)\n",
    "    \n",
    "for li in first_list:\n",
    "    f_title = li.findAll('dl')\n",
    "    for dl in f_title:\n",
    "        t = dl.find('a')\n",
    "        real_title = t.get('title')\n",
    "    titles.append(real_title)\n",
    "    \n",
    "browser.find_elements_by_xpath('//*[@id=\"last\"]')[0].click()\n",
    "\n",
    "res = requests.get(browser.current_url)\n",
    "res.raise_for_status()\n",
    "res.encoding = None\n",
    "html = res.text\n",
    "\n",
    "soup = BeautifulSoup(html,'html.parser')\n",
    "\n",
    "second_list = soup.find('div', {'class': 'cntList'}).findAll('li')\n",
    "\n",
    "for li in second_list: \n",
    "    s_link = li.findAll('a')\n",
    "    for a in s_link:\n",
    "        real_link = 'https://pann.nate.com' + a.get('href')  \n",
    "    links.append(real_link)\n",
    "\n",
    "for li in second_list:\n",
    "    s_title = li.findAll('dl')\n",
    "    for dl in s_title:\n",
    "        t = dl.find('a')\n",
    "        real_title = t.get('title')\n",
    "    titles.append(real_title)\n",
    "\n",
    "print({'제목': titles, 'url': links}, sep='\\n')"
   ]
  },
  {
   "cell_type": "code",
   "execution_count": 6,
   "metadata": {},
   "outputs": [],
   "source": [
    "txt = []\n",
    "    \n",
    "for i in links:\n",
    "    try: \n",
    "        #본문\n",
    "        res = requests.get(i)\n",
    "        res.raise_for_status()\n",
    "        res.encoding = None            \n",
    "        html2 = res.text\n",
    "        \n",
    "        soup = BeautifulSoup(html2, 'html.parser')\n",
    "        contentArea = soup.find(\"div\", {\"class\" : \"viewarea\"})            \n",
    "        parags = contentArea.findAll(\"div\", {\"id\" : \"contentArea\"})\n",
    "\n",
    "        content = \"\"\n",
    "\n",
    "        for parag in parags:\n",
    "            content += parag.text.replace('&nbsp;| |\\t|\\r|\\n|', '')\n",
    "        content = re.sub('[ㄱ-ㅎㅏ-ㅣa-zA-Z0-9]', '', content)\n",
    "        content = re.sub('[&nbsp; | &nbsp;| \\n|\\t|\\r]', '', content)\n",
    "        content = re.sub('[\\xa0]', '', content)\n",
    "        content = re.sub('[-=+,#/\\?:^$.@*\\\"※~&%ㆍ!』\\\\‘|\\(\\)\\[\\]\\<\\>`\\'…》]', '', content)     \n",
    "        content = re.sub('<[^>]+>','',content)\n",
    "\n",
    "        txt.append(content)\n",
    "             \n",
    "    except HTTPError as e:\n",
    "        txt.append('')\n",
    "    except URLError as e:\n",
    "        txt.append('')\n",
    "    except AttributeError as e:\n",
    "        txt.append('')\n",
    "                      \n",
    "\n",
    "okt=Okt()\n",
    "title_morphs = []\n",
    "txt_morphs = []\n",
    "    \n",
    "for i in titles:\n",
    "    title_morphs.append(okt.morphs(i))\n",
    "    \n",
    "for i in txt:\n",
    "    txt_morphs.append(okt.morphs(i))\n",
    "             \n",
    "    \n",
    "nate_dict = {\n",
    "    '제목' : titles,\n",
    "    '본문' : txt\n",
    "}\n",
    "\n",
    "\n",
    "df = pd.DataFrame(nate_dict) \n",
    "df.to_csv('natepann.csv', index=False, encoding=\"utf-8-sig\")\n",
    "    \n",
    "morphs_dict = {\n",
    "    '제목 형태소' : title_morphs,\n",
    "    '본문 형태소' : txt_morphs\n",
    "}\n",
    "\n",
    "df2 = pd.DataFrame(morphs_dict)\n",
    "df2.to_csv('natepann_Morphs.csv', index=False, encoding=\"utf-8-sig\")\n",
    "    \n",
    "#browser.close()"
   ]
  },
  {
   "cell_type": "code",
   "execution_count": null,
   "metadata": {},
   "outputs": [],
   "source": []
  }
 ],
 "metadata": {
  "kernelspec": {
   "display_name": "Python 3",
   "language": "python",
   "name": "python3"
  },
  "language_info": {
   "codemirror_mode": {
    "name": "ipython",
    "version": 3
   },
   "file_extension": ".py",
   "mimetype": "text/x-python",
   "name": "python",
   "nbconvert_exporter": "python",
   "pygments_lexer": "ipython3",
   "version": "3.7.6"
  }
 },
 "nbformat": 4,
 "nbformat_minor": 4
}
