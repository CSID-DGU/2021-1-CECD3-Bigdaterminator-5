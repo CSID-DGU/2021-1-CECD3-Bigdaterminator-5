{
 "cells": [
  {
   "cell_type": "code",
   "execution_count": 1,
   "metadata": {},
   "outputs": [],
   "source": [
    "from gensim.models import FastText\n",
    "from tqdm import tqdm\n",
    "import pandas as pd\n",
    "import numpy as np\n",
    "import matplotlib.pyplot as plt\n",
    "import fasttext"
   ]
  },
  {
   "cell_type": "code",
   "execution_count": 7,
   "metadata": {},
   "outputs": [
    {
     "name": "stdout",
     "output_type": "stream",
     "text": [
      "0       ['것좀', '우리', '댕댕', '자랑'] ['상치', '울', '댕댕', '감사...\n",
      "1                       ['것좀', '우리', '댕댕', '보고', '가세'] []\n",
      "2       ['자랑', '댕댕', '이의', '입', '마개'] ['댕', '첨', '조금',...\n",
      "3       ['강아지', '생명체', '우리', '댕댕', '구경'] ['우리', '강아지',...\n",
      "4                             ['우리', '집', '댕댕', '고구마'] []\n",
      "                              ...                        \n",
      "2985         ['프듀', '분량', '악편', '당한', '생', '한번', '부탁'] []\n",
      "2986    ['성량', '오지', '가수'] ['이홍기', '라디오', '개', '진짜', '...\n",
      "2987    ['프듀'] ['혹시', '픽못정', '사람', '혹시', '정', '표', '타카...\n",
      "2988    ['댓글', '부탁', '해', '택배', '만행'] ['모바일', '띄어쓰기', ...\n",
      "2989    ['권', '현빈', '그', '춤', '애'] ['뚝딱', '이현빈', '어제',...\n",
      "Length: 2990, dtype: object\n",
      "0       것좀 우리 댕댕 자랑 상치 울 댕댕 감사 사진 아기 때 사진 몇 장 더 이름 밀크 ...\n",
      "1                                         것좀 우리 댕댕 보고 가세 \n",
      "2       자랑 댕댕 이의 입 마개 댕 첨 조금 산책 때 물 매너 댕 칭찬 출처 검색 및 사진...\n",
      "3       강아지 생명체 우리 댕댕 구경 우리 강아지 자랑 좀 해도 될런지요눈 안 가슴 선물 ...\n",
      "4                                            우리 집 댕댕 고구마 \n",
      "                              ...                        \n",
      "2985                                 프듀 분량 악편 당한 생 한번 부탁 \n",
      "2986                    성량 오지 가수 이홍기 라디오 개 진짜 사진 여운 댕댕 힐링\n",
      "2987    프듀 혹시 픽못정 사람 혹시 정 표 타카 켄타 켄타 부탁 해뭐 때문 마음 아마 과정...\n",
      "2988    댓글 부탁 해 택배 만행 모바일 띄어쓰기 맞춤법 양해 편의 체 음대 직장인 임 쇼핑...\n",
      "2989    권 현빈 그 춤 애 뚝딱 이현빈 어제 유노 현빈 보고 좀 발 움 팔다리 사람 때 더...\n",
      "Length: 2990, dtype: object\n"
     ]
    }
   ],
   "source": [
    "import pandas as pd\n",
    "import re\n",
    "\n",
    "document = pd.read_csv(\"word_nouns.csv\")\n",
    "document = document[\"제목 형태소\"].apply(str)+\" \"+document[\"본문 형태소\"].apply(str)\n",
    "\n",
    "print(document)\n",
    "for i in range(len(document)):\n",
    "    document[i] = re.sub('[^ ㄱ-ㅣ가-힣]','',document[i])\n",
    "    \n",
    "print(document)\n",
    "document.to_csv('test_data.txt', sep = '\\t', index = False)\n",
    "\n",
    "#명사"
   ]
  },
  {
   "cell_type": "code",
   "execution_count": 8,
   "metadata": {},
   "outputs": [
    {
     "name": "stderr",
     "output_type": "stream",
     "text": [
      "100%|██████████████████████████████████████████████████████████████████████████| 2991/2991 [00:00<00:00, 130378.64it/s]"
     ]
    },
    {
     "name": "stdout",
     "output_type": "stream",
     "text": [
      "corpus 생성\n",
      "학습 중\n"
     ]
    },
    {
     "name": "stderr",
     "output_type": "stream",
     "text": [
      "\n"
     ]
    },
    {
     "name": "stdout",
     "output_type": "stream",
     "text": [
      "완료\n",
      "(4916, 100)\n"
     ]
    }
   ],
   "source": [
    "corpus_fname = 'test_data.txt'\n",
    "model_fname = 'fasttext'\n",
    "\n",
    "\n",
    "print('corpus 생성')\n",
    "corpus = [sent.strip().split(\" \")for sent in tqdm(open(corpus_fname, 'r', encoding='utf-8').readlines())]\n",
    "\n",
    "print(\"학습 중\")\n",
    "model = FastText(corpus, vector_size=100, window=5, min_count=5, workers=4, sg=1)\n",
    "model.save(model_fname)\n",
    "print('완료')\n",
    "\n",
    "loaded_model = FastText.load(\"fasttext\")\n",
    "print(model.wv.vectors.shape)"
   ]
  },
  {
   "cell_type": "code",
   "execution_count": 9,
   "metadata": {},
   "outputs": [
    {
     "name": "stdout",
     "output_type": "stream",
     "text": [
      "[('댕댕', 0.9982611536979675), ('연상', 0.7452716827392578), ('냥댕', 0.7129592895507812), ('아치', 0.7119482755661011), ('마자', 0.7024320363998413), ('차이점', 0.6996071338653564), ('호랑이', 0.698519766330719), ('사슴', 0.6969309449195862), ('질투', 0.6964923739433289), ('오남매', 0.6955316066741943)]\n"
     ]
    }
   ],
   "source": [
    "print(loaded_model.wv.most_similar(\"댕댕이\", topn=10))"
   ]
  },
  {
   "cell_type": "code",
   "execution_count": null,
   "metadata": {},
   "outputs": [],
   "source": []
  }
 ],
 "metadata": {
  "kernelspec": {
   "display_name": "Python 3",
   "language": "python",
   "name": "python3"
  },
  "language_info": {
   "codemirror_mode": {
    "name": "ipython",
    "version": 3
   },
   "file_extension": ".py",
   "mimetype": "text/x-python",
   "name": "python",
   "nbconvert_exporter": "python",
   "pygments_lexer": "ipython3",
   "version": "3.8.5"
  }
 },
 "nbformat": 4,
 "nbformat_minor": 4
}
