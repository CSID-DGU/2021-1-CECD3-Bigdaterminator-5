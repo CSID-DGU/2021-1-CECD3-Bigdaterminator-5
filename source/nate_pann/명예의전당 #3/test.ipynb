{
 "cells": [
  {
   "cell_type": "code",
   "execution_count": 1,
   "metadata": {},
   "outputs": [],
   "source": [
    "import requests\n",
    "import time\n",
    "import os\n",
    "import sys\n",
    "import re\n",
    "import io\n",
    "import json\n",
    "import csv\n",
    "import openpyxl\n",
    "import pandas as pd\n",
    "import numpy as np\n",
    "from urllib.request import urlopen\n",
    "from urllib.error import URLError, HTTPError\n",
    "from bs4 import BeautifulSoup\n",
    "from selenium.webdriver import Chrome\n",
    "from selenium.webdriver.common.keys import Keys\n",
    "from konlpy.tag import Komoran, Okt\n",
    "from nltk import Text\n",
    "from pykospacing import spacing\n",
    "import kss"
   ]
  },
  {
   "cell_type": "code",
   "execution_count": 2,
   "metadata": {},
   "outputs": [
    {
     "name": "stdout",
     "output_type": "stream",
     "text": [
      "시작날짜 입력(eg.20210920):20210920\n"
     ]
    }
   ],
   "source": [
    "browser = Chrome()\n",
    "\n",
    "titles = []\n",
    "links = []\n",
    "\n",
    "date = input(\"시작날짜 입력(eg.20210920):\")\n",
    "\n",
    "#링크, 제목\n",
    "for i in range(0,16):\n",
    "    \n",
    "    for j in range(1,3):\n",
    "        browser.get(\"https://pann.nate.com/talk/ranking/d?stdt=\" + str(date) + \"&page=\" + str(j))\n",
    "        soup = BeautifulSoup(browser.page_source, 'html.parser')\n",
    "\n",
    "        first_list = soup.find('div', {'class': 'cntList'}).findAll('li')\n",
    "\n",
    "    for li in first_list: \n",
    "        f_link = li.findAll('a')\n",
    "        for a in f_link:\n",
    "            real_link = 'https://pann.nate.com' + a.get('href') \n",
    "        links.append(real_link)\n",
    "    \n",
    "    for li in first_list:\n",
    "        f_title = li.findAll('dl')\n",
    "        for dl in f_title:\n",
    "            t = dl.find('a')\n",
    "            real_title = t.get('title')\n",
    "            real_title = re.sub('[^ ㄱ-ㅣ가-힣]','',real_title)\n",
    "#             real_title = spacing(real_title)\n",
    "#             real_title = re.sub('[ㄱ-ㅎㅏ-ㅣa-zA-Z0-9]', '', real_title)\n",
    "#             real_title = re.sub('[\\xa0|0xed]', '', real_title)\n",
    "#             real_title = re.sub('[-=+_★♥♡,#/\\?:╋^$.@*\\\"※~&%ㆍ!』\\\\‘|\\(\\)\\[\\]\\<\\>`\\'…》—;]','',real_title)\n",
    "        titles.append(real_title)\n",
    "        \n",
    "    date = int(date) + 1\n",
    "\n",
    "#print({'제목': titles, 'url': links}, sep='\\n')"
   ]
  },
  {
   "cell_type": "code",
   "execution_count": 3,
   "metadata": {},
   "outputs": [],
   "source": [
    "#본문\n",
    "txt = []\n",
    "    \n",
    "for i in links:\n",
    "    try: \n",
    "        res = requests.get(i)\n",
    "        res.raise_for_status()\n",
    "        res.encoding = None            \n",
    "        html2 = res.text\n",
    "        \n",
    "        soup = BeautifulSoup(html2, 'html.parser')\n",
    "        contentArea = soup.find(\"div\", {\"class\" : \"viewarea\"})            \n",
    "        parags = contentArea.findAll(\"div\", {\"id\" : \"contentArea\"})\n",
    "\n",
    "        content = \"\"\n",
    "\n",
    "        for parag in parags:\n",
    "            content += parag.text\n",
    "#         content = re.sub('[ㄱ-ㅎㅏ-ㅣa-zA-Z0-9]', '', content)\n",
    "#         content = re.sub('[&nbsp;|\\n|\\t|\\r]', '', content)\n",
    "#         content = re.sub('[\\xa0]', '', content)\n",
    "#         content = re.sub('[-=+_★♥♡,#/\\?:╋^$.@*\\\"※~&%ㆍ!』\\\\‘|\\(\\)\\[\\]\\<\\>`\\'…》—;]', '', content)\n",
    "        content = re.sub('[^ ㄱ-ㅣ가-힣]','',content)\n",
    "        #content = spacing(content)\n",
    "        \n",
    "        txt.append(content)\n",
    "             \n",
    "    except HTTPError as e:\n",
    "        txt.append('')\n",
    "    except URLError as e:\n",
    "        txt.append('')\n",
    "    except AttributeError as e:\n",
    "        txt.append('')\n",
    "        \n",
    "#print(txt)"
   ]
  },
  {
   "cell_type": "code",
   "execution_count": 4,
   "metadata": {},
   "outputs": [],
   "source": [
    "#형태소 분석\n",
    "from konlpy.tag import Okt\n",
    "\n",
    "okt = Okt() \n",
    "\n",
    "title_morphs = []\n",
    "txt_morphs = []\n",
    "    \n",
    "for i in titles:\n",
    "    title_morphs.append(okt.morphs(i))\n",
    "    \n",
    "for i in txt:\n",
    "    txt_morphs.append(okt.morphs(i))\n",
    "    \n",
    "\n",
    "nate_dict = {\n",
    "    '제목' : titles,\n",
    "    '본문' : txt\n",
    "}\n",
    "\n",
    "df = pd.DataFrame(nate_dict) \n",
    "df.to_csv('natepann_test.csv', index=False, encoding=\"utf-8-sig\")\n",
    "\n",
    "  \n",
    "morphs_dict = {\n",
    "    '제목 형태소' : title_morphs,\n",
    "    '본문 형태소' : txt_morphs\n",
    "\n",
    "}\n",
    "\n",
    "\n",
    "df2 = pd.DataFrame(morphs_dict)\n",
    "df2.to_csv('natepann_Morphs.csv', index=False, encoding=\"utf-8-sig\")\n",
    "\n",
    "browser.close()"
   ]
  },
  {
   "cell_type": "code",
   "execution_count": 5,
   "metadata": {},
   "outputs": [
    {
     "name": "stdout",
     "output_type": "stream",
     "text": [
      "0           ['히틀러', '가', '대중', '들', '을', '다루던', '방법'] []\n",
      "1      ['니', '들', '이', '태용', '얼굴', '깐다고'] ['태', '용이',...\n",
      "2      ['아이즈', '원', '멤버', '들', '근황'] ['권', '은비', '팔로'...\n",
      "3      ['나', '모르는', '동네', '에', '버려짐', '도와줘', '어떡해'] [...\n",
      "4      ['남편', '이', '저', '보고', '식탐', '있다는데', '제', '가',...\n",
      "                             ...                        \n",
      "545    ['정말', '결혼', '생활', '이', '행복한', '분', '있나요'] ['판...\n",
      "546    ['도련님', '에게', '존댓말', '쓰고', '처남', '에겐', '반말', '...\n",
      "547               ['일본', '에', '생긴', '한국', '형', '편의점'] []\n",
      "548    ['로제', '팬', '들', '이', '자기', '노래', '불러주니까', '울었...\n",
      "549    ['설현', '이', '마른거냐', 'ㅋ'] ['제목', '살짝', '어그', '로...\n",
      "Length: 550, dtype: object\n",
      "0                                   히틀러 가 대중 들 을 다루던 방법 \n",
      "1      니 들 이 태용 얼굴 깐다고 태 용이 못 생겨 질거 같음 ㅋㅋㅋㅋ 니 들 이 평생 ...\n",
      "2      아이즈 원 멤버 들 근황 권 은비 팔로 우미 최근 에 솔로 데뷔 앨범 마무리 사쿠라...\n",
      "3      나 모르는 동네 에 버려짐 도와줘 어떡해 엄마 가 만원 찾아놓은 거 가방 에 넣어 ...\n",
      "4      남편 이 저 보고 식탐 있다는데 제 가 식탐 인지 봐주세요 거두 절미 하고 제목 처...\n",
      "                             ...                        \n",
      "545    정말 결혼 생활 이 행복한 분 있나요 판 에는 결혼 에 부정 적 인 글 이 많지만 ...\n",
      "546    도련님 에게 존댓말 쓰고 처남 에겐 반말 해도 되나요 오늘 같이 식사 하는데 엄마 ...\n",
      "547                                    일본 에 생긴 한국 형 편의점 \n",
      "548    로제 팬 들 이 자기 노래 불러주니까 울었대 중간 에 놀라면서 ㅇㅅㅇ 표정 짔 는거...\n",
      "549    설현 이 마른거냐 ㅋ 제목 살짝 어그 로고 설현 당연히 말랐음 근데 궁금한게 어떻게...\n",
      "Length: 550, dtype: object\n"
     ]
    }
   ],
   "source": [
    "import pandas as pd\n",
    "import re\n",
    "\n",
    "document = pd.read_csv(\"natepann_Morphs.csv\")\n",
    "document = document[\"제목 형태소\"].apply(str)+\" \"+document[\"본문 형태소\"].apply(str)\n",
    "\n",
    "print(document)\n",
    "for i in range(len(document)):\n",
    "    document[i] = re.sub('[^ ㄱ-ㅣ가-힣]','',document[i])\n",
    "    \n",
    "print(document)\n",
    "document.to_csv('natapann_kiwi.txt', sep = '\\t', index = False)\n",
    "\n",
    "#명사"
   ]
  },
  {
   "cell_type": "code",
   "execution_count": 1,
   "metadata": {},
   "outputs": [],
   "source": [
    "############### 추가 데이터 추출"
   ]
  },
  {
   "cell_type": "code",
   "execution_count": 2,
   "metadata": {},
   "outputs": [
    {
     "name": "stdout",
     "output_type": "stream",
     "text": [
      "time :  8.041725158691406\n"
     ]
    },
    {
     "name": "stderr",
     "output_type": "stream",
     "text": [
      "Warning : `load_model` does not return WordVectorModel or SupervisedModel any more, but a `FastText` object which is very similar.\n"
     ]
    }
   ],
   "source": [
    "import datetime\n",
    "import time\n",
    "import fasttext\n",
    "\n",
    "start_time = time.time()\n",
    "model_fname = 'result.bin'\n",
    "\n",
    "model = fasttext.load_model(model_fname)\n",
    "print(\"time : \", time.time() - start_time)"
   ]
  },
  {
   "cell_type": "code",
   "execution_count": 3,
   "metadata": {},
   "outputs": [
    {
     "data": {
      "text/plain": [
       "[(0.9137370586395264, '엔시'),\n",
       " (0.9132599234580994, '쓰레기'),\n",
       " (0.9114325642585754, '부모'),\n",
       " (0.9109306335449219, '대해'),\n",
       " (0.9108603596687317, '아버지'),\n",
       " (0.9107683300971985, '새아버지'),\n",
       " (0.9105382561683655, '여자친구'),\n",
       " (0.9104597568511963, '할아버지'),\n",
       " (0.9101191163063049, '부모님'),\n",
       " (0.9100772738456726, '생각')]"
      ]
     },
     "execution_count": 3,
     "metadata": {},
     "output_type": "execute_result"
    }
   ],
   "source": [
    "model.get_nearest_neighbors(\"엔시티\")"
   ]
  },
  {
   "cell_type": "code",
   "execution_count": 4,
   "metadata": {},
   "outputs": [
    {
     "data": {
      "text/plain": [
       "[(0.9137370586395264, '엔시'),\n",
       " (0.9132599234580994, '쓰레기'),\n",
       " (0.9114325642585754, '부모'),\n",
       " (0.9109306335449219, '대해'),\n",
       " (0.9108603596687317, '아버지'),\n",
       " (0.9107683300971985, '새아버지'),\n",
       " (0.9105382561683655, '여자친구'),\n",
       " (0.9104597568511963, '할아버지'),\n",
       " (0.9101191163063049, '부모님'),\n",
       " (0.9100772738456726, '생각')]"
      ]
     },
     "execution_count": 4,
     "metadata": {},
     "output_type": "execute_result"
    }
   ],
   "source": [
    "test = []\n",
    "test = model.get_nearest_neighbors(\"엔시티\")\n",
    "\n",
    "test"
   ]
  },
  {
   "cell_type": "code",
   "execution_count": 5,
   "metadata": {},
   "outputs": [
    {
     "name": "stdout",
     "output_type": "stream",
     "text": [
      "False\n",
      "True\n",
      "False\n",
      "False\n",
      "False\n",
      "False\n",
      "False\n",
      "False\n",
      "False\n",
      "True\n"
     ]
    }
   ],
   "source": [
    "def check_string(string):\n",
    "    with open('SentiWord_Dict.txt','r', encoding='utf-8') as temp_f:\n",
    "        datafile = temp_f.readlines()\n",
    "    for line in datafile:\n",
    "        if string in line:\n",
    "            return True\n",
    "    return False\n",
    "\n",
    "for i in range(10):\n",
    "    \n",
    "    k = test[i][1]\n",
    "    if check_string(k):\n",
    "        print('True')\n",
    "    else:\n",
    "        print('False')"
   ]
  },
  {
   "cell_type": "code",
   "execution_count": 6,
   "metadata": {},
   "outputs": [
    {
     "name": "stdout",
     "output_type": "stream",
     "text": [
      "-1\n",
      "-1\n"
     ]
    }
   ],
   "source": [
    "import re\n",
    "\n",
    "def check_string(string):\n",
    "    with open('SentiWord_Dict.txt','r', encoding='utf-8') as temp_f:\n",
    "        datafile = temp_f.readlines()\n",
    "    for line in datafile:\n",
    "        if string in line:\n",
    "            print(re.sub(r'[^0-9-?\\d+]', '', line))\n",
    "            return True\n",
    "    return False\n",
    "\n",
    "for i in range(10):\n",
    "    \n",
    "    k = test[i][1]\n",
    "    check_string(k)"
   ]
  },
  {
   "cell_type": "code",
   "execution_count": 7,
   "metadata": {},
   "outputs": [
    {
     "data": {
      "text/plain": [
       "[(0.8864094018936157, '스트릿'),\n",
       " (0.885384202003479, '생각'),\n",
       " (0.8852952718734741, '상황'),\n",
       " (0.8851924538612366, '제'),\n",
       " (0.8849736452102661, '준비'),\n",
       " (0.8849034905433655, '소리'),\n",
       " (0.8846746683120728, '대요'),\n",
       " (0.8845055103302002, '어머니'),\n",
       " (0.8844786286354065, '말'),\n",
       " (0.8844766616821289, '남동생')]"
      ]
     },
     "execution_count": 7,
     "metadata": {},
     "output_type": "execute_result"
    }
   ],
   "source": [
    "model.get_nearest_neighbors(\"스트릿우먼파이터\")"
   ]
  },
  {
   "cell_type": "code",
   "execution_count": 8,
   "metadata": {},
   "outputs": [
    {
     "data": {
      "text/plain": [
       "[(0.8864094018936157, '스트릿'),\n",
       " (0.885384202003479, '생각'),\n",
       " (0.8852952718734741, '상황'),\n",
       " (0.8851924538612366, '제'),\n",
       " (0.8849736452102661, '준비'),\n",
       " (0.8849034905433655, '소리'),\n",
       " (0.8846746683120728, '대요'),\n",
       " (0.8845055103302002, '어머니'),\n",
       " (0.8844786286354065, '말'),\n",
       " (0.8844766616821289, '남동생')]"
      ]
     },
     "execution_count": 8,
     "metadata": {},
     "output_type": "execute_result"
    }
   ],
   "source": [
    "test = []\n",
    "test = model.get_nearest_neighbors(\"스트릿우먼파이터\")\n",
    "\n",
    "test"
   ]
  },
  {
   "cell_type": "code",
   "execution_count": 9,
   "metadata": {},
   "outputs": [
    {
     "name": "stdout",
     "output_type": "stream",
     "text": [
      "False\n",
      "True\n",
      "True\n",
      "True\n",
      "False\n",
      "True\n",
      "False\n",
      "False\n",
      "True\n",
      "False\n"
     ]
    }
   ],
   "source": [
    "def check_string(string):\n",
    "    with open('SentiWord_Dict.txt','r', encoding='utf-8') as temp_f:\n",
    "        datafile = temp_f.readlines()\n",
    "    for line in datafile:\n",
    "        if string in line:\n",
    "            return True\n",
    "    return False\n",
    "\n",
    "for i in range(10):\n",
    "    \n",
    "    k = test[i][1]\n",
    "    if check_string(k):\n",
    "        print('True')\n",
    "    else:\n",
    "        print('False')"
   ]
  },
  {
   "cell_type": "code",
   "execution_count": 10,
   "metadata": {},
   "outputs": [
    {
     "name": "stdout",
     "output_type": "stream",
     "text": [
      "-1\n",
      "-2\n",
      "-1\n",
      "-1\n",
      "-1\n"
     ]
    }
   ],
   "source": [
    "import re\n",
    "\n",
    "def check_string(string):\n",
    "    with open('SentiWord_Dict.txt','r', encoding='utf-8') as temp_f:\n",
    "        datafile = temp_f.readlines()\n",
    "    for line in datafile:\n",
    "        if string in line:\n",
    "            print(re.sub(r'[^0-9-?\\d+]', '', line))\n",
    "            return True\n",
    "    return False\n",
    "\n",
    "for i in range(10):\n",
    "    \n",
    "    k = test[i][1]\n",
    "    check_string(k)"
   ]
  },
  {
   "cell_type": "code",
   "execution_count": null,
   "metadata": {},
   "outputs": [],
   "source": []
  }
 ],
 "metadata": {
  "kernelspec": {
   "display_name": "Python 3",
   "language": "python",
   "name": "python3"
  },
  "language_info": {
   "codemirror_mode": {
    "name": "ipython",
    "version": 3
   },
   "file_extension": ".py",
   "mimetype": "text/x-python",
   "name": "python",
   "nbconvert_exporter": "python",
   "pygments_lexer": "ipython3",
   "version": "3.8.5"
  }
 },
 "nbformat": 4,
 "nbformat_minor": 4
}
