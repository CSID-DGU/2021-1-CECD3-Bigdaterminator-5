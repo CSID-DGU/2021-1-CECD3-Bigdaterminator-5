{
 "cells": [
  {
   "cell_type": "code",
   "execution_count": 6,
   "metadata": {},
   "outputs": [],
   "source": [
    "import os\n",
    "import re\n",
    "import hgtk # 자음 모음 관리\n",
    "import pandas as pd\n",
    "from konlpy.tag import Mecab, Okt\n",
    "\n",
    "compose_code = \"\\u33c6\"\n",
    "\n",
    "def _jamo_sentence(sent):\n",
    "    doublespace_pattern = re.compile(r\"\\s+\")\n",
    "\n",
    "    def __transform(char):\n",
    "        if char == \" \":\n",
    "            return char\n",
    "        cjj = hgtk.text.decompose(char, compose_code)\n",
    "        if not cjj:\n",
    "            return char\n",
    "        if len(cjj) == 1:\n",
    "            return cjj\n",
    "        cjj_ = \"\".join(c if c != \" \" else compose_code for c in cjj)\n",
    "        return cjj_\n",
    "\n",
    "    sent_ = \"\".join(__transform(char) for char in sent)\n",
    "    sent_ = doublespace_pattern.sub(\" \", sent_) # 두칸 이상 공백을 1칸 공백으로\n",
    "    return sent_"
   ]
  },
  {
   "cell_type": "code",
   "execution_count": 7,
   "metadata": {},
   "outputs": [
    {
     "data": {
      "text/plain": [
       "'ㅁㅜㄴᴥㅅㅓᴥ'"
      ]
     },
     "execution_count": 7,
     "metadata": {},
     "output_type": "execute_result"
    }
   ],
   "source": [
    "doc=\"문서\"\n",
    "_jamo_sentence(doc)"
   ]
  },
  {
   "cell_type": "code",
   "execution_count": 26,
   "metadata": {},
   "outputs": [
    {
     "name": "stdout",
     "output_type": "stream",
     "text": [
      "0                                     히틀러가 대중들을 다루던 방법  \n",
      "1      니들이 태용 얼굴 깐다고 태용이 못생겨 질거같음 니들이 평생 이태용 까면서 발작해도...\n",
      "2      아이즈원 멤버들 근황 권은비팔로우미 최근에 솔로 데뷔 앨범 마무리사쿠라김채원과 함께...\n",
      "3      나 모르는 동네에 버려 짐 도와줘 어 떡해 엄마가 만원 찾아놓은 거 가방에 넣어두라...\n",
      "4      남편이 저보고 식 탐 있다는 데 제가 식 탐인지 봐주세요 거두절미 하고 제목  처럼...\n",
      "                             ...                        \n",
      "545    정말 결혼 생활이 행복한 분 있나요 판에는 결혼에 부정적인 글이 많지만읽는 분들 중...\n",
      "546    도련님에게 존댓말 쓰고 처남에겐 반말해도 되나요 오늘 같이 식사하는데 엄마가 남편에...\n",
      "547                                     일본에 생긴 한국형 편의점  \n",
      "548     로제 팬들이 자기 노래 불러주니까 울었대 중간에 놀라면서  표정짔는거  링크 걸어둘게 \n",
      "549    설현이 마른 거냐 제목 살짝 어그로고 설현 당연히 말랐음근데 궁금한게어떻게 말랐는데...\n",
      "Length: 550, dtype: object\n",
      "0                                     히틀러가 대중들을 다루던 방법  \n",
      "1      니들이 태용 얼굴 깐다고 태용이 못생겨 질거같음 니들이 평생 이태용 까면서 발작해도...\n",
      "2      아이즈원 멤버들 근황 권은비팔로우미 최근에 솔로 데뷔 앨범 마무리사쿠라김채원과 함께...\n",
      "3      나 모르는 동네에 버려 짐 도와줘 어 떡해 엄마가 만원 찾아놓은 거 가방에 넣어두라...\n",
      "4      남편이 저보고 식 탐 있다는 데 제가 식 탐인지 봐주세요 거두절미 하고 제목  처럼...\n",
      "                             ...                        \n",
      "545    정말 결혼 생활이 행복한 분 있나요 판에는 결혼에 부정적인 글이 많지만읽는 분들 중...\n",
      "546    도련님에게 존댓말 쓰고 처남에겐 반말해도 되나요 오늘 같이 식사하는데 엄마가 남편에...\n",
      "547                                     일본에 생긴 한국형 편의점  \n",
      "548     로제 팬들이 자기 노래 불러주니까 울었대 중간에 놀라면서  표정짔는거  링크 걸어둘게 \n",
      "549    설현이 마른 거냐 제목 살짝 어그로고 설현 당연히 말랐음근데 궁금한게어떻게 말랐는데...\n",
      "Length: 550, dtype: object\n",
      "0      ㅎㅣᴥㅌㅡㄹᴥㄹㅓᴥㄱㅏᴥ ㄷㅐᴥㅈㅜㅇᴥㄷㅡㄹᴥㅇㅡㄹᴥ ㄷㅏᴥㄹㅜᴥㄷㅓㄴᴥ ㅂㅏㅇᴥㅂ...\n",
      "1      ㄴㅣᴥㄷㅡㄹᴥㅇㅣᴥ ㅌㅐᴥㅇㅛㅇᴥ ㅇㅓㄹᴥㄱㅜㄹᴥ ㄲㅏㄴᴥㄷㅏᴥㄱㅗᴥ ㅌㅐᴥㅇㅛㅇᴥ...\n",
      "2      ㅇㅏᴥㅇㅣᴥㅈㅡᴥㅇㅝㄴᴥ ㅁㅔㅁᴥㅂㅓᴥㄷㅡㄹᴥ ㄱㅡㄴᴥㅎㅘㅇᴥ ㄱㅝㄴᴥㅇㅡㄴᴥㅂㅣᴥ...\n",
      "3      ㄴㅏᴥ ㅁㅗᴥㄹㅡᴥㄴㅡㄴᴥ ㄷㅗㅇᴥㄴㅔᴥㅇㅔᴥ ㅂㅓᴥㄹㅕᴥ ㅈㅣㅁᴥ ㄷㅗᴥㅇㅘᴥㅈㅝ...\n",
      "4      ㄴㅏㅁᴥㅍㅕㄴᴥㅇㅣᴥ ㅈㅓᴥㅂㅗᴥㄱㅗᴥ ㅅㅣㄱᴥ ㅌㅏㅁᴥ ㅇㅣㅆᴥㄷㅏᴥㄴㅡㄴᴥ ㄷㅔ...\n",
      "                             ...                        \n",
      "545    ㅈㅓㅇᴥㅁㅏㄹᴥ ㄱㅕㄹᴥㅎㅗㄴᴥ ㅅㅐㅇᴥㅎㅘㄹᴥㅇㅣᴥ ㅎㅐㅇᴥㅂㅗㄱᴥㅎㅏㄴᴥ ㅂㅜㄴ...\n",
      "546    ㄷㅗᴥㄹㅕㄴᴥㄴㅣㅁᴥㅇㅔᴥㄱㅔᴥ ㅈㅗㄴᴥㄷㅐㅅᴥㅁㅏㄹᴥ ㅆㅡᴥㄱㅗᴥ ㅊㅓᴥㄴㅏㅁᴥㅇ...\n",
      "547       ㅇㅣㄹᴥㅂㅗㄴᴥㅇㅔᴥ ㅅㅐㅇᴥㄱㅣㄴᴥ ㅎㅏㄴᴥㄱㅜㄱᴥㅎㅕㅇᴥ ㅍㅕㄴᴥㅇㅢᴥㅈㅓㅁᴥ \n",
      "548    ㄹㅗᴥㅈㅔᴥ ㅍㅐㄴᴥㄷㅡㄹᴥㅇㅣᴥ ㅈㅏᴥㄱㅣᴥ ㄴㅗᴥㄹㅐᴥ ㅂㅜㄹᴥㄹㅓᴥㅈㅜᴥㄴㅣᴥ...\n",
      "549    ㅅㅓㄹᴥㅎㅕㄴᴥㅇㅣᴥ ㅁㅏᴥㄹㅡㄴᴥ ㄱㅓᴥㄴㅑᴥ ㅈㅔᴥㅁㅗㄱᴥ ㅅㅏㄹᴥㅉㅏㄱᴥ ㅇㅓ...\n",
      "Length: 550, dtype: object\n"
     ]
    }
   ],
   "source": [
    "document = pd.read_csv(\"natepann.csv\")\n",
    "document = document[\"제목\"].apply(str)+\" \"+document[\"본문\"].apply(str)\n",
    "\n",
    "print(document)\n",
    "for i in range(len(document)):\n",
    "    document[i] = re.sub('[^ ㄱ-ㅣ가-힣]','',document[i])\n",
    "    \n",
    "print(document)\n",
    "\n",
    "for i in range(len(document)):\n",
    "    document[i] = _jamo_sentence(document[i])\n",
    "\n",
    "print(document)\n",
    "document.to_csv('natepann.txt', sep = '\\t', index = False)"
   ]
  },
  {
   "cell_type": "code",
   "execution_count": 28,
   "metadata": {},
   "outputs": [
    {
     "name": "stdout",
     "output_type": "stream",
     "text": [
      "학습 중\n",
      "완료\n",
      "time :  57.92689800262451\n"
     ]
    }
   ],
   "source": [
    "import datetime\n",
    "import time\n",
    "import fasttext\n",
    "\n",
    "save_fname = 'natepann.txt'\n",
    "model_fname = 'result.bin'\n",
    "start_time = time.time()\n",
    "\n",
    "print(\"학습 중\")\n",
    "model = fasttext.train_unsupervised(\n",
    "    input=save_fname,\n",
    "    model='cbow',\n",
    "    loss='hs',\n",
    "    ws=11,\n",
    "    lr=0.001,\n",
    "    dim=300,\n",
    "    epoch=5,\n",
    "    min_count=10,\n",
    "    thread=25,\n",
    "    verbose=1,\n",
    ")\n",
    "\n",
    "model.save_model(model_fname)\n",
    "\n",
    "print('완료')\n",
    "print(\"time : \", time.time() - start_time)"
   ]
  },
  {
   "cell_type": "code",
   "execution_count": 29,
   "metadata": {},
   "outputs": [
    {
     "name": "stdout",
     "output_type": "stream",
     "text": [
      "time :  2.6297528743743896\n"
     ]
    },
    {
     "name": "stderr",
     "output_type": "stream",
     "text": [
      "Warning : `load_model` does not return WordVectorModel or SupervisedModel any more, but a `FastText` object which is very similar.\n"
     ]
    }
   ],
   "source": [
    "start_time = time.time()\n",
    "model_fname = 'result.bin'\n",
    "\n",
    "model = fasttext.load_model(model_fname)\n",
    "print(\"time : \", time.time() - start_time)"
   ]
  },
  {
   "cell_type": "code",
   "execution_count": 35,
   "metadata": {},
   "outputs": [
    {
     "data": {
      "text/plain": [
       "[(0.48024001717567444, 'ㅎㅏᴥㅁㅕㄴᴥㅅㅓᴥ'),\n",
       " (0.47022518515586853, 'ㄱㅏᴥㅅㅓᴥ'),\n",
       " (0.4551432728767395, 'ㅎㅐᴥㅅㅓᴥ'),\n",
       " (0.45377427339553833, 'ㄱㅡᴥㄹㅐᴥㅅㅓᴥ'),\n",
       " (0.4498012065887451, 'ㅇㅘᴥㅅㅓᴥ'),\n",
       " (0.44788995385169983, 'ㅅㅣㅍᴥㅇㅓᴥㅅㅓᴥ'),\n",
       " (0.4477541446685791, 'ㅇㅣㅆᴥㅇㅓᴥㅅㅓᴥ'),\n",
       " (0.4375804662704468, 'ㅇㅏㄶᴥㅇㅏᴥㅅㅓᴥ'),\n",
       " (0.43746110796928406, 'ㄱㅏㅌᴥㅇㅏᴥㅅㅓᴥ'),\n",
       " (0.4258884787559509, 'ㅈㅓᴥㄴㅡㄴᴥ')]"
      ]
     },
     "execution_count": 35,
     "metadata": {},
     "output_type": "execute_result"
    }
   ],
   "source": [
    "model.get_nearest_neighbors(\"ㅁㅜㄴᴥㅅㅓᴥ\")"
   ]
  },
  {
   "cell_type": "code",
   "execution_count": 33,
   "metadata": {},
   "outputs": [
    {
     "data": {
      "text/plain": [
       "'문서'"
      ]
     },
     "execution_count": 33,
     "metadata": {},
     "output_type": "execute_result"
    }
   ],
   "source": [
    "hgtk.text.compose(\"ㅁㅜㄴᴥㅅㅓᴥ\")"
   ]
  },
  {
   "cell_type": "code",
   "execution_count": 48,
   "metadata": {},
   "outputs": [
    {
     "data": {
      "text/plain": [
       "(0.48024001717567444, 'ㅎㅏᴥㅁㅕㄴᴥㅅㅓᴥ')"
      ]
     },
     "execution_count": 48,
     "metadata": {},
     "output_type": "execute_result"
    }
   ],
   "source": [
    "model.get_nearest_neighbors(\"ㅁㅜㄴᴥㅅㅓᴥ\")[0]"
   ]
  },
  {
   "cell_type": "code",
   "execution_count": 49,
   "metadata": {},
   "outputs": [
    {
     "data": {
      "text/plain": [
       "['ㅎㅏᴥㅁㅕㄴᴥㅅㅓᴥ',\n",
       " 'ㄱㅏᴥㅅㅓᴥ',\n",
       " 'ㅎㅐᴥㅅㅓᴥ',\n",
       " 'ㄱㅡᴥㄹㅐᴥㅅㅓᴥ',\n",
       " 'ㅇㅘᴥㅅㅓᴥ',\n",
       " 'ㅅㅣㅍᴥㅇㅓᴥㅅㅓᴥ',\n",
       " 'ㅇㅣㅆᴥㅇㅓᴥㅅㅓᴥ',\n",
       " 'ㅇㅏㄶᴥㅇㅏᴥㅅㅓᴥ',\n",
       " 'ㄱㅏㅌᴥㅇㅏᴥㅅㅓᴥ',\n",
       " 'ㅈㅓᴥㄴㅡㄴᴥ']"
      ]
     },
     "execution_count": 49,
     "metadata": {},
     "output_type": "execute_result"
    }
   ],
   "source": [
    "[word for score, word in model.get_nearest_neighbors(_jamo_sentence(\"문서\"))]"
   ]
  },
  {
   "cell_type": "code",
   "execution_count": 50,
   "metadata": {},
   "outputs": [
    {
     "data": {
      "text/plain": [
       "'ㅎㅏᴥㅁㅕㄴᴥㅅㅓᴥ'"
      ]
     },
     "execution_count": 50,
     "metadata": {},
     "output_type": "execute_result"
    }
   ],
   "source": [
    "[word for score, word in model.get_nearest_neighbors(_jamo_sentence(\"문서\"))][0]"
   ]
  },
  {
   "cell_type": "code",
   "execution_count": 51,
   "metadata": {},
   "outputs": [
    {
     "data": {
      "text/plain": [
       "list"
      ]
     },
     "execution_count": 51,
     "metadata": {},
     "output_type": "execute_result"
    }
   ],
   "source": [
    "type([word for score, word in model.get_nearest_neighbors(_jamo_sentence(\"문서\"))])"
   ]
  },
  {
   "cell_type": "code",
   "execution_count": 54,
   "metadata": {},
   "outputs": [
    {
     "data": {
      "text/plain": [
       "['하면서', '가서', '해서', '그래서', '와서', '싶어서', '있어서', '않아서', '같아서', '저는']"
      ]
     },
     "execution_count": 54,
     "metadata": {},
     "output_type": "execute_result"
    }
   ],
   "source": [
    "[hgtk.text.compose(found) for found in [word for score, word in model.get_nearest_neighbors(_jamo_sentence(\"문서\"))]]"
   ]
  },
  {
   "cell_type": "code",
   "execution_count": 56,
   "metadata": {},
   "outputs": [],
   "source": [
    "###############################################################################"
   ]
  },
  {
   "cell_type": "code",
   "execution_count": 57,
   "metadata": {},
   "outputs": [
    {
     "name": "stdout",
     "output_type": "stream",
     "text": [
      "0        이나은 드디어 터졌네썰 진짜 속시원하다ㅋㅋㅋ 혹시 몰라서 나도 썰 하나 풀게난 전에...\n",
      "1                          진짜 이나은 수준 무슨일이냐 할말이 있고 못할말이 있지 \n",
      "2        아이들이 살아나는 방법 우선 인증가능 타팬임 그냥 아이들 무대만 가끔 보는 정도물론...\n",
      "3              에이프릴에 이렇게 예쁜 멤버가 있었음 저 얼굴을 안밀어줬네이나은밖에 몰랐는데 \n",
      "4                                       와 이 부분 보고 ㅈㄴ 울컥함  \n",
      "                               ...                        \n",
      "10695    정말 결혼 생활이 행복한 분 있나요 판에는 결혼에 부정적인 글이 많지만읽는 분들 중...\n",
      "10696    도련님에게 존댓말 쓰고 처남에겐 반말해도 되나요 오늘 같이 식사하는데 엄마가 남편에...\n",
      "10697                                     일본에 생긴 한국형 편의점  \n",
      "10698    로제 팬들이 자기노래 불러주니까 울었대 중간에 놀라면서 ㅇㅅㅇ 표정짔는거 ㄱㅇㅇ 링...\n",
      "10699    설현이 마른거냐ㅋ 제목 살짝 어그로고 설현 당연히 말랐음근데 궁금한게어떻게 말랐는데...\n",
      "Length: 10700, dtype: object\n",
      "0        이나은 드디어 터졌네썰 진짜 속시원하다ㅋㅋㅋ 혹시 몰라서 나도 썰 하나 풀게난 전에...\n",
      "1                          진짜 이나은 수준 무슨일이냐 할말이 있고 못할말이 있지 \n",
      "2        아이들이 살아나는 방법 우선 인증가능 타팬임 그냥 아이들 무대만 가끔 보는 정도물론...\n",
      "3              에이프릴에 이렇게 예쁜 멤버가 있었음 저 얼굴을 안밀어줬네이나은밖에 몰랐는데 \n",
      "4                                       와 이 부분 보고 ㅈㄴ 울컥함  \n",
      "                               ...                        \n",
      "10695    정말 결혼 생활이 행복한 분 있나요 판에는 결혼에 부정적인 글이 많지만읽는 분들 중...\n",
      "10696    도련님에게 존댓말 쓰고 처남에겐 반말해도 되나요 오늘 같이 식사하는데 엄마가 남편에...\n",
      "10697                                     일본에 생긴 한국형 편의점  \n",
      "10698    로제 팬들이 자기노래 불러주니까 울었대 중간에 놀라면서 ㅇㅅㅇ 표정짔는거 ㄱㅇㅇ 링...\n",
      "10699    설현이 마른거냐ㅋ 제목 살짝 어그로고 설현 당연히 말랐음근데 궁금한게어떻게 말랐는데...\n",
      "Length: 10700, dtype: object\n",
      "0        ㅇㅣᴥㄴㅏᴥㅇㅡㄴᴥ ㄷㅡᴥㄷㅣᴥㅇㅓᴥ ㅌㅓᴥㅈㅕㅆᴥㄴㅔᴥㅆㅓㄹᴥ ㅈㅣㄴᴥㅉㅏᴥ ㅅㅗ...\n",
      "1        ㅈㅣㄴᴥㅉㅏᴥ ㅇㅣᴥㄴㅏᴥㅇㅡㄴᴥ ㅅㅜᴥㅈㅜㄴᴥ ㅁㅜᴥㅅㅡㄴᴥㅇㅣㄹᴥㅇㅣᴥㄴㅑᴥ ㅎ...\n",
      "2        ㅇㅏᴥㅇㅣᴥㄷㅡㄹᴥㅇㅣᴥ ㅅㅏㄹᴥㅇㅏᴥㄴㅏᴥㄴㅡㄴᴥ ㅂㅏㅇᴥㅂㅓㅂᴥ ㅇㅜᴥㅅㅓㄴᴥ ...\n",
      "3        ㅇㅔᴥㅇㅣᴥㅍㅡᴥㄹㅣㄹᴥㅇㅔᴥ ㅇㅣᴥㄹㅓㅎᴥㄱㅔᴥ ㅇㅖᴥㅃㅡㄴᴥ ㅁㅔㅁᴥㅂㅓᴥㄱㅏᴥ...\n",
      "4                ㅇㅘᴥ ㅇㅣᴥ ㅂㅜᴥㅂㅜㄴᴥ ㅂㅗᴥㄱㅗᴥ ㅈᴥㄴᴥ ㅇㅜㄹᴥㅋㅓㄱᴥㅎㅏㅁᴥ \n",
      "                               ...                        \n",
      "10695    ㅈㅓㅇᴥㅁㅏㄹᴥ ㄱㅕㄹᴥㅎㅗㄴᴥ ㅅㅐㅇᴥㅎㅘㄹᴥㅇㅣᴥ ㅎㅐㅇᴥㅂㅗㄱᴥㅎㅏㄴᴥ ㅂㅜㄴ...\n",
      "10696    ㄷㅗᴥㄹㅕㄴᴥㄴㅣㅁᴥㅇㅔᴥㄱㅔᴥ ㅈㅗㄴᴥㄷㅐㅅᴥㅁㅏㄹᴥ ㅆㅡᴥㄱㅗᴥ ㅊㅓᴥㄴㅏㅁᴥㅇ...\n",
      "10697       ㅇㅣㄹᴥㅂㅗㄴᴥㅇㅔᴥ ㅅㅐㅇᴥㄱㅣㄴᴥ ㅎㅏㄴᴥㄱㅜㄱᴥㅎㅕㅇᴥ ㅍㅕㄴᴥㅇㅢᴥㅈㅓㅁᴥ \n",
      "10698    ㄹㅗᴥㅈㅔᴥ ㅍㅐㄴᴥㄷㅡㄹᴥㅇㅣᴥ ㅈㅏᴥㄱㅣᴥㄴㅗᴥㄹㅐᴥ ㅂㅜㄹᴥㄹㅓᴥㅈㅜᴥㄴㅣᴥㄲ...\n",
      "10699    ㅅㅓㄹᴥㅎㅕㄴᴥㅇㅣᴥ ㅁㅏᴥㄹㅡㄴᴥㄱㅓᴥㄴㅑᴥㅋᴥ ㅈㅔᴥㅁㅗㄱᴥ ㅅㅏㄹᴥㅉㅏㄱᴥ ㅇ...\n",
      "Length: 10700, dtype: object\n"
     ]
    }
   ],
   "source": [
    "document = pd.read_csv(\"natepann.csv\")\n",
    "document = document[\"제목\"].apply(str)+\" \"+document[\"본문\"].apply(str)\n",
    "\n",
    "print(document)\n",
    "for i in range(len(document)):\n",
    "    document[i] = re.sub('[^ ㄱ-ㅣ가-힣]','',document[i])\n",
    "    \n",
    "print(document)\n",
    "\n",
    "for i in range(len(document)):\n",
    "    document[i] = _jamo_sentence(document[i])\n",
    "\n",
    "print(document)\n",
    "\n",
    "document.to_csv('natepann.txt', sep = '\\t', index = False)"
   ]
  },
  {
   "cell_type": "code",
   "execution_count": 58,
   "metadata": {},
   "outputs": [
    {
     "name": "stdout",
     "output_type": "stream",
     "text": [
      "학습 중\n",
      "완료\n",
      "time :  163.41144180297852\n"
     ]
    }
   ],
   "source": [
    "import datetime\n",
    "import time\n",
    "import fasttext\n",
    "\n",
    "save_fname = 'natepann.txt'\n",
    "model_fname = 'result.bin'\n",
    "start_time = time.time()\n",
    "\n",
    "print(\"학습 중\")\n",
    "model = fasttext.train_unsupervised(\n",
    "    input=save_fname,\n",
    "    model='cbow',\n",
    "    loss='hs',\n",
    "    ws=11,\n",
    "    lr=0.001,\n",
    "    dim=300,\n",
    "    epoch=5,\n",
    "    min_count=10,\n",
    "    thread=25,\n",
    "    verbose=1,\n",
    ")\n",
    "\n",
    "model.save_model(model_fname)\n",
    "\n",
    "print('완료')\n",
    "print(\"time : \", time.time() - start_time)"
   ]
  },
  {
   "cell_type": "code",
   "execution_count": 59,
   "metadata": {},
   "outputs": [
    {
     "name": "stdout",
     "output_type": "stream",
     "text": [
      "time :  2.885312795639038\n"
     ]
    },
    {
     "name": "stderr",
     "output_type": "stream",
     "text": [
      "Warning : `load_model` does not return WordVectorModel or SupervisedModel any more, but a `FastText` object which is very similar.\n"
     ]
    }
   ],
   "source": [
    "start_time = time.time()\n",
    "model_fname = 'result.bin'\n",
    "\n",
    "model = fasttext.load_model(model_fname)\n",
    "print(\"time : \", time.time() - start_time)"
   ]
  },
  {
   "cell_type": "code",
   "execution_count": 60,
   "metadata": {},
   "outputs": [
    {
     "data": {
      "text/plain": [
       "[(0.9999961853027344, 'ㅎㅣㅁᴥㄷㅡㄹᴥㅇㅓᴥㅅㅓᴥ'),\n",
       " (0.9999958872795105, 'ㅅㅜㄴᴥㅅㅓᴥ'),\n",
       " (0.9999958872795105, 'ㅈㅜㄴᴥㅂㅣᴥㅎㅏᴥㅁㅕㄴᴥㅅㅓᴥ'),\n",
       " (0.9999957084655762, 'ㄸㅓㄹᴥㅁㅕㄴᴥㅅㅓᴥ'),\n",
       " (0.9999955296516418, 'ㅇㅜㄹᴥㅁㅕㄴᴥㅅㅓᴥ'),\n",
       " (0.9999952912330627, 'ㅎㅏㄱᴥㄱㅛᴥㅇㅔᴥㅅㅓᴥ'),\n",
       " (0.9999951124191284, 'ㄴㅐᴥㅁㅕㄴᴥㅅㅓᴥ'),\n",
       " (0.9999949932098389, 'ㅎㅗㄴᴥㅈㅏᴥㅅㅓᴥ'),\n",
       " (0.9999948143959045, 'ㅂㅗᴥㅁㅕㄴᴥㅅㅓᴥ'),\n",
       " (0.9999947547912598, 'ㄴㅐᴥㅇㅔᴥㅅㅓᴥ')]"
      ]
     },
     "execution_count": 60,
     "metadata": {},
     "output_type": "execute_result"
    }
   ],
   "source": [
    "model.get_nearest_neighbors(\"ㅁㅜㄴᴥㅅㅓᴥ\")"
   ]
  },
  {
   "cell_type": "code",
   "execution_count": 61,
   "metadata": {},
   "outputs": [
    {
     "data": {
      "text/plain": [
       "['힘들어서', '순서', '준비하면서', '떨면서', '울면서', '학교에서', '내면서', '혼자서', '보면서', '내에서']"
      ]
     },
     "execution_count": 61,
     "metadata": {},
     "output_type": "execute_result"
    }
   ],
   "source": [
    "[hgtk.text.compose(found) for found in [word for score, word in model.get_nearest_neighbors(_jamo_sentence(\"문서\"))]]"
   ]
  },
  {
   "cell_type": "code",
   "execution_count": 62,
   "metadata": {},
   "outputs": [
    {
     "data": {
      "text/plain": [
       "['스테이', '가스라이팅', '스토리', '에이프릴', '하이라이트', '마인드', '인스타그램', '와이프와', '네이버', '하이브']"
      ]
     },
     "execution_count": 62,
     "metadata": {},
     "output_type": "execute_result"
    }
   ],
   "source": [
    "[hgtk.text.compose(found) for found in [word for score, word in model.get_nearest_neighbors(_jamo_sentence(\"스우파\"))]]"
   ]
  },
  {
   "cell_type": "code",
   "execution_count": 63,
   "metadata": {},
   "outputs": [
    {
     "data": {
      "text/plain": [
       "['신랑이', '이상이', '집주인이', '없이', '본인이', '점이', '사진이', '등이', '아린이', '걱정이']"
      ]
     },
     "execution_count": 63,
     "metadata": {},
     "output_type": "execute_result"
    }
   ],
   "source": [
    "[hgtk.text.compose(found) for found in [word for score, word in model.get_nearest_neighbors(_jamo_sentence(\"댕댕이\"))]]"
   ]
  },
  {
   "cell_type": "code",
   "execution_count": 64,
   "metadata": {},
   "outputs": [
    {
     "data": {
      "text/plain": [
       "['표정이', '이상이', '명이', '엉덩이', '없이', '사진이', '걱정이', '정이', '형이', '과정이']"
      ]
     },
     "execution_count": 64,
     "metadata": {},
     "output_type": "execute_result"
    }
   ],
   "source": [
    "[hgtk.text.compose(found) for found in [word for score, word in model.get_nearest_neighbors(_jamo_sentence(\"멍멍이\"))]]"
   ]
  },
  {
   "cell_type": "code",
   "execution_count": 65,
   "metadata": {},
   "outputs": [
    {
     "data": {
      "text/plain": [
       "['형이', '성인이', '없이', '등이', '인생이', '진이', '사진이', '명이', '인성이', '지인이']"
      ]
     },
     "execution_count": 65,
     "metadata": {},
     "output_type": "execute_result"
    }
   ],
   "source": [
    "[hgtk.text.compose(found) for found in [word for score, word in model.get_nearest_neighbors(_jamo_sentence(\"냉이\"))]]"
   ]
  },
  {
   "cell_type": "code",
   "execution_count": 66,
   "metadata": {},
   "outputs": [
    {
     "name": "stdout",
     "output_type": "stream",
     "text": [
      "학습 중\n",
      "완료\n",
      "time :  233.84615683555603\n"
     ]
    }
   ],
   "source": [
    "import datetime\n",
    "import time\n",
    "import fasttext\n",
    "\n",
    "save_fname = 'natepann.txt'\n",
    "model_fname = 'result2.bin'\n",
    "start_time = time.time()\n",
    "\n",
    "print(\"학습 중\")\n",
    "model = fasttext.train_unsupervised(\n",
    "    input=save_fname,\n",
    "    model='cbow',\n",
    "    loss='hs',\n",
    "    ws=20,\n",
    "    lr=0.001,\n",
    "    dim=300,\n",
    "    epoch=5,\n",
    "    min_count=5,\n",
    "    thread=25,\n",
    "    verbose=1,\n",
    ")\n",
    "\n",
    "model.save_model(model_fname)\n",
    "\n",
    "print('완료')\n",
    "print(\"time : \", time.time() - start_time)"
   ]
  },
  {
   "cell_type": "code",
   "execution_count": 67,
   "metadata": {},
   "outputs": [
    {
     "name": "stdout",
     "output_type": "stream",
     "text": [
      "time :  2.6841368675231934\n"
     ]
    },
    {
     "name": "stderr",
     "output_type": "stream",
     "text": [
      "Warning : `load_model` does not return WordVectorModel or SupervisedModel any more, but a `FastText` object which is very similar.\n"
     ]
    }
   ],
   "source": [
    "start_time = time.time()\n",
    "model_fname = 'result2.bin'\n",
    "\n",
    "model = fasttext.load_model(model_fname)\n",
    "print(\"time : \", time.time() - start_time)"
   ]
  },
  {
   "cell_type": "code",
   "execution_count": 68,
   "metadata": {},
   "outputs": [
    {
     "data": {
      "text/plain": [
       "['등이', '인성이', '정이', '인원이', '엉덩이', '대상이', '형이', '명이', '정상이', '경향이']"
      ]
     },
     "execution_count": 68,
     "metadata": {},
     "output_type": "execute_result"
    }
   ],
   "source": [
    "[hgtk.text.compose(found) for found in [word for score, word in model.get_nearest_neighbors(_jamo_sentence(\"댕댕이\"))]]"
   ]
  },
  {
   "cell_type": "code",
   "execution_count": 69,
   "metadata": {},
   "outputs": [],
   "source": [
    "############################################################################### 명사 단위 csv"
   ]
  },
  {
   "cell_type": "code",
   "execution_count": 85,
   "metadata": {},
   "outputs": [
    {
     "name": "stdout",
     "output_type": "stream",
     "text": [
      "0        이나은 드디어 터졌네썰 진짜 속시원하다ㅋㅋㅋ 혹시 몰라서 나도 썰 하나 풀게난 전에...\n",
      "1                          진짜 이나은 수준 무슨일이냐 할말이 있고 못할말이 있지 \n",
      "2        아이들이 살아나는 방법 우선 인증가능 타팬임 그냥 아이들 무대만 가끔 보는 정도물론...\n",
      "3              에이프릴에 이렇게 예쁜 멤버가 있었음 저 얼굴을 안밀어줬네이나은밖에 몰랐는데 \n",
      "4                                       와 이 부분 보고 ㅈㄴ 울컥함  \n",
      "                               ...                        \n",
      "10695    정말 결혼 생활이 행복한 분 있나요 판에는 결혼에 부정적인 글이 많지만읽는 분들 중...\n",
      "10696    도련님에게 존댓말 쓰고 처남에겐 반말해도 되나요 오늘 같이 식사하는데 엄마가 남편에...\n",
      "10697                                     일본에 생긴 한국형 편의점  \n",
      "10698    로제 팬들이 자기노래 불러주니까 울었대 중간에 놀라면서 ㅇㅅㅇ 표정짔는거 ㄱㅇㅇ 링...\n",
      "10699    설현이 마른거냐ㅋ 제목 살짝 어그로고 설현 당연히 말랐음근데 궁금한게어떻게 말랐는데...\n",
      "Length: 10700, dtype: object\n",
      "0        [나은, 진짜, 속, 혹시, 하나, 풀, 난, 전, 나은, 둔산, 동창, 사촌오빠,...\n",
      "1                                         [진짜, 나은, 수준, 일이]\n",
      "2        [아이, 방법, 우선, 인증, 가능, 타팬, 임, 그냥, 아이, 무대, 가끔, 정도...\n",
      "3                                    [에이프릴, 멤버, 저, 얼굴, 나은]\n",
      "4                                           [이, 부분, 보고, 함]\n",
      "                               ...                        \n",
      "10695    [정말, 결혼, 생활, 분, 판, 결혼, 부정, 글, 중, 결혼, 생활, 분, 제,...\n",
      "10696    [도련님, 존댓말, 처남, 반말, 오늘, 식사, 엄마, 남편, 이, 동생, 말, 해...\n",
      "10697                                        [일본, 한국, 편의점]\n",
      "10698                    [로제, 팬, 자기, 노래, 중간, 표정, 짔, 링크, 둘]\n",
      "10699    [설현, 제목, 살짝, 어그, 설현, 정말, 개, 또, 개, 마름, 마냥, 데, 팔...\n",
      "Length: 10700, dtype: object\n",
      "0        나은 진짜 속 혹시 하나 풀 난 전 나은 둔산 동창 사촌오빠 나은 얘기 학폭 난 안...\n",
      "1                                              진짜 나은 수준 일이\n",
      "2        아이 방법 우선 인증 가능 타팬 임 그냥 아이 무대 가끔 정도 다른 멤버 잘못 수진...\n",
      "3                                          에이프릴 멤버 저 얼굴 나은\n",
      "4                                                이 부분 보고 함\n",
      "                               ...                        \n",
      "10695    정말 결혼 생활 분 판 결혼 부정 글 중 결혼 생활 분 제 주위 사실 사람 이혼 얘...\n",
      "10696    도련님 존댓말 처남 반말 오늘 식사 엄마 남편 이 동생 말 해 여기 제 남동생 남편...\n",
      "10697                                            일본 한국 편의점\n",
      "10698                              로제 팬 자기 노래 중간 표정 짔 링크 둘\n",
      "10699    설현 제목 살짝 어그 설현 정말 개 또 개 마름 마냥 데 팔다리 허리 몸매 보기 이...\n",
      "Length: 10700, dtype: object\n",
      "0        ㄴㅏᴥㅇㅡㄴᴥ ㅈㅣㄴᴥㅉㅏᴥ ㅅㅗㄱᴥ ㅎㅗㄱᴥㅅㅣᴥ ㅎㅏᴥㄴㅏᴥ ㅍㅜㄹᴥ ㄴㅏㄴᴥ ...\n",
      "1                          ㅈㅣㄴᴥㅉㅏᴥ ㄴㅏᴥㅇㅡㄴᴥ ㅅㅜᴥㅈㅜㄴᴥ ㅇㅣㄹᴥㅇㅣᴥ\n",
      "2        ㅇㅏᴥㅇㅣᴥ ㅂㅏㅇᴥㅂㅓㅂᴥ ㅇㅜᴥㅅㅓㄴᴥ ㅇㅣㄴᴥㅈㅡㅇᴥ ㄱㅏᴥㄴㅡㅇᴥ ㅌㅏᴥㅍㅐ...\n",
      "3               ㅇㅔᴥㅇㅣᴥㅍㅡᴥㄹㅣㄹᴥ ㅁㅔㅁᴥㅂㅓᴥ ㅈㅓᴥ ㅇㅓㄹᴥㄱㅜㄹᴥ ㄴㅏᴥㅇㅡㄴᴥ\n",
      "4                                  ㅇㅣᴥ ㅂㅜᴥㅂㅜㄴᴥ ㅂㅗᴥㄱㅗᴥ ㅎㅏㅁᴥ\n",
      "                               ...                        \n",
      "10695    ㅈㅓㅇᴥㅁㅏㄹᴥ ㄱㅕㄹᴥㅎㅗㄴᴥ ㅅㅐㅇᴥㅎㅘㄹᴥ ㅂㅜㄴᴥ ㅍㅏㄴᴥ ㄱㅕㄹᴥㅎㅗㄴᴥ ...\n",
      "10696    ㄷㅗᴥㄹㅕㄴᴥㄴㅣㅁᴥ ㅈㅗㄴᴥㄷㅐㅅᴥㅁㅏㄹᴥ ㅊㅓᴥㄴㅏㅁᴥ ㅂㅏㄴᴥㅁㅏㄹᴥ ㅇㅗᴥㄴ...\n",
      "10697                        ㅇㅣㄹᴥㅂㅗㄴᴥ ㅎㅏㄴᴥㄱㅜㄱᴥ ㅍㅕㄴᴥㅇㅢᴥㅈㅓㅁᴥ\n",
      "10698    ㄹㅗᴥㅈㅔᴥ ㅍㅐㄴᴥ ㅈㅏᴥㄱㅣᴥ ㄴㅗᴥㄹㅐᴥ ㅈㅜㅇᴥㄱㅏㄴᴥ ㅍㅛᴥㅈㅓㅇᴥ ㅈㅣㅆ...\n",
      "10699    ㅅㅓㄹᴥㅎㅕㄴᴥ ㅈㅔᴥㅁㅗㄱᴥ ㅅㅏㄹᴥㅉㅏㄱᴥ ㅇㅓᴥㄱㅡᴥ ㅅㅓㄹᴥㅎㅕㄴᴥ ㅈㅓㅇᴥ...\n",
      "Length: 10700, dtype: object\n"
     ]
    }
   ],
   "source": [
    "import pandas as pd\n",
    "import re\n",
    "from konlpy.tag import Okt\n",
    "\n",
    "okt = Okt() \n",
    "\n",
    "titles = []\n",
    "txt = []\n",
    "title_morphs = []\n",
    "txt_morphs = []\n",
    "\n",
    "document = pd.read_csv(\"natepann.csv\")\n",
    "document = document[\"제목\"].apply(str)+\" \"+document[\"본문\"].apply(str)\n",
    "\n",
    "print(document)\n",
    "for i in range(len(document)):\n",
    "    document[i] = okt.nouns(document[i])\n",
    "    \n",
    "print(document)\n",
    "for i in range(len(document)):\n",
    "    document[i] = ' '.join(document[i])\n",
    "    \n",
    "print(document)\n",
    "for i in range(len(document)):\n",
    "    document[i] = _jamo_sentence(document[i])\n",
    "\n",
    "print(document)\n",
    "\n",
    "document.to_csv('natepann_nouns.txt', sep = '\\t', index = False, encoding=\"utf-8-sig\")\n",
    "\n",
    "#명사"
   ]
  },
  {
   "cell_type": "code",
   "execution_count": 86,
   "metadata": {},
   "outputs": [
    {
     "name": "stdout",
     "output_type": "stream",
     "text": [
      "학습 중\n",
      "완료\n",
      "time :  94.21820783615112\n"
     ]
    }
   ],
   "source": [
    "import datetime\n",
    "import time\n",
    "import fasttext\n",
    "\n",
    "save_fname = 'natepann_nouns.txt'\n",
    "model_fname = 'result2.bin'\n",
    "start_time = time.time()\n",
    "\n",
    "print(\"학습 중\")\n",
    "model = fasttext.train_unsupervised(\n",
    "    input=save_fname,\n",
    "    model='cbow',\n",
    "    loss='hs',\n",
    "    ws=11,\n",
    "    lr=0.001,\n",
    "    dim=300,\n",
    "    epoch=5,\n",
    "    min_count=10,\n",
    "    thread=25,\n",
    "    verbose=1,\n",
    ")\n",
    "\n",
    "model.save_model(model_fname)\n",
    "\n",
    "print('완료')\n",
    "print(\"time : \", time.time() - start_time)"
   ]
  },
  {
   "cell_type": "code",
   "execution_count": 87,
   "metadata": {},
   "outputs": [
    {
     "name": "stdout",
     "output_type": "stream",
     "text": [
      "time :  2.6360692977905273\n"
     ]
    },
    {
     "name": "stderr",
     "output_type": "stream",
     "text": [
      "Warning : `load_model` does not return WordVectorModel or SupervisedModel any more, but a `FastText` object which is very similar.\n"
     ]
    }
   ],
   "source": [
    "start_time = time.time()\n",
    "model_fname = 'result2.bin'\n",
    "\n",
    "model = fasttext.load_model(model_fname)\n",
    "print(\"time : \", time.time() - start_time)"
   ]
  },
  {
   "cell_type": "code",
   "execution_count": 88,
   "metadata": {},
   "outputs": [
    {
     "data": {
      "text/plain": [
       "[(0.9999939203262329, 'ㅈㅜㄴᴥㅅㅓᴥ'),\n",
       " (0.9999935030937195, 'ㅅㅜㄴᴥㅅㅓᴥ'),\n",
       " (0.9999915361404419, 'ㅁㅜㄴᴥㅅㅣㄴᴥ'),\n",
       " (0.9999903440475464, 'ㅁㅕㄴᴥㅅㅓᴥ'),\n",
       " (0.9999901056289673, 'ㅇㅏᴥㄴㅏᴥㅇㅜㄴᴥㅅㅓᴥ'),\n",
       " (0.9999898672103882, 'ㅅㅏᴥㅅㅓᴥ'),\n",
       " (0.9999896883964539, 'ㅁㅜㄴᴥㅈㅏㅇᴥ'),\n",
       " (0.9999895691871643, 'ㅁㅜㄴᴥ'),\n",
       " (0.99998939037323, 'ㅁㅜㄴᴥㅈㅏᴥ'),\n",
       " (0.9999889135360718, 'ㅁㅜㄴᴥㅈㅐᴥㅇㅣㄴᴥ')]"
      ]
     },
     "execution_count": 88,
     "metadata": {},
     "output_type": "execute_result"
    }
   ],
   "source": [
    "model.get_nearest_neighbors(\"ㅁㅜㄴᴥㅅㅓᴥ\")"
   ]
  },
  {
   "cell_type": "code",
   "execution_count": 89,
   "metadata": {},
   "outputs": [
    {
     "data": {
      "text/plain": [
       "['준서', '순서', '문신', '면서', '아나운서', '사서', '문장', '문', '문자', '문재인']"
      ]
     },
     "execution_count": 89,
     "metadata": {},
     "output_type": "execute_result"
    }
   ],
   "source": [
    "[hgtk.text.compose(found) for found in [word for score, word in model.get_nearest_neighbors(_jamo_sentence(\"문서\"))]]"
   ]
  },
  {
   "cell_type": "code",
   "execution_count": 90,
   "metadata": {},
   "outputs": [
    {
     "data": {
      "text/plain": [
       "['우파', '스파', '아이라인', '나인', '사이트', '스라이', '사이', '라인', '브이', '나이']"
      ]
     },
     "execution_count": 90,
     "metadata": {},
     "output_type": "execute_result"
    }
   ],
   "source": [
    "[hgtk.text.compose(found) for found in [word for score, word in model.get_nearest_neighbors(_jamo_sentence(\"스우파\"))]]"
   ]
  },
  {
   "cell_type": "code",
   "execution_count": 91,
   "metadata": {},
   "outputs": [
    {
     "data": {
      "text/plain": [
       "['정이', '방이', '중이', '엉덩이', '사이', '투성이', '상이', '이', '판이', '종이']"
      ]
     },
     "execution_count": 91,
     "metadata": {},
     "output_type": "execute_result"
    }
   ],
   "source": [
    "[hgtk.text.compose(found) for found in [word for score, word in model.get_nearest_neighbors(_jamo_sentence(\"멍멍이\"))]]"
   ]
  },
  {
   "cell_type": "code",
   "execution_count": 92,
   "metadata": {},
   "outputs": [
    {
     "data": {
      "text/plain": [
       "['상이', '방이', '종이', '용이', '호랑이', '판이', '이', '정이', '가장이', '일이']"
      ]
     },
     "execution_count": 92,
     "metadata": {},
     "output_type": "execute_result"
    }
   ],
   "source": [
    "[hgtk.text.compose(found) for found in [word for score, word in model.get_nearest_neighbors(_jamo_sentence(\"댕댕이\"))]]"
   ]
  },
  {
   "cell_type": "code",
   "execution_count": 93,
   "metadata": {},
   "outputs": [
    {
     "data": {
      "text/plain": [
       "['방이', '중이', '사이', '종이', '용이', '길이', '아이라인', '정이', '천이', '만이']"
      ]
     },
     "execution_count": 93,
     "metadata": {},
     "output_type": "execute_result"
    }
   ],
   "source": [
    "[hgtk.text.compose(found) for found in [word for score, word in model.get_nearest_neighbors(_jamo_sentence(\"냉이\"))]]"
   ]
  },
  {
   "cell_type": "code",
   "execution_count": null,
   "metadata": {},
   "outputs": [],
   "source": []
  }
 ],
 "metadata": {
  "kernelspec": {
   "display_name": "Python 3",
   "language": "python",
   "name": "python3"
  },
  "language_info": {
   "codemirror_mode": {
    "name": "ipython",
    "version": 3
   },
   "file_extension": ".py",
   "mimetype": "text/x-python",
   "name": "python",
   "nbconvert_exporter": "python",
   "pygments_lexer": "ipython3",
   "version": "3.8.5"
  }
 },
 "nbformat": 4,
 "nbformat_minor": 4
}
