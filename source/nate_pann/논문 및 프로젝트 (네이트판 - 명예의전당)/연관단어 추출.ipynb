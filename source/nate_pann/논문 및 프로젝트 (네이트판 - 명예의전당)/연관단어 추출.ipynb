{
 "cells": [
  {
   "cell_type": "code",
   "execution_count": 24,
   "metadata": {},
   "outputs": [],
   "source": [
    "from gensim.models import FastText\n",
    "from tqdm import tqdm\n",
    "import pandas as pd\n",
    "import numpy as np\n",
    "import matplotlib.pyplot as plt\n",
    "import fasttext"
   ]
  },
  {
   "cell_type": "code",
   "execution_count": 41,
   "metadata": {},
   "outputs": [
    {
     "name": "stderr",
     "output_type": "stream",
     "text": [
      "\r",
      "  0%|                                                                                        | 0/10701 [00:00<?, ?it/s]"
     ]
    },
    {
     "name": "stdout",
     "output_type": "stream",
     "text": [
      "corpus 생성\n"
     ]
    },
    {
     "name": "stderr",
     "output_type": "stream",
     "text": [
      "100%|██████████████████████████████████████████████████████████████████████████| 10701/10701 [00:03<00:00, 3357.97it/s]\n"
     ]
    },
    {
     "name": "stdout",
     "output_type": "stream",
     "text": [
      "학습 중\n",
      "완료\n"
     ]
    }
   ],
   "source": [
    "corpus_fname = 'natapann_data.txt'\n",
    "model_fname = 'fasttext'\n",
    "\n",
    "\n",
    "print('corpus 생성')\n",
    "corpus = [sent.strip().split(\" \")for sent in tqdm(open(corpus_fname, 'r', encoding='utf-8').readlines())]\n",
    "\n",
    "print(\"학습 중\")\n",
    "model = FastText(corpus, vector_size=100, window=5, min_count=5, workers=4, sg=1)\n",
    "model.save(model_fname)\n",
    "print('완료')"
   ]
  },
  {
   "cell_type": "code",
   "execution_count": 27,
   "metadata": {},
   "outputs": [
    {
     "name": "stdout",
     "output_type": "stream",
     "text": [
      "(17036, 100)\n"
     ]
    }
   ],
   "source": [
    "loaded_model = FastText.load(\"fasttext\")\n",
    "print(model.wv.vectors.shape)"
   ]
  },
  {
   "cell_type": "code",
   "execution_count": 28,
   "metadata": {},
   "outputs": [
    {
     "name": "stdout",
     "output_type": "stream",
     "text": [
      "[('노제', 0.9820411205291748), ('티저', 0.9783189296722412), ('로잘린', 0.9782274961471558), ('리정', 0.9745947122573853), ('미쳤다', 0.9729905128479004), ('ㄹㅈㄷ', 0.971329391002655), ('이채연', 0.9702030420303345), ('서치', 0.9700813889503479), ('직캠', 0.968477189540863), ('역대급', 0.9682524800300598)]\n"
     ]
    }
   ],
   "source": [
    "print(loaded_model.wv.most_similar(\"스우파\", topn=10))"
   ]
  },
  {
   "cell_type": "code",
   "execution_count": 29,
   "metadata": {},
   "outputs": [
    {
     "name": "stdout",
     "output_type": "stream",
     "text": [
      "[('재난지원금을', 0.9956145882606506), ('뭣하러', 0.9916195273399353), ('입맛에', 0.9913861155509949), ('옳지', 0.9902035593986511), ('대접을', 0.9899418950080872), ('구지', 0.9897322058677673), ('욕심', 0.9897087216377258), ('기본은', 0.9896602630615234), ('묶여', 0.9888975620269775), ('맹세코', 0.9888957142829895)]\n"
     ]
    }
   ],
   "source": [
    "print(loaded_model.wv.most_similar(\"재난지원금\", topn=10))"
   ]
  },
  {
   "cell_type": "markdown",
   "metadata": {},
   "source": [
    "# 각 연관 단어가 포함된 텍스트 덩어리의 극성값 "
   ]
  },
  {
   "cell_type": "markdown",
   "metadata": {},
   "source": [
    "연관 단어를 10-15개 추출하고, 새로운용어 + 연관단어 두가지가 모두 포함된 문장들만 추출하여 그 문장들의 감성분석을 진행하여 극성값을 추출한다. "
   ]
  },
  {
   "cell_type": "code",
   "execution_count": 1,
   "metadata": {},
   "outputs": [],
   "source": [
    "import re\n",
    "import io\n",
    "import json\n",
    "import csv\n",
    "import openpyxl\n",
    "import pandas as pd\n",
    "import numpy as np\n",
    "import kss\n",
    "import ast\n",
    "from konlpy.tag import Komoran\n",
    "from IPython.core.display import display, HTML\n",
    "from konlpy.tag import Okt"
   ]
  },
  {
   "cell_type": "code",
   "execution_count": 2,
   "metadata": {},
   "outputs": [],
   "source": [
    "fkey = '스우파'\n",
    "key = '모니카'"
   ]
  },
  {
   "cell_type": "code",
   "execution_count": 3,
   "metadata": {},
   "outputs": [
    {
     "name": "stdout",
     "output_type": "stream",
     "text": [
      "    index                              제목  \\\n",
      "0    9006                  스우파갤도 태용 ㅈㄴ욕하네   \n",
      "1    9284                 솔직히 그냥 넘어가면 안돼지   \n",
      "2    9317             스우파 립제이 로잘린 과거 궁금하다   \n",
      "3    9409                    이거 로잘린 과거 맞아   \n",
      "4    9443                    스우파 출연진들 닮은꼴   \n",
      "5    9460                     스우파 비주얼 삼대장   \n",
      "6    9629                         스우파 모니카   \n",
      "7    9646               여돌 그룹별 남덕몰이멤여덕몰이멤   \n",
      "8    9745                스우파 댄서들 현재 활동 상황   \n",
      "9    9770            스우파 이상하게 과몰입하는 애들때문에   \n",
      "10   9926                 헐 이사배가 노제 커버한거봄   \n",
      "11   9945                메가크루 미션 누가 제일 좋음   \n",
      "12  10016  모니카쌤 피셜 프라우드먼 메가크루 영상 해석 같이 보자   \n",
      "13  10090           걸플이 빅스가 만든 무대 그대로 표절함   \n",
      "14  10132                    는 갈수록 한계 느껴짐   \n",
      "15  10194                    흥미로운 사실 알려줄게   \n",
      "16  10453             같은 머리하고 춤 춘 모니카랑 노제   \n",
      "\n",
      "                                                   본문  \n",
      "0   개웃기다 판만 태용 학폭 중고나라 쉴드치는거 귀신같이아네모니카 태용 스우파 보아 이채연   \n",
      "1   끌올 ㅅㅊ 방탄소년단 정국 지민 뷔 세븐틴 블랙핑크 제니 로제 지수 이달의소녀 레드...  \n",
      "2   대충 보면 오핸지 뭔진 모르겠지만 로잘린이 립제이 뒷말하다 걸려서 나간거같은데 본인...  \n",
      "3   몇살때야 스우파 스트릿우먼파이터 엠넷 홀리뱅 코카앤버터 원트 라치카  프라우드먼 훅...  \n",
      "4   립제이포카혼타스모니카쌤웬트워스노제서우앱스 주연시미즈유튜버 덕자효진초이이혜영예리자리야...  \n",
      "5                   웨이비 노제라치카 시미즈프라우드먼 모니카 이제 순이를 곁들인  \n",
      "6   판에서 댓글 보니까 스우파 모니카쌤꼰대같다는 댓글 많던데 엠넷이면악편도 어느정도 있...  \n",
      "7   블랙핑크 여덕몰이멤 제니 남덕 지수 리사트와이스 여덕 쯔위 사나 다현 남덕 채영 나...  \n",
      "8   웨이비  노제 원트  엠마현아던 핑퐁 댄서프라우드먼  모니카 립제이 케이데이 다이아...  \n",
      "9   나 화 본방전 글로벌평가 영상 올라왔을 때부터 달렸었는데최근에 이상하게 스우파 과몰...  \n",
      "10  진짜 뷰티 유튜버중에 독보적 위 롱런하는 이유가 있다커버 제일 잘하고 광고도 거의 ...  \n",
      "11  난 라치카언니들 진짜 조카 멋있어특히 가비언니 립싱크 보고 기절할뻔ㅅㅊㅇ스트릿우먼파...  \n",
      "12  모니카쌤이 유튜브 댓글이랑 안고독방에서설명해 준 내용 가져 옴의상은 학교라는 작은사...  \n",
      "13  오늘 걸스플래닛 무대로 인연 커버한 팀이 나왔는데제목그대로 삼년전 빅스 엔이 편곡한...  \n",
      "14  모니카가 스우파 화에서 무대 세번만하면 레파토리 떨어질거라는데 진심 개맞말 ㅇㅈ춤은...  \n",
      "15  사실 우리 방구 낄때 똥도 극소량씩 나옴 방구는 똥가루야레드벨벳 슬기 웬디 아이린 ...  \n",
      "16  같이 사진도 찍음둘다 좋아하는데 이런 날이 오다니얼떨떨하고 이상한데 얼굴은 최고다고...  \n",
      "연관 단어 :스우파\n"
     ]
    },
    {
     "data": {
      "text/html": [
       "<div>\n",
       "<style scoped>\n",
       "    .dataframe tbody tr th:only-of-type {\n",
       "        vertical-align: middle;\n",
       "    }\n",
       "\n",
       "    .dataframe tbody tr th {\n",
       "        vertical-align: top;\n",
       "    }\n",
       "\n",
       "    .dataframe thead th {\n",
       "        text-align: right;\n",
       "    }\n",
       "</style>\n",
       "<table border=\"1\" class=\"dataframe\">\n",
       "  <thead>\n",
       "    <tr style=\"text-align: right;\">\n",
       "      <th></th>\n",
       "      <th>Keyword</th>\n",
       "      <th>negative</th>\n",
       "      <th>neutral</th>\n",
       "      <th>positive</th>\n",
       "    </tr>\n",
       "  </thead>\n",
       "  <tbody>\n",
       "    <tr>\n",
       "      <th>0</th>\n",
       "      <td>모니카</td>\n",
       "      <td>-55</td>\n",
       "      <td>0</td>\n",
       "      <td>91</td>\n",
       "    </tr>\n",
       "  </tbody>\n",
       "</table>\n",
       "</div>"
      ],
      "text/plain": [
       "  Keyword  negative  neutral  positive\n",
       "0     모니카       -55        0        91"
      ]
     },
     "execution_count": 3,
     "metadata": {},
     "output_type": "execute_result"
    }
   ],
   "source": [
    "final = pd.DataFrame(columns = ['contents'])\n",
    "\n",
    "f = pd.read_csv('natepann_data.csv')\n",
    "\n",
    "is_key = (f['본문'].str.contains(fkey, na=False) | f['제목'].str.contains(fkey, na=False)) & (f['본문'].str.contains(key, na=False) | f['제목'].str.contains(key, na=False))\n",
    "\n",
    "f_key = f[is_key]\n",
    "f_key = f_key.reset_index()\n",
    "print(f_key)\n",
    "\n",
    "final_key = pd.DataFrame(columns = ['tokenized'])\n",
    "\n",
    "komoran = Komoran()\n",
    "\n",
    "for i in range(len(f_key)):\n",
    "    try:\n",
    "        st = f_key.loc[i, '제목']\n",
    "        final_key.loc[i, 'tokenized'] = str(st)\n",
    "        ct = f_key.loc[i, '본문']\n",
    "        final_key.loc[i, 'tokenized'] += str(ct)\n",
    "        \n",
    "    except KeyError:\n",
    "        print(\"error\")\n",
    "\n",
    "keyword_content = pd.DataFrame(columns = ['content','positive', 'negative', 'neutral'])\n",
    "\n",
    "\n",
    "for i in range(len(final_key)):\n",
    "    try:\n",
    "        fc = final_key.loc[i, 'tokenized']\n",
    "        \n",
    "        if i == 0:\n",
    "            keyword_content.loc[0,'content'] = fc\n",
    "        else:\n",
    "            keyword_content.loc[0,'content'] += fc\n",
    "        \n",
    "    except KeyError:\n",
    "        print(\"error\")\n",
    "\n",
    "keyword_content\n",
    "\n",
    "# 감성사전에서 감성분석\n",
    "f = open('SentiWord_Dict.txt', 'r', -1, 'utf-8')\n",
    "lines = f.readlines()\n",
    "\n",
    "score_dict = []\n",
    "\n",
    "for line in lines:\n",
    "    line_splited = line.split()\n",
    "    score = int(line_splited[-1])\n",
    "    word = ''\n",
    "    for frac in line_splited[:-1]:\n",
    "        word = word + ' ' + frac\n",
    "    \n",
    "    word = word[1:]\n",
    "    score_dict.append([word, score])\n",
    "    \n",
    "keyword_content['positive'] = 0\n",
    "keyword_content['negative'] = 0\n",
    "keyword_content['neutral'] = 0\n",
    "\n",
    "if keyword_content.empty:\n",
    "    print(\"사전과 비교할 조건에 맞는 내용 없음\")\n",
    "\n",
    "else:\n",
    "    keyword_content.loc[0, 'content'] = str(komoran.nouns(keyword_content.loc[0, 'content']))\n",
    "\n",
    "\n",
    "    stopwords = ['하다', '없다', '있다', '되다', '아니다', '같다', '이다', '않다', '그렇다', \n",
    "                 '이렇다', '싶다', '다', '것', '그', '이', '거', '니다']\n",
    "\n",
    "\n",
    "    pos_list = ast.literal_eval(keyword_content.loc[0, 'content'])\n",
    "\n",
    "    final = []\n",
    "\n",
    "    for j in range(len(pos_list)):\n",
    "        if pos_list[j] not in stopwords:\n",
    "            final.append(pos_list[j])\n",
    "\n",
    "    keyword_content.loc[0, 'content'] = str(final)\n",
    "\n",
    "    # 감성사전에서 감성분석\n",
    "    f = open('SentiWord_Dict.txt', 'r', -1, 'utf-8')\n",
    "    lines = f.readlines()\n",
    "\n",
    "    score_dict = []\n",
    "\n",
    "    for line in lines:\n",
    "        line_splited = line.split()\n",
    "        score = int(line_splited[-1])\n",
    "        word = ''\n",
    "        for frac in line_splited[:-1]:\n",
    "            word = word + ' ' + frac\n",
    "\n",
    "            word = word[1:]\n",
    "            score_dict.append([word, score])\n",
    "\n",
    "    keyword_content.insert(0, \"Keyword\", key)\n",
    "\n",
    "    tokens = ast.literal_eval(keyword_content.loc[0, 'content'])\n",
    "\n",
    "    try:\n",
    "        for token in tokens:\n",
    "            for dict_word in score_dict:\n",
    "                if dict_word[0] == token:\n",
    "                    if dict_word[1] > 0:\n",
    "                        keyword_content.loc[0, 'positive'] += dict_word[1]\n",
    "                    elif dict_word[1] < 0:\n",
    "                        keyword_content.loc[0, 'negative'] += dict_word[1]\n",
    "                    else:\n",
    "                        keyword_content.loc[0, 'negative'] += 1 #중립어는 개수 세기    \n",
    "    except KeyError:\n",
    "        print(\"error\")\n",
    "\n",
    "print(\"연관 단어 :\" + fkey)\n",
    "keyword_content[keyword_content.columns.difference(['content'])]"
   ]
  },
  {
   "cell_type": "code",
   "execution_count": 6,
   "metadata": {},
   "outputs": [
    {
     "data": {
      "image/png": "[encoded data removed]",
      "text/plain": [
       "<Figure size 432x288 with 1 Axes>"
      ]
     },
     "metadata": {},
     "output_type": "display_data"
    },
    {
     "name": "stdout",
     "output_type": "stream",
     "text": [
      "스우파의 극성값 = -1\n",
      "예시 문장 1: 개웃기다 판만 태용 학폭 중고나라 쉴드치는거 귀신같이아네모니카 태용 스우파 보아 이채연 \n",
      "예시 문장 2: 대충 보면 오핸지 뭔진 모르겠지만 로잘린이 립제이 뒷말하다 걸려서 나간거같은데 본인 입으로도 많은 댄서들한테 욕먹었다했고ㅋㅋ 근데 또 사실이랑 다를 수도 있는거니까 ㄹㅇ궁금하다 누가 진상좀 자세히 풀어줬으면그리고 모니카 립제이 가비 리헤이 화이팅\n"
     ]
    }
   ],
   "source": [
    "import matplotlib.pyplot as plt\n",
    "import matplotlib\n",
    "from matplotlib import font_manager, rc\n",
    "import platform\n",
    "\n",
    "#iteration 만들기 이전 => 수동 합계\n",
    "\n",
    "#한글 꺠짐 처리\n",
    "if platform.system() == 'Windows':\n",
    "# 윈도우인 경우\n",
    "    font_name = font_manager.FontProperties(fname=\"c:/Windows/Fonts/malgun.ttf\").get_name()\n",
    "    rc('font', family=font_name)\n",
    "else:    \n",
    "# Mac 인 경우\n",
    "    rc('font', family='AppleGothic')\n",
    "    \n",
    "matplotlib.rcParams['axes.unicode_minus'] = False\n",
    "pos = 12 + 12 + 6 + 6+ 2 + 13 + 13\n",
    "neg = -21 -23 -16 -17 -14 -17 -29\n",
    "nneg = str(neg).replace(\"-\", \"\")\n",
    "neu = 0\n",
    "\n",
    "size = [pos, nneg, neu]\n",
    "\n",
    "label = ['Positive','Negative', 'Neutral']\n",
    "\n",
    "plt.axis('equal')\n",
    "plt.pie(x=size, labels=label, autopct='%.2f%%')\n",
    "\n",
    "plt.title(\"새로운 용어 : \" + fkey)\n",
    "plt.legend(loc=\"upper right\")\n",
    "plt.show()\n",
    "\n",
    "\n",
    "p = pos / (pos + int(nneg))*100\n",
    "n = int(nneg) / (pos + int(nneg))*100\n",
    "total = p - n\n",
    "\n",
    "if total <= 10 and total >= -10:\n",
    "    Senti = 0\n",
    "elif total < -10 and total >= -50:\n",
    "    Senti = -1\n",
    "elif total < -50:\n",
    "    Senti = -2\n",
    "elif total > 10 and total<= 50:\n",
    "    Senti = 1\n",
    "elif total > 50:\n",
    "    Senti = 2\n",
    "\n",
    "print(str(fkey) + \"의 극성값 = \" + str(Senti))\n",
    "\n",
    "print(\"예시 문장 1: \" + f_key.loc[0, '본문'])\n",
    "print(\"예시 문장 2: \" + f_key.loc[2, '본문'])"
   ]
  },
  {
   "cell_type": "markdown",
   "metadata": {},
   "source": [
    "# 각 연관 단어 1:1 사전 비교 극성값"
   ]
  },
  {
   "cell_type": "markdown",
   "metadata": {},
   "source": [
    "각 단어별 사전과 비교시 아예 검색이 되지 않는 경우가 너무 많음, 형태적으로 사전에 등록되지 않은 내용이 많아서 1:1 매핑이 어려움."
   ]
  },
  {
   "cell_type": "code",
   "execution_count": 37,
   "metadata": {},
   "outputs": [
    {
     "name": "stdout",
     "output_type": "stream",
     "text": [
      "['모니카', '립제이', '로잘린', '라치카', '웨이비', '시미즈', '허니제이', '마스카라', '올라온', '김민주', '광고', '첫번째', '환승연애', '팬들이', '안유진', '떠난', '끝나고', '이채연', '시간에', '재계약을', '리헤이', '하루종일', '데리고', '가게를', '걸서위', '반응이', '아이들이', '한국에', '사서', '역시', '하려고', '당일', '사랑해', '인스타', '최유정', '방금', '나은은', '없다는', '보아', '몰라서', '말고도', '이유를', '엠마', '한번뿐인', '바빠서', '방법이', '보이는', '하도', '있도록', '중간중간', '잘린', '따라', '갖고', '베트남', '예쁜', '만원을', '프라우드먼', '아직까지', '받아', '화이팅', '지원을', '서울대', '아이는', '음식을', '사이', '보니까', '사진도', '나머지', '마름', '블로그', '당연히', '초반', '해야할지', '평범한', '추천', '없던', '좋겠다', '만드는', '병원에서', '가까이', '코로나가', '년간', '기다리고', '봐서', '이라', '좋지', '애기', '해주고', '베트남에', '판에', '그나마', '안됨', '년동안', '시댁에서', '마크', '마시고', '한국으로', '대부분', '하루', '백신을']\n"
     ]
    }
   ],
   "source": [
    "Similar = []\n",
    "similar_word_list = list(loaded_model.wv.most_similar(\"스우파\", topn=100)) \n",
    "\n",
    "for i in range(len(similar_word_list)):\n",
    "    temp_str = similar_word_list[i][0].__str__()\n",
    "    Similar.append(temp_str)\n",
    "    \n",
    "print(Similar)"
   ]
  },
  {
   "cell_type": "code",
   "execution_count": 38,
   "metadata": {},
   "outputs": [],
   "source": [
    "word_senti = pd.DataFrame(columns = ['positive', 'negative', 'neutral'])"
   ]
  },
  {
   "cell_type": "code",
   "execution_count": 39,
   "metadata": {},
   "outputs": [],
   "source": [
    "w= '바빠서'\n",
    "word_senti.insert(0, \"Word\", w)"
   ]
  },
  {
   "cell_type": "code",
   "execution_count": 40,
   "metadata": {},
   "outputs": [],
   "source": [
    "word_senti.loc[0, 'positive'] = 0\n",
    "word_senti.loc[0, 'negative'] = 0\n",
    "word_senti.loc[0, 'neutral'] = 0\n",
    "\n",
    "try:\n",
    "    for dict_word in score_dict:\n",
    "        if dict_word[0] == w:\n",
    "            if dict_word[1] > 0:\n",
    "                word_senti.loc[0, 'positive'] += dict_word[1]\n",
    "            elif dict_word[1] < 0:\n",
    "                word_senti.loc[0, 'negative'] += dict_word[1]\n",
    "            else:\n",
    "                word_senti.loc[0, 'neutral'] += 1 #중립어는 개수 세기    \n",
    "except KeyError:\n",
    "    print(\"error\")"
   ]
  },
  {
   "cell_type": "code",
   "execution_count": 41,
   "metadata": {},
   "outputs": [
    {
     "data": {
      "text/html": [
       "<div>\n",
       "<style scoped>\n",
       "    .dataframe tbody tr th:only-of-type {\n",
       "        vertical-align: middle;\n",
       "    }\n",
       "\n",
       "    .dataframe tbody tr th {\n",
       "        vertical-align: top;\n",
       "    }\n",
       "\n",
       "    .dataframe thead th {\n",
       "        text-align: right;\n",
       "    }\n",
       "</style>\n",
       "<table border=\"1\" class=\"dataframe\">\n",
       "  <thead>\n",
       "    <tr style=\"text-align: right;\">\n",
       "      <th></th>\n",
       "      <th>negative</th>\n",
       "      <th>neutral</th>\n",
       "      <th>positive</th>\n",
       "    </tr>\n",
       "  </thead>\n",
       "  <tbody>\n",
       "    <tr>\n",
       "      <th>0</th>\n",
       "      <td>0</td>\n",
       "      <td>0</td>\n",
       "      <td>0</td>\n",
       "    </tr>\n",
       "  </tbody>\n",
       "</table>\n",
       "</div>"
      ],
      "text/plain": [
       "  negative neutral positive\n",
       "0        0       0        0"
      ]
     },
     "execution_count": 41,
     "metadata": {},
     "output_type": "execute_result"
    }
   ],
   "source": [
    "word_senti[word_senti.columns.difference(['Word'])]"
   ]
  },
  {
   "cell_type": "code",
   "execution_count": null,
   "metadata": {},
   "outputs": [],
   "source": []
  },
  {
   "cell_type": "code",
   "execution_count": null,
   "metadata": {},
   "outputs": [],
   "source": []
  }
 ],
 "metadata": {
  "kernelspec": {
   "display_name": "Python 3",
   "language": "python",
   "name": "python3"
  },
  "language_info": {
   "codemirror_mode": {
    "name": "ipython",
    "version": 3
   },
   "file_extension": ".py",
   "mimetype": "text/x-python",
   "name": "python",
   "nbconvert_exporter": "python",
   "pygments_lexer": "ipython3",
   "version": "3.7.6"
  }
 },
 "nbformat": 4,
 "nbformat_minor": 4
}
