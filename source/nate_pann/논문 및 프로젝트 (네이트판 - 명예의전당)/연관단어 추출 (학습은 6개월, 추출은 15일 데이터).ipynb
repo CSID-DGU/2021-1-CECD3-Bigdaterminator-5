{
 "cells": [
  {
   "cell_type": "code",
   "execution_count": 1,
   "metadata": {},
   "outputs": [
    {
     "name": "stderr",
     "output_type": "stream",
     "text": [
      "C:\\ProgramData\\Anaconda3\\lib\\site-packages\\gensim\\similarities\\__init__.py:15: UserWarning: The gensim.similarities.levenshtein submodule is disabled, because the optional Levenshtein package <https://pypi.org/project/python-Levenshtein/> is unavailable. Install Levenhstein (e.g. `pip install python-Levenshtein`) to suppress this warning.\n",
      "  warnings.warn(msg)\n"
     ]
    }
   ],
   "source": [
    "from gensim.models import FastText\n",
    "from tqdm import tqdm\n",
    "import pandas as pd\n",
    "import numpy as np\n",
    "import matplotlib.pyplot as plt\n",
    "import fasttext"
   ]
  },
  {
   "cell_type": "code",
   "execution_count": 2,
   "metadata": {},
   "outputs": [
    {
     "name": "stderr",
     "output_type": "stream",
     "text": [
      "\r",
      "  0%|                                                                                        | 0/10701 [00:00<?, ?it/s]"
     ]
    },
    {
     "name": "stdout",
     "output_type": "stream",
     "text": [
      "corpus 생성\n"
     ]
    },
    {
     "name": "stderr",
     "output_type": "stream",
     "text": [
      "100%|█████████████████████████████████████████████████████████████████████████| 10701/10701 [00:00<00:00, 86194.59it/s]\n"
     ]
    },
    {
     "name": "stdout",
     "output_type": "stream",
     "text": [
      "학습 중\n",
      "완료\n",
      "(17036, 100)\n"
     ]
    }
   ],
   "source": [
    "corpus_fname = 'natapann_data.txt'\n",
    "model_fname = 'fasttext'\n",
    "\n",
    "\n",
    "print('corpus 생성')\n",
    "corpus = [sent.strip().split(\" \")for sent in tqdm(open(corpus_fname, 'r', encoding='utf-8').readlines())]\n",
    "\n",
    "print(\"학습 중\")\n",
    "model = FastText(corpus, vector_size=100, window=5, min_count=5, workers=4, sg=1)\n",
    "model.save(model_fname)\n",
    "print('완료')\n",
    "\n",
    "loaded_model = FastText.load(\"fasttext\")\n",
    "print(model.wv.vectors.shape)"
   ]
  },
  {
   "cell_type": "code",
   "execution_count": 3,
   "metadata": {},
   "outputs": [
    {
     "name": "stdout",
     "output_type": "stream",
     "text": [
      "[('티저', 0.9849935173988342), ('로잘린', 0.98482745885849), ('노제', 0.9829152226448059), ('리정', 0.981383204460144), ('이채연', 0.978834867477417), ('ㄹㅈㄷ', 0.9737724661827087), ('서치', 0.9731125831604004), ('김진환', 0.973042368888855), ('블러셔', 0.9729729890823364), ('개이쁨', 0.9728280305862427)]\n"
     ]
    }
   ],
   "source": [
    "print(loaded_model.wv.most_similar(\"스우파\", topn=10))"
   ]
  },
  {
   "cell_type": "code",
   "execution_count": 4,
   "metadata": {},
   "outputs": [
    {
     "name": "stdout",
     "output_type": "stream",
     "text": [
      "[('재난지원금을', 0.9911537766456604), ('보단', 0.9897066354751587), ('봤자', 0.9875844120979309), ('백프로', 0.9875646829605103), ('입맛에', 0.9875110983848572), ('꺼', 0.9873227477073669), ('만들지', 0.9872516393661499), ('뜻은', 0.987227201461792), ('화만', 0.9870399236679077), ('뭣하러', 0.98686283826828)]\n"
     ]
    }
   ],
   "source": [
    "print(loaded_model.wv.most_similar(\"재난지원금\", topn=10))"
   ]
  },
  {
   "cell_type": "markdown",
   "metadata": {},
   "source": [
    "# 각 연관 단어가 포함된 텍스트 덩어리의 극성값 "
   ]
  },
  {
   "cell_type": "markdown",
   "metadata": {},
   "source": [
    "연관 단어를 10-15개 추출하고, 새로운용어 + 연관단어 두가지가 모두 포함된 문장들만 추출하여 그 문장들의 감성분석을 진행하여 극성값을 추출한다. "
   ]
  },
  {
   "cell_type": "code",
   "execution_count": 9,
   "metadata": {},
   "outputs": [],
   "source": [
    "import re\n",
    "import io\n",
    "import json\n",
    "import csv\n",
    "import openpyxl\n",
    "import pandas as pd\n",
    "import numpy as np\n",
    "import kss\n",
    "import ast\n",
    "from konlpy.tag import Komoran\n",
    "from IPython.core.display import display, HTML\n",
    "from konlpy.tag import Okt"
   ]
  },
  {
   "cell_type": "code",
   "execution_count": 10,
   "metadata": {},
   "outputs": [],
   "source": [
    "fkey = '스우파'\n",
    "key = '모니카'"
   ]
  },
  {
   "cell_type": "code",
   "execution_count": 11,
   "metadata": {},
   "outputs": [
    {
     "name": "stdout",
     "output_type": "stream",
     "text": [
      "    index                     제목  \\\n",
      "0      50         스우파 모니카 트윗 봐봐    \n",
      "1      85       솔직히 그냥 넘어가면 안 돼지   \n",
      "2     119   스우파 립제이 로 잘린 과거 궁금하다   \n",
      "3     151  스우파 댄서분들 댓글 다 보는 것 같아   \n",
      "4     210         이 거 로 잘린 과거 맞아   \n",
      "5     244           스우파 출연진들 닮은꼴   \n",
      "6     262            스우파 비주얼 삼대장   \n",
      "7     434                스우파 모니카   \n",
      "8     571  스우파 이상하게 과몰입하는 애들 때문에   \n",
      "9     729      헐 이사배가 노제 커버한 거 봄   \n",
      "10    749       메가크루 미션 누가 제일 좋음   \n",
      "\n",
      "                                                   본문  \n",
      "0   신정우 모니카 세상 무서운 캐릭인 줄 알았는데 트윗 완전 귀여움저번주부터 트위터 깔...  \n",
      "1   끌올  방탄소년단 정국 지민 뷔 세븐틴 블랙핑크 제니 로제 지수 이달의소녀 레드벨벳...  \n",
      "2   대충 보면 오핸지 뭔진 모르겠지만 로잘린이 립제이 뒷말하다 걸려서 나간거같은데 본인...  \n",
      "3   시간 전에 엠넷 영상이 아닌 곳에서가비님이 댓글 남긴거 보고 깜놀내가 놀라서 악플있...  \n",
      "4   몇살때야 스우파 스트릿우먼파이터 엠넷 홀리뱅 코카앤버터 원트 라치카  프라우드먼 훅...  \n",
      "5   립제이포카혼타스모니카쌤웬트워스노제서우앱스 주연시미즈유튜버 덕자효진초이이혜영예리자리야...  \n",
      "6                   웨이비 노제라치카 시미즈프라우드먼 모니카 이제 순이를 곁들인  \n",
      "7   판에서 댓글 보니까 스우파 모니카쌤꼰대같다는 댓글 많던데 엠넷이면악편도 어느정도 있...  \n",
      "8   나 화 본방전 글로벌평가 영상 올라왔을 때부터 달렸었는데최근에 이상하게 스우파 과몰...  \n",
      "9   진짜 뷰티 유튜버중에 독보적 위 롱런하는 이유가 있다커버 제일 잘하고 광고도 거의 ...  \n",
      "10  난 라치카언니들 진짜 조카 멋있어특히 가비언니 립싱크 보고 기절할뻔스트릿우먼파이터 ...  \n",
      "연관 단어 :스우파\n"
     ]
    },
    {
     "data": {
      "text/html": [
       "<div>\n",
       "<style scoped>\n",
       "    .dataframe tbody tr th:only-of-type {\n",
       "        vertical-align: middle;\n",
       "    }\n",
       "\n",
       "    .dataframe tbody tr th {\n",
       "        vertical-align: top;\n",
       "    }\n",
       "\n",
       "    .dataframe thead th {\n",
       "        text-align: right;\n",
       "    }\n",
       "</style>\n",
       "<table border=\"1\" class=\"dataframe\">\n",
       "  <thead>\n",
       "    <tr style=\"text-align: right;\">\n",
       "      <th></th>\n",
       "      <th>Keyword</th>\n",
       "      <th>negative</th>\n",
       "      <th>neutral</th>\n",
       "      <th>positive</th>\n",
       "    </tr>\n",
       "  </thead>\n",
       "  <tbody>\n",
       "    <tr>\n",
       "      <th>0</th>\n",
       "      <td>모니카</td>\n",
       "      <td>-21</td>\n",
       "      <td>0</td>\n",
       "      <td>12</td>\n",
       "    </tr>\n",
       "  </tbody>\n",
       "</table>\n",
       "</div>"
      ],
      "text/plain": [
       "  Keyword  negative  neutral  positive\n",
       "0     모니카       -21        0        12"
      ]
     },
     "execution_count": 11,
     "metadata": {},
     "output_type": "execute_result"
    }
   ],
   "source": [
    "final = pd.DataFrame(columns = ['contents'])\n",
    "\n",
    "f = pd.read_csv('natepann.csv')\n",
    "\n",
    "is_key = (f['본문'].str.contains(fkey, na=False) | f['제목'].str.contains(fkey, na=False)) & (f['본문'].str.contains(key, na=False) | f['제목'].str.contains(key, na=False))\n",
    "\n",
    "f_key = f[is_key]\n",
    "f_key = f_key.reset_index()\n",
    "print(f_key)\n",
    "\n",
    "final_key = pd.DataFrame(columns = ['tokenized'])\n",
    "\n",
    "komoran = Komoran()\n",
    "\n",
    "for i in range(len(f_key)):\n",
    "    try:\n",
    "        st = f_key.loc[i, '제목']\n",
    "        final_key.loc[i, 'tokenized'] = str(st)\n",
    "        ct = f_key.loc[i, '본문']\n",
    "        final_key.loc[i, 'tokenized'] += str(ct)\n",
    "        \n",
    "    except KeyError:\n",
    "        print(\"error\")\n",
    "\n",
    "keyword_content = pd.DataFrame(columns = ['content','positive', 'negative', 'neutral'])\n",
    "\n",
    "\n",
    "for i in range(len(final_key)):\n",
    "    try:\n",
    "        fc = final_key.loc[i, 'tokenized']\n",
    "        \n",
    "        if i == 0:\n",
    "            keyword_content.loc[0,'content'] = fc\n",
    "        else:\n",
    "            keyword_content.loc[0,'content'] += fc\n",
    "        \n",
    "    except KeyError:\n",
    "        print(\"error\")\n",
    "\n",
    "keyword_content\n",
    "\n",
    "# 감성사전에서 감성분석\n",
    "f = open('SentiWord_Dict.txt', 'r', -1, 'utf-8')\n",
    "lines = f.readlines()\n",
    "\n",
    "score_dict = []\n",
    "\n",
    "for line in lines:\n",
    "    line_splited = line.split()\n",
    "    score = int(line_splited[-1])\n",
    "    word = ''\n",
    "    for frac in line_splited[:-1]:\n",
    "        word = word + ' ' + frac\n",
    "    \n",
    "    word = word[1:]\n",
    "    score_dict.append([word, score])\n",
    "    \n",
    "keyword_content['positive'] = 0\n",
    "keyword_content['negative'] = 0\n",
    "keyword_content['neutral'] = 0\n",
    "\n",
    "if keyword_content.empty:\n",
    "    print(\"사전과 비교할 조건에 맞는 내용 없음\")\n",
    "\n",
    "else:\n",
    "    keyword_content.loc[0, 'content'] = str(komoran.nouns(keyword_content.loc[0, 'content']))\n",
    "\n",
    "\n",
    "    stopwords = ['하다', '없다', '있다', '되다', '아니다', '같다', '이다', '않다', '그렇다', \n",
    "                 '이렇다', '싶다', '다', '것', '그', '이', '거', '니다']\n",
    "\n",
    "\n",
    "    pos_list = ast.literal_eval(keyword_content.loc[0, 'content'])\n",
    "\n",
    "    final = []\n",
    "\n",
    "    for j in range(len(pos_list)):\n",
    "        if pos_list[j] not in stopwords:\n",
    "            final.append(pos_list[j])\n",
    "\n",
    "    keyword_content.loc[0, 'content'] = str(final)\n",
    "\n",
    "    # 감성사전에서 감성분석\n",
    "    f = open('SentiWord_Dict.txt', 'r', -1, 'utf-8')\n",
    "    lines = f.readlines()\n",
    "\n",
    "    score_dict = []\n",
    "\n",
    "    for line in lines:\n",
    "        line_splited = line.split()\n",
    "        score = int(line_splited[-1])\n",
    "        word = ''\n",
    "        for frac in line_splited[:-1]:\n",
    "            word = word + ' ' + frac\n",
    "\n",
    "            word = word[1:]\n",
    "            score_dict.append([word, score])\n",
    "\n",
    "    keyword_content.insert(0, \"Keyword\", key)\n",
    "\n",
    "    tokens = ast.literal_eval(keyword_content.loc[0, 'content'])\n",
    "\n",
    "    try:\n",
    "        for token in tokens:\n",
    "            for dict_word in score_dict:\n",
    "                if dict_word[0] == token:\n",
    "                    if dict_word[1] > 0:\n",
    "                        keyword_content.loc[0, 'positive'] += dict_word[1]\n",
    "                    elif dict_word[1] < 0:\n",
    "                        keyword_content.loc[0, 'negative'] += dict_word[1]\n",
    "                    else:\n",
    "                        keyword_content.loc[0, 'negative'] += 1 #중립어는 개수 세기    \n",
    "    except KeyError:\n",
    "        print(\"error\")\n",
    "\n",
    "print(\"연관 단어 :\" + fkey)\n",
    "keyword_content[keyword_content.columns.difference(['content'])]"
   ]
  },
  {
   "cell_type": "code",
   "execution_count": 16,
   "metadata": {},
   "outputs": [
    {
     "data": {
      "image/png": "[encoded data removed]",
      "text/plain": [
       "<Figure size 432x288 with 1 Axes>"
      ]
     },
     "metadata": {},
     "output_type": "display_data"
    },
    {
     "name": "stdout",
     "output_type": "stream",
     "text": [
      "예시 문장 1: 신정우 모니카 세상 무서운 캐릭인 줄 알았는데 트윗 완전 귀여움저번주부터 트위터 깔고 소통하면서 완전 신나심\n",
      "예시 문장 2: 대충 보면 오핸지 뭔진 모르겠지만 로잘린이 립제이 뒷말하다 걸려서 나간거같은데 본인 입으로도 많은 댄서들한테 욕먹었다했고 근데 또 사실이랑 다를 수도 있는거니까 궁금하다 누가 진상좀 자세히 풀어줬으면그리고 모니카 립제이 가비 리헤이 화이팅\n"
     ]
    }
   ],
   "source": [
    "import matplotlib.pyplot as plt\n",
    "import matplotlib\n",
    "from matplotlib import font_manager, rc\n",
    "import platform\n",
    "\n",
    "#iteration 만들기 이전 => 수동 합계\n",
    "\n",
    "#한글 꺠짐 처리\n",
    "if platform.system() == 'Windows':\n",
    "# 윈도우인 경우\n",
    "    font_name = font_manager.FontProperties(fname=\"c:/Windows/Fonts/malgun.ttf\").get_name()\n",
    "    rc('font', family=font_name)\n",
    "else:    \n",
    "# Mac 인 경우\n",
    "    rc('font', family='AppleGothic')\n",
    "    \n",
    "matplotlib.rcParams['axes.unicode_minus'] = False\n",
    "pos = 12 + 12 + 6 + 6+ 2 + 13 + 13\n",
    "neg = -21 -23 -16 -17 -14 -17 -29\n",
    "nneg = str(neg).replace(\"-\", \"\")\n",
    "neu = 0\n",
    "\n",
    "size = [pos, nneg, neu]\n",
    "\n",
    "label = ['Positive','Negative', 'Neutral']\n",
    "\n",
    "\n",
    "p = pos / (pos + int(nneg))*100\n",
    "n = int(nneg) / (pos + int(nneg))*100\n",
    "total = p - n\n",
    "\n",
    "if total <= 10 and total >= -10:\n",
    "    Senti = 0\n",
    "elif total < -10 and total >= -50:\n",
    "    Senti = -1\n",
    "elif total < -50:\n",
    "    Senti = -2\n",
    "elif total > 10 and total<= 50:\n",
    "    Senti = 1\n",
    "elif total > 50:\n",
    "    Senti = 2\n",
    "\n",
    "plt.axis('equal')\n",
    "plt.pie(x=size, labels=label, autopct='%.2f%%')\n",
    "plt.rc('font', size=12)\n",
    "plt.rc('legend', fontsize=11)\n",
    "plt.title(\"신조어 <\" + fkey + \">의 극성값 : \" + str(Senti))\n",
    "plt.legend(loc=\"upper left\")\n",
    "plt.show()    \n",
    "    \n",
    "    \n",
    "#print(str(fkey) + \"의 극성값 = \" + str(Senti))\n",
    "\n",
    "print(\"예시 문장 1: \" + f_key.loc[0, '본문'])\n",
    "print(\"예시 문장 2: \" + f_key.loc[2, '본문'])"
   ]
  },
  {
   "cell_type": "code",
   "execution_count": null,
   "metadata": {},
   "outputs": [],
   "source": []
  }
 ],
 "metadata": {
  "kernelspec": {
   "display_name": "Python 3",
   "language": "python",
   "name": "python3"
  },
  "language_info": {
   "codemirror_mode": {
    "name": "ipython",
    "version": 3
   },
   "file_extension": ".py",
   "mimetype": "text/x-python",
   "name": "python",
   "nbconvert_exporter": "python",
   "pygments_lexer": "ipython3",
   "version": "3.7.6"
  }
 },
 "nbformat": 4,
 "nbformat_minor": 4
}
