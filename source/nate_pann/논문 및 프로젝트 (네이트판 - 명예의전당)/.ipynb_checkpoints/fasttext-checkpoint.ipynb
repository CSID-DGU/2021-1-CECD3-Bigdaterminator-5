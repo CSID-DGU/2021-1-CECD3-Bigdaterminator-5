{
 "cells": [
  {
   "cell_type": "code",
   "execution_count": 1,
   "metadata": {},
   "outputs": [
    {
     "name": "stdout",
     "output_type": "stream",
     "text": [
      "0        이나은 드디어 터졌네썰 진짜 속시원하다ㅋㅋㅋ 혹시 몰라서 나도 썰 하나 풀게난 전에...\n",
      "1                          진짜 이나은 수준 무슨일이냐 할말이 있고 못할말이 있지 \n",
      "2        아이들이 살아나는 방법 우선 인증가능 타팬임 그냥 아이들 무대만 가끔 보는 정도물론...\n",
      "3              에이프릴에 이렇게 예쁜 멤버가 있었음 저 얼굴을 안밀어줬네이나은밖에 몰랐는데 \n",
      "4                                       와 이 부분 보고 ㅈㄴ 울컥함  \n",
      "                               ...                        \n",
      "10695    정말 결혼 생활이 행복한 분 있나요 판에는 결혼에 부정적인 글이 많지만읽는 분들 중...\n",
      "10696    도련님에게 존댓말 쓰고 처남에겐 반말해도 되나요 오늘 같이 식사하는데 엄마가 남편에...\n",
      "10697                                     일본에 생긴 한국형 편의점  \n",
      "10698    로제 팬들이 자기노래 불러주니까 울었대 중간에 놀라면서 ㅇㅅㅇ 표정짔는거 ㄱㅇㅇ 링...\n",
      "10699    설현이 마른거냐ㅋ 제목 살짝 어그로고 설현 당연히 말랐음근데 궁금한게어떻게 말랐는데...\n",
      "Length: 10700, dtype: object\n"
     ]
    }
   ],
   "source": [
    "import pandas as pd\n",
    "\n",
    "document = pd.read_csv(\"natepann.csv\")\n",
    "document = document[\"제목\"]+\" \"+document[\"본문\"]\n",
    "print(document)\n",
    "document.to_csv('natapann_data.txt', sep = '\\t', index = False)\n",
    "\n",
    "#문장 전체"
   ]
  },
  {
   "cell_type": "code",
   "execution_count": 3,
   "metadata": {},
   "outputs": [
    {
     "name": "stdout",
     "output_type": "stream",
     "text": [
      "0        ['나은'] ['진짜', '속', '혹시', '하나', '풀', '난', '전', ...\n",
      "1                              ['진짜', '나은', '수준', '일이'] []\n",
      "2        ['아이', '방법'] ['우선', '인증', '가능', '타팬', '임', '그냥...\n",
      "3                         ['에이프릴', '멤버'] ['저', '얼굴', '나은']\n",
      "4                                ['이', '부분', '보고', '함'] []\n",
      "                               ...                        \n",
      "10695    ['정말', '결혼', '생활', '분'] ['판', '결혼', '부정', '글',...\n",
      "10696    ['도련님', '존댓말', '처남', '반말'] ['오늘', '식사', '엄마', ...\n",
      "10697                               ['일본', '한국', '편의점'] []\n",
      "10698    ['로제', '팬', '자기', '노래'] ['중간', '표정', '짔', '링크'...\n",
      "10699    ['설현'] ['제목', '살짝', '어그', '설현', '정말', '개', '또'...\n",
      "Length: 10700, dtype: object\n",
      "0        나은 진짜 속 혹시 하나 풀 난 전 나은 둔산 동창 사촌오빠 나은 얘기 학폭 난 안...\n",
      "1                                             진짜 나은 수준 일이 \n",
      "2        아이 방법 우선 인증 가능 타팬 임 그냥 아이 무대 가끔 정도 다른 멤버 잘못 수진...\n",
      "3                                          에이프릴 멤버 저 얼굴 나은\n",
      "4                                               이 부분 보고 함 \n",
      "                               ...                        \n",
      "10695    정말 결혼 생활 분 판 결혼 부정 글 중 결혼 생활 분 제 주위 사실 사람 이혼 얘...\n",
      "10696    도련님 존댓말 처남 반말 오늘 식사 엄마 남편 이 동생 말 해 여기 제 남동생 남편...\n",
      "10697                                           일본 한국 편의점 \n",
      "10698                              로제 팬 자기 노래 중간 표정 짔 링크 둘\n",
      "10699    설현 제목 살짝 어그 설현 정말 개 또 개 마름 마냥 데 팔다리 허리 몸매 보기 이...\n",
      "Length: 10700, dtype: object\n"
     ]
    }
   ],
   "source": [
    "import re\n",
    "\n",
    "document = pd.read_csv(\"natepann_nouns.csv\")\n",
    "document = document[\"제목 형태소\"].apply(str)+\" \"+document[\"본문 형태소\"].apply(str)\n",
    "\n",
    "print(document)\n",
    "for i in range(len(document)):\n",
    "    document[i] = re.sub('[^ ㄱ-ㅣ가-힣]','',document[i])\n",
    "    \n",
    "print(document)\n",
    "document.to_csv('natapann_data_nouns.txt', sep = '\\t', index = False)\n",
    "\n",
    "#명사"
   ]
  },
  {
   "cell_type": "code",
   "execution_count": 4,
   "metadata": {},
   "outputs": [
    {
     "name": "stdout",
     "output_type": "stream",
     "text": [
      "학습 중\n",
      "완료\n",
      "time :  41.632673501968384\n"
     ]
    }
   ],
   "source": [
    "import datetime\n",
    "import time\n",
    "import fasttext\n",
    "\n",
    "save = 'natapann_data_nouns.txt'\n",
    "model_fname = 'result.bin'\n",
    "start_time = time.time()\n",
    "\n",
    "print(\"학습 중\")\n",
    "model = fasttext.train_unsupervised(\n",
    "    input=save,\n",
    "    model='cbow',\n",
    "    loss='hs',\n",
    "    ws=11,\n",
    "    lr=0.001,\n",
    "    dim=300,\n",
    "    epoch=5,\n",
    "    min_count=10,\n",
    "    thread=25,\n",
    "    verbose=1,\n",
    ")\n",
    "\n",
    "model.save_model(model_fname)\n",
    "\n",
    "print('완료')\n",
    "print(\"time : \", time.time() - start_time)"
   ]
  },
  {
   "cell_type": "code",
   "execution_count": 5,
   "metadata": {},
   "outputs": [
    {
     "name": "stdout",
     "output_type": "stream",
     "text": [
      "time :  3.401754379272461\n"
     ]
    },
    {
     "name": "stderr",
     "output_type": "stream",
     "text": [
      "Warning : `load_model` does not return WordVectorModel or SupervisedModel any more, but a `FastText` object which is very similar.\n"
     ]
    }
   ],
   "source": [
    "start_time = time.time()\n",
    "model_fname = 'result.bin'\n",
    "\n",
    "model = fasttext.load_model(model_fname)\n",
    "print(\"time : \", time.time() - start_time)"
   ]
  },
  {
   "cell_type": "code",
   "execution_count": 6,
   "metadata": {},
   "outputs": [
    {
     "data": {
      "text/plain": [
       "[(0.9828409552574158, '사람'),\n",
       " (0.9827322959899902, '생각'),\n",
       " (0.9823778867721558, '여자친구'),\n",
       " (0.9822070002555847, '아이'),\n",
       " (0.9821056723594666, '여자'),\n",
       " (0.9820830821990967, '자기'),\n",
       " (0.9819432497024536, '남자친구'),\n",
       " (0.9819046854972839, '친구'),\n",
       " (0.9818615913391113, '아버지'),\n",
       " (0.9818393588066101, '결혼')]"
      ]
     },
     "execution_count": 6,
     "metadata": {},
     "output_type": "execute_result"
    }
   ],
   "source": [
    "model.get_nearest_neighbors(\"방법\")"
   ]
  },
  {
   "cell_type": "code",
   "execution_count": 7,
   "metadata": {},
   "outputs": [],
   "source": [
    "########################################### 문장단위"
   ]
  },
  {
   "cell_type": "code",
   "execution_count": 8,
   "metadata": {},
   "outputs": [
    {
     "name": "stdout",
     "output_type": "stream",
     "text": [
      "학습 중\n",
      "완료\n",
      "time :  55.46422791481018\n"
     ]
    }
   ],
   "source": [
    "import datetime\n",
    "import time\n",
    "import fasttext\n",
    "\n",
    "save = 'natapann_data.txt'\n",
    "model_fname = 'result2.bin'\n",
    "start_time = time.time()\n",
    "\n",
    "print(\"학습 중\")\n",
    "model = fasttext.train_unsupervised(\n",
    "    input=save,\n",
    "    model='cbow',\n",
    "    loss='hs',\n",
    "    ws=11,\n",
    "    lr=0.001,\n",
    "    dim=300,\n",
    "    epoch=5,\n",
    "    min_count=10,\n",
    "    thread=25,\n",
    "    verbose=1,\n",
    ")\n",
    "\n",
    "model.save_model(model_fname)\n",
    "\n",
    "print('완료')\n",
    "print(\"time : \", time.time() - start_time)"
   ]
  },
  {
   "cell_type": "code",
   "execution_count": 9,
   "metadata": {},
   "outputs": [
    {
     "name": "stdout",
     "output_type": "stream",
     "text": [
      "time :  3.2078752517700195\n"
     ]
    },
    {
     "name": "stderr",
     "output_type": "stream",
     "text": [
      "Warning : `load_model` does not return WordVectorModel or SupervisedModel any more, but a `FastText` object which is very similar.\n"
     ]
    }
   ],
   "source": [
    "start_time = time.time()\n",
    "model_fname = 'result2.bin'\n",
    "\n",
    "model = fasttext.load_model(model_fname)\n",
    "print(\"time : \", time.time() - start_time)"
   ]
  },
  {
   "cell_type": "code",
   "execution_count": 10,
   "metadata": {},
   "outputs": [
    {
     "data": {
      "text/plain": [
       "[(0.9932414889335632, '방법으로'),\n",
       " (0.9931742548942566, '힘들어서'),\n",
       " (0.9931703209877014, '말하지만'),\n",
       " (0.9931579828262329, '아이와'),\n",
       " (0.9931306838989258, '여자친구'),\n",
       " (0.9931213855743408, '행복하고'),\n",
       " (0.9931110739707947, '것으로'),\n",
       " (0.9931098818778992, '적어서'),\n",
       " (0.9931080341339111, '남편에게'),\n",
       " (0.9930898547172546, '남자친구에게')]"
      ]
     },
     "execution_count": 10,
     "metadata": {},
     "output_type": "execute_result"
    }
   ],
   "source": [
    "model.get_nearest_neighbors(\"방법\")"
   ]
  },
  {
   "cell_type": "code",
   "execution_count": 2,
   "metadata": {},
   "outputs": [],
   "source": [
    "########################################### 명사단위로 테스트"
   ]
  },
  {
   "cell_type": "code",
   "execution_count": 4,
   "metadata": {},
   "outputs": [
    {
     "name": "stderr",
     "output_type": "stream",
     "text": [
      "Warning : `load_model` does not return WordVectorModel or SupervisedModel any more, but a `FastText` object which is very similar.\n"
     ]
    },
    {
     "name": "stdout",
     "output_type": "stream",
     "text": [
      "time :  2.8609726428985596\n"
     ]
    }
   ],
   "source": [
    "import datetime\n",
    "import time\n",
    "import fasttext\n",
    "\n",
    "start_time = time.time()\n",
    "model_fname = 'result.bin'\n",
    "\n",
    "model = fasttext.load_model(model_fname)\n",
    "print(\"time : \", time.time() - start_time)"
   ]
  },
  {
   "cell_type": "code",
   "execution_count": 5,
   "metadata": {},
   "outputs": [
    {
     "data": {
      "text/plain": [
       "[(0.2238939255475998, '동혁'),\n",
       " (0.21557635068893433, '화목'),\n",
       " (0.21228012442588806, '어보'),\n",
       " (0.21039262413978577, '와인'),\n",
       " (0.20991764962673187, '이과'),\n",
       " (0.20858913660049438, '우애'),\n",
       " (0.20349402725696564, '월달'),\n",
       " (0.19817666709423065, '자산'),\n",
       " (0.1978311389684677, '개그'),\n",
       " (0.19360189139842987, '중인')]"
      ]
     },
     "execution_count": 5,
     "metadata": {},
     "output_type": "execute_result"
    }
   ],
   "source": [
    "model.get_nearest_neighbors(\"재난지원금\")"
   ]
  },
  {
   "cell_type": "code",
   "execution_count": 8,
   "metadata": {},
   "outputs": [
    {
     "data": {
      "text/plain": [
       "[(0.8479960560798645, '투바'),\n",
       " (0.844921886920929, '아이'),\n",
       " (0.8440291285514832, '공개'),\n",
       " (0.8440220355987549, '오빠'),\n",
       " (0.843817412853241, '남자친구'),\n",
       " (0.843797504901886, '우리'),\n",
       " (0.8437028527259827, '또'),\n",
       " (0.8435818552970886, '달라'),\n",
       " (0.8432586193084717, '임신'),\n",
       " (0.8432536721229553, '분위기')]"
      ]
     },
     "execution_count": 8,
     "metadata": {},
     "output_type": "execute_result"
    }
   ],
   "source": [
    "model.get_nearest_neighbors(\"투바투\")"
   ]
  },
  {
   "cell_type": "code",
   "execution_count": 9,
   "metadata": {},
   "outputs": [
    {
     "data": {
      "text/plain": [
       "[(0.8864094018936157, '스트릿'),\n",
       " (0.885384202003479, '생각'),\n",
       " (0.8852952718734741, '상황'),\n",
       " (0.8851924538612366, '제'),\n",
       " (0.8849736452102661, '준비'),\n",
       " (0.8849034905433655, '소리'),\n",
       " (0.8846746683120728, '대요'),\n",
       " (0.8845055103302002, '어머니'),\n",
       " (0.8844786286354065, '말'),\n",
       " (0.8844766616821289, '남동생')]"
      ]
     },
     "execution_count": 9,
     "metadata": {},
     "output_type": "execute_result"
    }
   ],
   "source": [
    "model.get_nearest_neighbors(\"스트릿우먼파이터\")"
   ]
  },
  {
   "cell_type": "code",
   "execution_count": 10,
   "metadata": {},
   "outputs": [
    {
     "data": {
      "text/plain": [
       "[(0.322029709815979, '우파'),\n",
       " (0.16155926883220673, '부수'),\n",
       " (0.15972201526165009, '체질'),\n",
       " (0.15927565097808838, '품'),\n",
       " (0.1560511440038681, '규'),\n",
       " (0.15519766509532928, '들'),\n",
       " (0.1529659479856491, '흑발'),\n",
       " (0.1372155100107193, '유재석'),\n",
       " (0.13609635829925537, '투샷'),\n",
       " (0.1341850459575653, '위반')]"
      ]
     },
     "execution_count": 10,
     "metadata": {},
     "output_type": "execute_result"
    }
   ],
   "source": [
    "model.get_nearest_neighbors(\"스우파\")"
   ]
  },
  {
   "cell_type": "code",
   "execution_count": 7,
   "metadata": {},
   "outputs": [
    {
     "data": {
      "text/plain": [
       "[(0.1927747130393982, '영웅'),\n",
       " (0.17807018756866455, '맏형'),\n",
       " (0.17607620358467102, '수법'),\n",
       " (0.16342267394065857, '고래'),\n",
       " (0.1562161147594452, '부대'),\n",
       " (0.1534673124551773, '합치'),\n",
       " (0.15250903367996216, '놀란'),\n",
       " (0.15124337375164032, '왈'),\n",
       " (0.14971914887428284, '일치'),\n",
       " (0.14857125282287598, '마름')]"
      ]
     },
     "execution_count": 7,
     "metadata": {},
     "output_type": "execute_result"
    }
   ],
   "source": [
    "model.get_nearest_neighbors(\"쭈왑\")"
   ]
  },
  {
   "cell_type": "code",
   "execution_count": 55,
   "metadata": {},
   "outputs": [
    {
     "data": {
      "text/plain": [
       "[(0.1927747130393982, '영웅'),\n",
       " (0.17807018756866455, '맏형'),\n",
       " (0.17607620358467102, '수법'),\n",
       " (0.16342267394065857, '고래'),\n",
       " (0.1562161147594452, '부대'),\n",
       " (0.1534673124551773, '합치'),\n",
       " (0.15250903367996216, '놀란'),\n",
       " (0.15124337375164032, '왈'),\n",
       " (0.14971914887428284, '일치'),\n",
       " (0.14857125282287598, '마름')]"
      ]
     },
     "execution_count": 55,
     "metadata": {},
     "output_type": "execute_result"
    }
   ],
   "source": [
    "test = []\n",
    "test = model.get_nearest_neighbors(\"쭈왑\")\n",
    "\n",
    "test"
   ]
  },
  {
   "cell_type": "code",
   "execution_count": 56,
   "metadata": {},
   "outputs": [
    {
     "name": "stdout",
     "output_type": "stream",
     "text": [
      "영웅\n",
      "맏형\n",
      "수법\n",
      "고래\n",
      "부대\n",
      "합치\n",
      "놀란\n",
      "왈\n",
      "일치\n",
      "마름\n"
     ]
    }
   ],
   "source": [
    "for i in range(10):\n",
    "    \n",
    "    k = test[i][1]\n",
    "    print(k)"
   ]
  },
  {
   "cell_type": "code",
   "execution_count": 57,
   "metadata": {},
   "outputs": [
    {
     "name": "stdout",
     "output_type": "stream",
     "text": [
      "True\n",
      "False\n",
      "False\n",
      "False\n",
      "False\n",
      "False\n",
      "False\n",
      "True\n",
      "True\n",
      "False\n"
     ]
    }
   ],
   "source": [
    "def check_string(string):\n",
    "    with open('SentiWord_Dict.txt','r', encoding='utf-8') as temp_f:\n",
    "        datafile = temp_f.readlines()\n",
    "    for line in datafile:\n",
    "        if string in line:\n",
    "            return True\n",
    "    return False\n",
    "\n",
    "for i in range(10):\n",
    "    \n",
    "    k = test[i][1]\n",
    "    if check_string(k):\n",
    "        print('True')\n",
    "    else:\n",
    "        print('False')"
   ]
  },
  {
   "cell_type": "code",
   "execution_count": 71,
   "metadata": {},
   "outputs": [
    {
     "name": "stdout",
     "output_type": "stream",
     "text": [
      "2\n",
      "-2\n",
      "-1\n"
     ]
    }
   ],
   "source": [
    "import re\n",
    "\n",
    "def check_string(string):\n",
    "    with open('SentiWord_Dict.txt','r', encoding='utf-8') as temp_f:\n",
    "        datafile = temp_f.readlines()\n",
    "    for line in datafile:\n",
    "        if string in line:\n",
    "            print(re.sub(r'[^0-9-?\\d+]', '', line))\n",
    "            return True\n",
    "    return False\n",
    "\n",
    "for i in range(10):\n",
    "    \n",
    "    k = test[i][1]\n",
    "    check_string(k)"
   ]
  },
  {
   "cell_type": "code",
   "execution_count": null,
   "metadata": {},
   "outputs": [],
   "source": []
  }
 ],
 "metadata": {
  "kernelspec": {
   "display_name": "Python 3",
   "language": "python",
   "name": "python3"
  },
  "language_info": {
   "codemirror_mode": {
    "name": "ipython",
    "version": 3
   },
   "file_extension": ".py",
   "mimetype": "text/x-python",
   "name": "python",
   "nbconvert_exporter": "python",
   "pygments_lexer": "ipython3",
   "version": "3.7.6"
  }
 },
 "nbformat": 4,
 "nbformat_minor": 4
}
